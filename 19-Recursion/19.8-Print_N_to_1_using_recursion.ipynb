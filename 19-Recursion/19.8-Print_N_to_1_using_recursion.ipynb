{
 "cells": [
  {
   "cell_type": "markdown",
   "metadata": {},
   "source": [
    "Print N to 1 using Recursion\n",
    "\n",
    "Problem Description:\n",
    "\n",
    "You are given a positive integer n. Your task is to return a list of integers from n to 1 using recursion.\n",
    "\n",
    "\n",
    "\n",
    "Input:\n",
    "\n",
    "A positive integer n, where 1 <= n <= 1000.\n",
    "\n",
    "\n",
    "\n",
    "Output:\n",
    "\n",
    "A list of integers from n to 1.\n",
    "\n",
    "\n",
    "\n",
    "Example:\n",
    "\n",
    "Input: n = 5\n",
    "\n",
    "Output: [5, 4, 3, 2, 1]\n",
    " \n",
    "Input: n = 3\n",
    "\n",
    "Output: [3, 2, 1]"
   ]
  },
  {
   "cell_type": "code",
   "execution_count": 3,
   "metadata": {},
   "outputs": [
    {
     "name": "stdout",
     "output_type": "stream",
     "text": [
      "[1, 2, 3, 4, 5, 6, 7, 8, 9, 10]\n"
     ]
    }
   ],
   "source": [
    "def count_down(n):\n",
    "    if n==1:\n",
    "        return [1]\n",
    "    return  count_down(n-1) +[n]\n",
    "\n",
    "print(count_down(10))"
   ]
  },
  {
   "cell_type": "code",
   "execution_count": 5,
   "metadata": {},
   "outputs": [
    {
     "name": "stdout",
     "output_type": "stream",
     "text": [
      "1358\n"
     ]
    }
   ],
   "source": [
    "def sum_of_digit(n):\n",
    "    if n==1:\n",
    "        return 1 \n",
    "    small = int(n/10)\n",
    "    small_value = sum_of_digit(small)\n",
    "    ans = + small_value\n",
    "    return ans \n",
    "print(sum_of_digit(1223))"
   ]
  },
  {
   "cell_type": "code",
   "execution_count": null,
   "metadata": {},
   "outputs": [],
   "source": []
  }
 ],
 "metadata": {
  "kernelspec": {
   "display_name": "venv",
   "language": "python",
   "name": "python3"
  },
  "language_info": {
   "codemirror_mode": {
    "name": "ipython",
    "version": 3
   },
   "file_extension": ".py",
   "mimetype": "text/x-python",
   "name": "python",
   "nbconvert_exporter": "python",
   "pygments_lexer": "ipython3",
   "version": "3.12.0"
  }
 },
 "nbformat": 4,
 "nbformat_minor": 2
}
