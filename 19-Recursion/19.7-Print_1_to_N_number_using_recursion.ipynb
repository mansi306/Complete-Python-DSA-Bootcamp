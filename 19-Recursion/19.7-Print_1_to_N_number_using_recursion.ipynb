{
 "cells": [
  {
   "cell_type": "markdown",
   "metadata": {},
   "source": [
    "Print 1 to N using Recursion\n",
    "\n",
    "Problem Description:\n",
    "\n",
    "You are given a positive integer n. Your task is to return a list of integers from 1 to n using recursion.\n",
    "\n",
    "\n",
    "\n",
    "Input:\n",
    "\n",
    "A positive integer n, where 1 <= n <= 1000.\n",
    "\n",
    "\n",
    "\n",
    "Output:\n",
    "\n",
    "A list of integers from 1 to n.\n",
    "\n",
    "\n",
    "\n",
    "Example:\n",
    "\n",
    "Input: n = 5\n",
    "\n",
    "Output: [1, 2, 3, 4, 5]\n",
    " \n",
    "Input: n = 3\n",
    "\n",
    "Output: [1, 2, 3]"
   ]
  },
  {
   "cell_type": "code",
   "execution_count": 7,
   "metadata": {},
   "outputs": [
    {
     "name": "stdout",
     "output_type": "stream",
     "text": [
      "[1, 2, 3, 4, 5]\n"
     ]
    }
   ],
   "source": [
    "def count_to_n(n):\n",
    "    \"\"\"\n",
    "    Function to return a list of integers from 1 to n using recursion.\n",
    "    \n",
    "    Parameters:\n",
    "    n (int): The positive integer representing the upper limit of the range.\n",
    "    \n",
    "    Returns:\n",
    "    list: A list of integers from 1 to n.\n",
    "    \"\"\"\n",
    "    # Your code here\n",
    "    if n == 1:\n",
    "        return [1]\n",
    "    \n",
    "    return count_to_n(n-1)+[n]\n",
    "print(count_to_n(5))"
   ]
  },
  {
   "cell_type": "code",
   "execution_count": 6,
   "metadata": {},
   "outputs": [
    {
     "name": "stdout",
     "output_type": "stream",
     "text": [
      "1\n",
      "2\n",
      "3\n",
      "4\n",
      "5\n",
      "None\n"
     ]
    }
   ],
   "source": [
    "def one_to_N(n):\n",
    "    if n==0:\n",
    "        return 0\n",
    "    one_to_N(n-1)\n",
    "    print(n)\n",
    "print(one_to_N(5))"
   ]
  },
  {
   "cell_type": "markdown",
   "metadata": {},
   "source": []
  },
  {
   "cell_type": "code",
   "execution_count": null,
   "metadata": {},
   "outputs": [],
   "source": []
  }
 ],
 "metadata": {
  "kernelspec": {
   "display_name": "Python 3",
   "language": "python",
   "name": "python3"
  },
  "language_info": {
   "codemirror_mode": {
    "name": "ipython",
    "version": 3
   },
   "file_extension": ".py",
   "mimetype": "text/x-python",
   "name": "python",
   "nbconvert_exporter": "python",
   "pygments_lexer": "ipython3",
   "version": "3.12.0"
  }
 },
 "nbformat": 4,
 "nbformat_minor": 2
}
