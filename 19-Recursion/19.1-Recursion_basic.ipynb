{
 "cells": [
  {
   "cell_type": "code",
   "execution_count": 18,
   "metadata": {},
   "outputs": [
    {
     "name": "stdout",
     "output_type": "stream",
     "text": [
      "5\n",
      "4\n",
      "3\n",
      "2\n",
      "1\n",
      "None\n"
     ]
    }
   ],
   "source": [
    "def print_name(num):\n",
    "    #  start,stop,step \n",
    "    for i in range(num,0,-1):\n",
    "        print(i)\n",
    "\n",
    "print(print_name(5))"
   ]
  },
  {
   "cell_type": "code",
   "execution_count": 19,
   "metadata": {},
   "outputs": [
    {
     "name": "stdout",
     "output_type": "stream",
     "text": [
      "5\n",
      "4\n",
      "3\n",
      "2\n",
      "1\n",
      "None\n"
     ]
    }
   ],
   "source": [
    "'''To just use above function and single print function to print out numbers from 5 to 1 '''\n",
    "\n",
    "def printNum_five(num):\n",
    "    print(num)\n",
    "    printNum_four(num-1)\n",
    "\n",
    "def printNum_four(num):\n",
    "    print(num)\n",
    "    printNum_three(num-1)\n",
    "\n",
    "def printNum_three(num):\n",
    "    print(num)\n",
    "    printNum_two(num-1)\n",
    "\n",
    "def printNum_two(num):\n",
    "    print(num)\n",
    "    printNum_one(num-1)\n",
    "\n",
    "def printNum_one(num):\n",
    "    print(num)\n",
    "\n",
    "\n",
    "\n",
    "print(printNum_five(5))"
   ]
  },
  {
   "cell_type": "code",
   "execution_count": 28,
   "metadata": {},
   "outputs": [
    {
     "name": "stdout",
     "output_type": "stream",
     "text": [
      "5\n",
      "4\n",
      "3\n",
      "2\n",
      "1\n",
      "None\n",
      "hello world\n"
     ]
    }
   ],
   "source": [
    "def printNum_five(num):\n",
    "    print(num)\n",
    "    if (num==1):\n",
    "        return\n",
    "    \n",
    "    printNum_four(num-1)\n",
    "print(printNum_five(5))\n",
    "print(\"hello world\")"
   ]
  },
  {
   "cell_type": "code",
   "execution_count": null,
   "metadata": {},
   "outputs": [],
   "source": []
  },
  {
   "cell_type": "code",
   "execution_count": null,
   "metadata": {},
   "outputs": [],
   "source": []
  }
 ],
 "metadata": {
  "kernelspec": {
   "display_name": "venv",
   "language": "python",
   "name": "python3"
  },
  "language_info": {
   "codemirror_mode": {
    "name": "ipython",
    "version": 3
   },
   "file_extension": ".py",
   "mimetype": "text/x-python",
   "name": "python",
   "nbconvert_exporter": "python",
   "pygments_lexer": "ipython3",
   "version": "3.12.0"
  }
 },
 "nbformat": 4,
 "nbformat_minor": 2
}
