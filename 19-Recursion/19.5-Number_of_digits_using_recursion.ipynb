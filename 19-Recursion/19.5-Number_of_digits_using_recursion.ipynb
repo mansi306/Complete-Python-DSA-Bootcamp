{
 "cells": [
  {
   "cell_type": "markdown",
   "metadata": {},
   "source": [
    "Number of Digits using Recursion\n",
    "\n",
    "Problem Description:\n",
    "\n",
    "You are given a positive integer n. Your task is to find the number of digits in the integer using recursion.\n",
    "\n",
    "\n",
    "\n",
    "Input:\n",
    "\n",
    "A positive integer n, where 1 <= n <= 10^9.\n",
    "\n",
    "\n",
    "\n",
    "Output:\n",
    "\n",
    "An integer representing the number of digits in n.\n",
    "\n",
    "\n",
    "\n",
    "Example:\n",
    "\n",
    "Input: n = 12345\n",
    "\n",
    "Output: 5\n",
    " \n",
    "Input: n = 7\n",
    "\n",
    "Output: 1"
   ]
  },
  {
   "cell_type": "code",
   "execution_count": 3,
   "metadata": {},
   "outputs": [
    {
     "name": "stdout",
     "output_type": "stream",
     "text": [
      "10\n"
     ]
    }
   ],
   "source": [
    "def count_digits(n):\n",
    "    if n>=1 and n<=9:\n",
    "        return 1 \n",
    "    elif n == 0 :\n",
    "        return 1\n",
    "    small_num = int(n/10)\n",
    "    small_ans = count_digits(small_num)\n",
    "    ans = 1 + small_ans\n",
    "    return ans \n",
    "\n",
    "print(count_digits(3334354545))\n"
   ]
  },
  {
   "cell_type": "code",
   "execution_count": null,
   "metadata": {},
   "outputs": [],
   "source": []
  }
 ],
 "metadata": {
  "kernelspec": {
   "display_name": "Python 3",
   "language": "python",
   "name": "python3"
  },
  "language_info": {
   "codemirror_mode": {
    "name": "ipython",
    "version": 3
   },
   "file_extension": ".py",
   "mimetype": "text/x-python",
   "name": "python",
   "nbconvert_exporter": "python",
   "pygments_lexer": "ipython3",
   "version": "3.12.0"
  }
 },
 "nbformat": 4,
 "nbformat_minor": 2
}
