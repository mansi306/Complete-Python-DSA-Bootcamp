{
 "cells": [
  {
   "cell_type": "markdown",
   "metadata": {},
   "source": [
    "Sum of N numbers using Recursion\n",
    "\n",
    "Problem Description:\n",
    "\n",
    "You are given a non-negative integer n. Your task is to find the sum of the first n natural numbers using recursion. The sum of the first n natural numbers is given by the formula S=1+2+3+...+nS = 1 + 2 + 3 + ... + nS=1+2+3+...+n.\n",
    "\n",
    "\n",
    "\n",
    "Input:\n",
    "\n",
    "A non-negative integer n, where 0 <= n <= 1000.\n",
    "\n",
    "\n",
    "\n",
    "Output:\n",
    "\n",
    "An integer representing the sum of the first n natural numbers.\n",
    "\n",
    "\n",
    "\n",
    "Example:\n",
    "\n",
    "Input: n = 5\n",
    "\n",
    "Output: 15  # (1 + 2 + 3 + 4 + 5)\n",
    " \n",
    "Input: n = 0\n",
    "\n",
    "Output: 0   # Sum of zero natural numbers"
   ]
  },
  {
   "cell_type": "code",
   "execution_count": 2,
   "metadata": {},
   "outputs": [
    {
     "name": "stdout",
     "output_type": "stream",
     "text": [
      "0\n"
     ]
    }
   ],
   "source": [
    "def sum_of_n_numbers(n):\n",
    "    if n == 0:\n",
    "        return 0 \n",
    "\n",
    "    sum = n+ sum_of_n_numbers(n-1)\n",
    "    return sum \n",
    "\n",
    "print(sum_of_n_numbers(0))"
   ]
  },
  {
   "cell_type": "code",
   "execution_count": null,
   "metadata": {},
   "outputs": [],
   "source": []
  }
 ],
 "metadata": {
  "kernelspec": {
   "display_name": "venv",
   "language": "python",
   "name": "python3"
  },
  "language_info": {
   "codemirror_mode": {
    "name": "ipython",
    "version": 3
   },
   "file_extension": ".py",
   "mimetype": "text/x-python",
   "name": "python",
   "nbconvert_exporter": "python",
   "pygments_lexer": "ipython3",
   "version": "3.12.0"
  }
 },
 "nbformat": 4,
 "nbformat_minor": 2
}
