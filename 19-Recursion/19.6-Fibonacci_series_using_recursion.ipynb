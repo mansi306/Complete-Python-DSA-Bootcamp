{
 "cells": [
  {
   "cell_type": "markdown",
   "metadata": {},
   "source": [
    "Fibonacci Series using Recursion\n",
    "\n",
    "Problem Description:\n",
    "\n",
    "You are given a non-negative integer n. Your task is to find the nth Fibonacci number using recursion. The Fibonacci sequence is defined as follows:\n",
    "\n",
    "F(0)=0F(0) = 0F(0)=0\n",
    "\n",
    "F(1)=1F(1) = 1F(1)=1\n",
    "\n",
    "For n≥2n \\geq 2n≥2, F(n)=F(n−1)+F(n−2)F(n) = F(n-1) + F(n-2)F(n)=F(n−1)+F(n−2)\n",
    "\n",
    "\n",
    "\n",
    "Input:\n",
    "\n",
    "A non-negative integer n, where 0 <= n <= 30.\n",
    "\n",
    "\n",
    "\n",
    "Output:\n",
    "\n",
    "An integer representing the nth Fibonacci number.\n",
    "\n",
    "\n",
    "\n",
    "Example:\n",
    "\n",
    "Input: n = 5\n",
    "\n",
    "Output: 5  # \n",
    "\n",
    "Fibonacci sequence: 0, 1, 1, 2, 3, 5\n",
    " \n",
    "Input: n = 0\n",
    "\n",
    "Output: 0  # F(0) = 0\n"
   ]
  },
  {
   "cell_type": "code",
   "execution_count": 5,
   "metadata": {},
   "outputs": [
    {
     "name": "stdout",
     "output_type": "stream",
     "text": [
      "13\n"
     ]
    }
   ],
   "source": [
    "def fibonacci_series(n):\n",
    "    if n==0:\n",
    "        return 0\n",
    "    elif n==1:\n",
    "        return 1\n",
    "    ans = fibonacci_series(n-1)+ fibonacci_series(n-2)\n",
    "    return (ans)\n",
    "print(fibonacci_series(7))"
   ]
  },
  {
   "cell_type": "code",
   "execution_count": null,
   "metadata": {},
   "outputs": [],
   "source": []
  }
 ],
 "metadata": {
  "kernelspec": {
   "display_name": "Python 3",
   "language": "python",
   "name": "python3"
  },
  "language_info": {
   "codemirror_mode": {
    "name": "ipython",
    "version": 3
   },
   "file_extension": ".py",
   "mimetype": "text/x-python",
   "name": "python",
   "nbconvert_exporter": "python",
   "pygments_lexer": "ipython3",
   "version": "3.12.0"
  }
 },
 "nbformat": 4,
 "nbformat_minor": 2
}
