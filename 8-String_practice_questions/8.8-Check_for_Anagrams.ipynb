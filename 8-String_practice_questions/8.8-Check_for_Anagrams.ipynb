{
 "cells": [
  {
   "cell_type": "markdown",
   "metadata": {},
   "source": [
    "Check for anagrams\n",
    "Problem Description:\n",
    "\n",
    "You are given two strings s and t. Your task is to determine if string t is an anagram of string s. An anagram is a word or phrase formed by rearranging the characters of a different word or phrase, using all the original characters exactly once.\n",
    "\n",
    "\n",
    "\n",
    "Input:\n",
    "\n",
    "Two strings s and t where both lengths are between 1 and 1000.\n",
    "\n",
    "\n",
    "\n",
    "Output:\n",
    "\n",
    "Return True if t is an anagram of s, and False otherwise.\n",
    "\n",
    "\n",
    "\n",
    "Example:\n",
    "\n",
    "Input: s = \"anagram\", t = \"nagaram\"\n",
    "\n",
    "Output: True\n",
    " \n",
    "Input: s = \"rat\", t = \"car\"\n",
    "\n",
    "Output: False"
   ]
  },
  {
   "cell_type": "code",
   "execution_count": 3,
   "metadata": {},
   "outputs": [
    {
     "name": "stdout",
     "output_type": "stream",
     "text": [
      "False\n"
     ]
    }
   ],
   "source": [
    "def is_anagram(s,t):\n",
    "    dict_value = {}\n",
    "    for letter in s:\n",
    "        if letter not in dict_value:\n",
    "            dict_value[letter]=1\n",
    "        else:\n",
    "            dict_value[letter]+=1\n",
    "    for letter in t:\n",
    "        if letter not in dict_value:\n",
    "            return False\n",
    "        else:\n",
    "            dict_value[letter]-=1\n",
    "    \n",
    "    for value in dict_value.values():\n",
    "        if value!=0:\n",
    "            return False\n",
    "    return True\n",
    "\n",
    "s = \"cat\"\n",
    "t = \"rat\"\n",
    "print(is_anagram(s,t))\n"
   ]
  },
  {
   "cell_type": "code",
   "execution_count": null,
   "metadata": {},
   "outputs": [],
   "source": []
  }
 ],
 "metadata": {
  "kernelspec": {
   "display_name": "venv",
   "language": "python",
   "name": "python3"
  },
  "language_info": {
   "codemirror_mode": {
    "name": "ipython",
    "version": 3
   },
   "file_extension": ".py",
   "mimetype": "text/x-python",
   "name": "python",
   "nbconvert_exporter": "python",
   "pygments_lexer": "ipython3",
   "version": "3.12.0"
  }
 },
 "nbformat": 4,
 "nbformat_minor": 2
}
