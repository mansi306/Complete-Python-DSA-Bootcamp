{
 "cells": [
  {
   "cell_type": "markdown",
   "metadata": {},
   "source": [
    "Count Vowels in a string\n",
    "\n",
    "Problem Description:\n",
    "\n",
    "You are given a string s. Your task is to count the number of vowels (both uppercase and lowercase) in the string and return the total count.\n",
    "\n",
    "\n",
    "\n",
    "Input:\n",
    "\n",
    "A single string s, where the length of s is between 1 and 1000.\n",
    "\n",
    "\n",
    "\n",
    "Output:\n",
    "\n",
    "An integer representing the total count of vowels in the input string.\n",
    "\n",
    "\n",
    "\n",
    "Example:\n",
    "\n",
    "Input: \"Hello, World!\"\n",
    "\n",
    "Output: 3\n",
    " \n",
    "Input: \"Python Programming\"\n",
    "\n",
    "Output: 4\n",
    "\n",
    "\n",
    "Disclaimer: This Udemy coding exercise is still in development, so some advanced complexities might not be fully checked. Please use it primarily for basic code validation."
   ]
  },
  {
   "cell_type": "code",
   "execution_count": 3,
   "metadata": {},
   "outputs": [
    {
     "name": "stdout",
     "output_type": "stream",
     "text": [
      "4\n"
     ]
    }
   ],
   "source": [
    "def count_vowels(s):\n",
    "    new_s = s.lower()\n",
    "    sum=0\n",
    "    for i in new_s:\n",
    "        if i=='a' or i=='e' or i=='i' or i=='o' or i=='u':\n",
    "            sum+=1\n",
    "    return sum\n",
    "\n",
    "s = \"Python Programming\"\n",
    "print(count_vowels(s))\n"
   ]
  },
  {
   "cell_type": "code",
   "execution_count": 4,
   "metadata": {},
   "outputs": [
    {
     "name": "stdout",
     "output_type": "stream",
     "text": [
      "4\n"
     ]
    }
   ],
   "source": [
    "def count_vowels(s):\n",
    "    vowel = \"aeiouAEIOU\"\n",
    "    count=0\n",
    "    for char in s:\n",
    "        if char in vowel:\n",
    "            count+=1\n",
    "    return count \n",
    "s = \"Python Programming\"\n",
    "print(count_vowels(s))\n"
   ]
  },
  {
   "cell_type": "code",
   "execution_count": null,
   "metadata": {},
   "outputs": [],
   "source": []
  }
 ],
 "metadata": {
  "kernelspec": {
   "display_name": "venv",
   "language": "python",
   "name": "python3"
  },
  "language_info": {
   "codemirror_mode": {
    "name": "ipython",
    "version": 3
   },
   "file_extension": ".py",
   "mimetype": "text/x-python",
   "name": "python",
   "nbconvert_exporter": "python",
   "pygments_lexer": "ipython3",
   "version": "3.12.0"
  }
 },
 "nbformat": 4,
 "nbformat_minor": 2
}
