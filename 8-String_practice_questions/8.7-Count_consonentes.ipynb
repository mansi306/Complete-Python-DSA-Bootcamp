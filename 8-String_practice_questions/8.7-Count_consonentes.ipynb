{
 "cells": [
  {
   "cell_type": "markdown",
   "metadata": {},
   "source": [
    "Count consonants in a string\n",
    "\n",
    "Problem Description:\n",
    "\n",
    "You are given a string s. Your task is to count the number of consonants in the string and return the total count. A consonant is any alphabetic character that is not a vowel (a, e, i, o, u).\n",
    "\n",
    "\n",
    "\n",
    "Input:\n",
    "\n",
    "A single string s, where the length of s is between 1 and 1000.\n",
    "\n",
    "\n",
    "\n",
    "Output:\n",
    "\n",
    "An integer representing the total count of consonants in the input string.\n",
    "\n",
    "\n",
    "\n",
    "Example:\n",
    "\n",
    "Input: \"Hello, World!\"\n",
    "\n",
    "Output: 7\n",
    " \n",
    "Input: \"Python Programming\"\n",
    "\n",
    "Output: 13"
   ]
  },
  {
   "cell_type": "code",
   "execution_count": 5,
   "metadata": {},
   "outputs": [
    {
     "name": "stdout",
     "output_type": "stream",
     "text": [
      "7\n"
     ]
    }
   ],
   "source": [
    "def count_consonent(s):\n",
    "    new_str = s.lower()\n",
    "    vowel = \"bcdfghjklmnpqrstvwxyz\"\n",
    "    count =0\n",
    "    for i in new_str:\n",
    "        if i in vowel:\n",
    "            count+=1\n",
    "    return count\n",
    "s =  \"Hello, World!\"\n",
    "print(count_consonent(s))"
   ]
  },
  {
   "cell_type": "code",
   "execution_count": 7,
   "metadata": {},
   "outputs": [
    {
     "name": "stdout",
     "output_type": "stream",
     "text": [
      "7\n"
     ]
    }
   ],
   "source": [
    "def count_consonent(s):\n",
    "    new_str = s.lower()\n",
    "    vowel = \"aeiou\"\n",
    "    count = 0\n",
    "    for i in new_str:\n",
    "        if i.isalpha() and i not in vowel :\n",
    "            count+=1\n",
    "    return count\n",
    "s =  \"Hello, World!\"\n",
    "print(count_consonent(s))"
   ]
  },
  {
   "cell_type": "code",
   "execution_count": 10,
   "metadata": {},
   "outputs": [
    {
     "name": "stdout",
     "output_type": "stream",
     "text": [
      "6\n"
     ]
    }
   ],
   "source": [
    "def count_consonent(s):\n",
    "    vowel = \"aeiouAEIOU\"\n",
    "    count =0\n",
    "    for i in s:\n",
    "        if ('a'<=i<='z') or ('A'<=i<='Z'):\n",
    "            if i not in vowel:\n",
    "                count+=1\n",
    "    return count\n",
    "s =  \"Mansi Patil\"\n",
    "print(count_consonent(s))\n",
    "\n",
    "\n"
   ]
  },
  {
   "cell_type": "code",
   "execution_count": null,
   "metadata": {},
   "outputs": [],
   "source": []
  }
 ],
 "metadata": {
  "kernelspec": {
   "display_name": "venv",
   "language": "python",
   "name": "python3"
  },
  "language_info": {
   "codemirror_mode": {
    "name": "ipython",
    "version": 3
   },
   "file_extension": ".py",
   "mimetype": "text/x-python",
   "name": "python",
   "nbconvert_exporter": "python",
   "pygments_lexer": "ipython3",
   "version": "3.12.0"
  }
 },
 "nbformat": 4,
 "nbformat_minor": 2
}
