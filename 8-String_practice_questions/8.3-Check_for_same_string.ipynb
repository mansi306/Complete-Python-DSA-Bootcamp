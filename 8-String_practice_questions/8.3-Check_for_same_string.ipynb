{
 "cells": [
  {
   "cell_type": "markdown",
   "metadata": {},
   "source": [
    "Check for same strings\n",
    "Problem Description:\n",
    "\n",
    "You are given two strings s and t. Your task is to check if the two strings are equal. Two strings are considered equal if they have the same length and the same characters at each position. You are not allowed to use any built-in string comparison functions.\n",
    "\n",
    "\n",
    "\n",
    "Input:\n",
    "\n",
    "Two strings s and t, where 1 <= len(s), len(t) <= 1000.\n",
    "\n",
    "\n",
    "\n",
    "Output:\n",
    "\n",
    "A boolean value (True or False) indicating whether the two strings are equal.\n",
    "\n",
    "\n",
    "\n",
    "Example:\n",
    "\n",
    "Input: s = \"hello\", t = \"hello\"\n",
    "\n",
    "Output: True\n",
    " \n",
    "Input: s = \"hello\", t = \"world\"\n",
    "\n",
    "Output: False\n",
    "\n",
    "\n",
    "Disclaimer: This Udemy coding exercise is still in development, so some advanced complexities might not be fully checked. Please use it primarily for basic code validation."
   ]
  },
  {
   "cell_type": "code",
   "execution_count": 4,
   "metadata": {},
   "outputs": [
    {
     "name": "stdout",
     "output_type": "stream",
     "text": [
      "False\n"
     ]
    }
   ],
   "source": [
    "def are_equal_strings(s,t):\n",
    "    if s==t:\n",
    "        return True\n",
    "    else:\n",
    "        return False\n",
    "\n",
    "s = \"hello\"\n",
    "t = \"world\"\n",
    "print(are_equal_strings(s,t))"
   ]
  },
  {
   "cell_type": "code",
   "execution_count": null,
   "metadata": {},
   "outputs": [],
   "source": []
  }
 ],
 "metadata": {
  "kernelspec": {
   "display_name": "venv",
   "language": "python",
   "name": "python3"
  },
  "language_info": {
   "codemirror_mode": {
    "name": "ipython",
    "version": 3
   },
   "file_extension": ".py",
   "mimetype": "text/x-python",
   "name": "python",
   "nbconvert_exporter": "python",
   "pygments_lexer": "ipython3",
   "version": "3.12.0"
  }
 },
 "nbformat": 4,
 "nbformat_minor": 2
}
