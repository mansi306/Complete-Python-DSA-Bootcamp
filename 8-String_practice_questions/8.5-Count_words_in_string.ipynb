{
 "cells": [
  {
   "cell_type": "markdown",
   "metadata": {},
   "source": [
    "Count words in a string\n",
    "\n",
    "Problem Description:\n",
    "\n",
    "You are given a string s. Your task is to count the number of words in the string and return the total count. A word is defined as a sequence of characters separated by spaces.\n",
    "\n",
    "\n",
    "\n",
    "Input:\n",
    "\n",
    "A single string s, where the length of s is between 1 and 1000.\n",
    "\n",
    "\n",
    "\n",
    "Output:\n",
    "\n",
    "An integer representing the total count of words in the input string.\n",
    "\n",
    "\n",
    "\n",
    "Example:\n",
    "\n",
    "Input: \"Hello, World!\"\n",
    "\n",
    "Output: 2\n",
    " \n",
    "Input: \"Python programming is fun.\"\n",
    "\n",
    "Output: 4\n"
   ]
  },
  {
   "cell_type": "code",
   "execution_count": 2,
   "metadata": {},
   "outputs": [
    {
     "name": "stdout",
     "output_type": "stream",
     "text": [
      "4\n"
     ]
    }
   ],
   "source": [
    "def count_words(s):\n",
    "    count = 0\n",
    "    in_word = False\n",
    "    for char in s :\n",
    "        if char == ' ':\n",
    "            in_word = False\n",
    "        elif not in_word:\n",
    "            count+=1\n",
    "            in_word=True\n",
    "\n",
    "    return count \n",
    "\n",
    "s = \"Python programming is fun.\"\n",
    "\n",
    "print(count_words(s))"
   ]
  },
  {
   "cell_type": "code",
   "execution_count": 2,
   "metadata": {},
   "outputs": [
    {
     "name": "stdout",
     "output_type": "stream",
     "text": [
      "2\n"
     ]
    }
   ],
   "source": [
    "def count_words(s):\n",
    "    new_w = s.split()\n",
    "    word = []\n",
    "    for char in new_w:\n",
    "        word.append(char)\n",
    "    return len(word)\n",
    "\n",
    "s = \"Hello, World!\"\n",
    "\n",
    "print(count_words(s))"
   ]
  },
  {
   "cell_type": "code",
   "execution_count": null,
   "metadata": {},
   "outputs": [
    {
     "name": "stdout",
     "output_type": "stream",
     "text": [
      "13\n"
     ]
    }
   ],
   "source": [
    "def count_words(s):\n",
    "    \"\"\"\n",
    "    Function to count the number of words in the input string.\n",
    "    \n",
    "    Parameters:\n",
    "    s (str): The input string to check for words.\n",
    "    \n",
    "    Returns:\n",
    "    int: The count of words in the input string.\n",
    "    \"\"\"\n",
    "    # Your code here\n",
    "    new_str = s.split()\n",
    "    word = []\n",
    "    for i in :\n",
    "        word.append(i)\n",
    "    return len(word)\n",
    "s = \"Hello, World!\"\n",
    "\n",
    "print(count_words(s))"
   ]
  },
  {
   "cell_type": "code",
   "execution_count": null,
   "metadata": {},
   "outputs": [],
   "source": []
  }
 ],
 "metadata": {
  "kernelspec": {
   "display_name": "venv",
   "language": "python",
   "name": "python3"
  },
  "language_info": {
   "codemirror_mode": {
    "name": "ipython",
    "version": 3
   },
   "file_extension": ".py",
   "mimetype": "text/x-python",
   "name": "python",
   "nbconvert_exporter": "python",
   "pygments_lexer": "ipython3",
   "version": "3.12.0"
  }
 },
 "nbformat": 4,
 "nbformat_minor": 2
}
