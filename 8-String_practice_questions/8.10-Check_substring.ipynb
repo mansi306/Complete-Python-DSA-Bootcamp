{
 "cells": [
  {
   "cell_type": "markdown",
   "metadata": {},
   "source": [
    "Check for Substring\n",
    "Problem Description:\n",
    "\n",
    "You are given two strings, s and t. Your task is to determine if the string t is a substring of the string s. A substring is a contiguous sequence of characters within a string. Do not use any built-in functions for string operations and do not use recursion.\n",
    "\n",
    "\n",
    "\n",
    "Input:\n",
    "\n",
    "Two strings s and t, where 1 <= len(s), len(t) <= 1000.\n",
    "\n",
    "\n",
    "\n",
    "Output:\n",
    "\n",
    "A boolean value (True or False) indicating whether t is a substring of s.\n",
    "\n",
    "\n",
    "\n",
    "Example:\n",
    "\n",
    "Input: s = \"hello world\", t = \"world\"\n",
    "\n",
    "Output: True\n",
    " \n",
    "Input: s = \"hello world\", t = \"worlds\"\n",
    "\n",
    "Output: False"
   ]
  },
  {
   "cell_type": "code",
   "execution_count": 1,
   "metadata": {},
   "outputs": [
    {
     "name": "stdout",
     "output_type": "stream",
     "text": [
      "True\n"
     ]
    }
   ],
   "source": [
    "def is_substring(s,t):\n",
    "    if len(t)==0:\n",
    "        return True\n",
    "    i=j=0\n",
    "    while i<len(s):\n",
    "        if s[i]==t[j]:\n",
    "            j+=1\n",
    "            if j==len(t):\n",
    "                return True\n",
    "        else:\n",
    "            i=i-j\n",
    "            j=0\n",
    "        i+=1\n",
    "    return False\n",
    "\n",
    "s = \"hello world\"\n",
    "t = \"world\"\n",
    "print(is_substring(s,t))\n",
    "\n"
   ]
  },
  {
   "cell_type": "code",
   "execution_count": null,
   "metadata": {},
   "outputs": [],
   "source": []
  }
 ],
 "metadata": {
  "kernelspec": {
   "display_name": "venv",
   "language": "python",
   "name": "python3"
  },
  "language_info": {
   "codemirror_mode": {
    "name": "ipython",
    "version": 3
   },
   "file_extension": ".py",
   "mimetype": "text/x-python",
   "name": "python",
   "nbconvert_exporter": "python",
   "pygments_lexer": "ipython3",
   "version": "3.12.0"
  }
 },
 "nbformat": 4,
 "nbformat_minor": 2
}
