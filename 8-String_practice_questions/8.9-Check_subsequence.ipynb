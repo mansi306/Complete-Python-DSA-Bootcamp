{
 "cells": [
  {
   "cell_type": "markdown",
   "metadata": {},
   "source": [
    "Check Subsequence\n",
    "Problem Description:\n",
    "\n",
    "You are given two strings s and t. Your task is to determine if string t is a subsequence of string s. A subsequence of a string is a new string that is formed from the original string by deleting some (or no) characters without changing the order of the remaining characters.\n",
    "\n",
    "\n",
    "\n",
    "Input:\n",
    "\n",
    "Two strings s and t where the length of s is between 1 and 1000, and the length of t is between 1 and 1000.\n",
    "\n",
    "\n",
    "\n",
    "Output:\n",
    "\n",
    "Return True if t is a subsequence of s, and False otherwise.\n",
    "\n",
    "\n",
    "\n",
    "Example:\n",
    "\n",
    "Input: s = \"abcde\", t = \"ace\"\n",
    "\n",
    "Output: True\n",
    " \n",
    "Input: s = \"abcde\", t = \"aec\"\n",
    "\n",
    "Output: False\n"
   ]
  },
  {
   "cell_type": "code",
   "execution_count": 2,
   "metadata": {},
   "outputs": [
    {
     "name": "stdout",
     "output_type": "stream",
     "text": [
      "False\n"
     ]
    }
   ],
   "source": [
    "def check_subsequence(s,t):\n",
    "    ptr_s=0\n",
    "    ptr_t =0\n",
    "    while ptr_s<len(s) and ptr_t<len(t):\n",
    "        if s[ptr_s]==t[ptr_t]:\n",
    "            ptr_t+=1\n",
    "        ptr_s+=1\n",
    "    return ptr_t>=len(t)\n",
    "s = \"abcde\"\n",
    "t  = \"aec\"\n",
    "print(check_subsequence(s,t))\n"
   ]
  },
  {
   "cell_type": "code",
   "execution_count": 4,
   "metadata": {},
   "outputs": [
    {
     "name": "stdout",
     "output_type": "stream",
     "text": [
      "False\n"
     ]
    }
   ],
   "source": [
    "def check_subsequence(s,t):\n",
    "    i=j=0\n",
    "    while i<len(s) and j<len(t):\n",
    "        if s[i]==t[j]:\n",
    "            j+=1\n",
    "        i+=1\n",
    "    return j==len(t)\n",
    "s = \"abcde\"\n",
    "t  = \"aec\"\n",
    "print(check_subsequence(s,t))\n",
    "        "
   ]
  },
  {
   "cell_type": "code",
   "execution_count": null,
   "metadata": {},
   "outputs": [],
   "source": []
  }
 ],
 "metadata": {
  "kernelspec": {
   "display_name": "venv",
   "language": "python",
   "name": "python3"
  },
  "language_info": {
   "codemirror_mode": {
    "name": "ipython",
    "version": 3
   },
   "file_extension": ".py",
   "mimetype": "text/x-python",
   "name": "python",
   "nbconvert_exporter": "python",
   "pygments_lexer": "ipython3",
   "version": "3.12.0"
  }
 },
 "nbformat": 4,
 "nbformat_minor": 2
}
