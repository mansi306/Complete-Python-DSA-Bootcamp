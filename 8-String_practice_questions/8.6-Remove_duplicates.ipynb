{
 "cells": [
  {
   "cell_type": "markdown",
   "metadata": {},
   "source": [
    "Remove Duplicates in a string\n",
    "Problem Description:\n",
    "\n",
    "You are given a string s. Your task is to remove duplicate characters from the string while preserving the order of the first occurrences and return the modified string.\n",
    "\n",
    "\n",
    "\n",
    "Input:\n",
    "\n",
    "A single string s, where the length of s is between 1 and 1000.\n",
    "\n",
    "\n",
    "\n",
    "Output:\n",
    "\n",
    "A string that contains only the first occurrence of each character from the input string.\n",
    "\n",
    "\n",
    "\n",
    "Example:\n",
    "\n",
    "Input: \"programming\"\n",
    "\n",
    "Output: \"progamin\"\n",
    " \n",
    "Input: \"Hello, World!\"\n",
    "\n",
    "Output: \"Helo, Wrd!\""
   ]
  },
  {
   "cell_type": "code",
   "execution_count": 2,
   "metadata": {},
   "outputs": [
    {
     "name": "stdout",
     "output_type": "stream",
     "text": [
      " Helo, Wrd!\n"
     ]
    }
   ],
   "source": [
    "def remove_duplicates(s):\n",
    "    result  = \" \"\n",
    "    seen = set()\n",
    "    for char in s:\n",
    "        if char not in seen :\n",
    "            result+=char \n",
    "            seen.add(char)\n",
    "    return result \n",
    "\n",
    "s = \"Hello, World!\"\n",
    "print(remove_duplicates(s))\n",
    "\n"
   ]
  },
  {
   "cell_type": "code",
   "execution_count": 3,
   "metadata": {},
   "outputs": [
    {
     "name": "stdout",
     "output_type": "stream",
     "text": [
      "Helo, Wrd!\n"
     ]
    }
   ],
   "source": [
    "def remove_duplicates(s):\n",
    "    result  = \"\"\n",
    "    seen = \"\"\n",
    "    for char in s:\n",
    "        if char not in seen :\n",
    "            result+=char \n",
    "            seen+=char\n",
    "    return result \n",
    "\n",
    "s = \"Hello, World!\"\n",
    "print(remove_duplicates(s))\n",
    "\n"
   ]
  },
  {
   "cell_type": "code",
   "execution_count": null,
   "metadata": {},
   "outputs": [],
   "source": []
  }
 ],
 "metadata": {
  "kernelspec": {
   "display_name": "venv",
   "language": "python",
   "name": "python3"
  },
  "language_info": {
   "codemirror_mode": {
    "name": "ipython",
    "version": 3
   },
   "file_extension": ".py",
   "mimetype": "text/x-python",
   "name": "python",
   "nbconvert_exporter": "python",
   "pygments_lexer": "ipython3",
   "version": "3.12.0"
  }
 },
 "nbformat": 4,
 "nbformat_minor": 2
}
