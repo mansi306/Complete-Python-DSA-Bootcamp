{
 "cells": [
  {
   "cell_type": "markdown",
   "metadata": {},
   "source": [
    "Length of the Longest Word\n",
    "Problem Description:\n",
    "\n",
    "You are given a string s. Your task is to find the length of the longest word in the string. A word is defined as a sequence of characters separated by spaces. Do not use any built-in functions for string manipulation.\n",
    "\n",
    "\n",
    "\n",
    "Input:\n",
    "\n",
    "A string s, where the length of s is between 1 and 1000 characters.\n",
    "\n",
    "\n",
    "\n",
    "Output:\n",
    "\n",
    "An integer representing the length of the longest word in the string.\n",
    "\n",
    "\n",
    "\n",
    "Example:\n",
    "\n",
    "Input: s = \"The quick brown fox jumps over the lazy dog\"\n",
    "\n",
    "Output: 5\n",
    " \n",
    "Input: s = \"Hello World\"\n",
    "\n",
    "Output: 5\n"
   ]
  },
  {
   "cell_type": "code",
   "execution_count": null,
   "metadata": {},
   "outputs": [
    {
     "name": "stdout",
     "output_type": "stream",
     "text": [
      "5\n"
     ]
    }
   ],
   "source": [
    "def longest_length(s):\n",
    "    new_s = s.split()\n",
    "    max=0\n",
    "    for char in new_s:\n",
    "        if len(char)>max:\n",
    "            max= len(char)\n",
    "    return max\n",
    "\n",
    "s = \"Hello World\"\n",
    "\n",
    "print(longest_length(s))\n",
    "    "
   ]
  },
  {
   "cell_type": "code",
   "execution_count": 8,
   "metadata": {},
   "outputs": [
    {
     "name": "stdout",
     "output_type": "stream",
     "text": [
      "5\n"
     ]
    }
   ],
   "source": [
    "def longest_length(s):\n",
    "    current_len=0\n",
    "    max_len=0\n",
    "    for i in range(len(s)):\n",
    "        if s[i]!=' ':\n",
    "            current_len+=1\n",
    "        else:\n",
    "            if current_len>max_len:\n",
    "                max_len=current_len\n",
    "                current_len=0\n",
    "\n",
    "    if current_len>max_len:\n",
    "        max_len=current_len\n",
    "    return max_len\n",
    "\n",
    "s = \"Hello World\"\n",
    "print(longest_length(s))\n",
    "\n"
   ]
  },
  {
   "cell_type": "code",
   "execution_count": 2,
   "metadata": {},
   "outputs": [
    {
     "name": "stdout",
     "output_type": "stream",
     "text": [
      "skeeG\n"
     ]
    }
   ],
   "source": [
    "def reverse_str (s):\n",
    "    new_str = \"\"\n",
    "    for i in range(len(s)-1,-1,-1):\n",
    "        new_str+=s[i]\n",
    "    return new_str\n",
    "s = \"Geeks\"\n",
    "print(reverse_str(s))\n",
    "\n"
   ]
  },
  {
   "cell_type": "code",
   "execution_count": null,
   "metadata": {},
   "outputs": [],
   "source": []
  }
 ],
 "metadata": {
  "kernelspec": {
   "display_name": "venv",
   "language": "python",
   "name": "python3"
  },
  "language_info": {
   "codemirror_mode": {
    "name": "ipython",
    "version": 3
   },
   "file_extension": ".py",
   "mimetype": "text/x-python",
   "name": "python",
   "nbconvert_exporter": "python",
   "pygments_lexer": "ipython3",
   "version": "3.12.0"
  }
 },
 "nbformat": 4,
 "nbformat_minor": 2
}
