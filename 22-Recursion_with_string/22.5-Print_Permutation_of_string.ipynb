{
 "cells": [
  {
   "cell_type": "code",
   "execution_count": 1,
   "metadata": {},
   "outputs": [
    {
     "name": "stdout",
     "output_type": "stream",
     "text": [
      "cba\n",
      "bca\n",
      "bac\n",
      "cab\n",
      "acb\n",
      "abc\n",
      "None\n"
     ]
    }
   ],
   "source": [
    "def print_permutation(s,target):\n",
    "    if (len(s)==0):\n",
    "        print(target)\n",
    "        return \n",
    "    first_char = s[0]\n",
    "    next_char = s[1:]\n",
    "    for i in range(0,len(target)+1):\n",
    "        print_permutation(next_char,target[0:i]+first_char+target[i:])\n",
    "\n",
    "\n",
    "print(print_permutation(\"abc\",''))"
   ]
  },
  {
   "cell_type": "code",
   "execution_count": null,
   "metadata": {},
   "outputs": [],
   "source": []
  }
 ],
 "metadata": {
  "kernelspec": {
   "display_name": "Python 3",
   "language": "python",
   "name": "python3"
  },
  "language_info": {
   "codemirror_mode": {
    "name": "ipython",
    "version": 3
   },
   "file_extension": ".py",
   "mimetype": "text/x-python",
   "name": "python",
   "nbconvert_exporter": "python",
   "pygments_lexer": "ipython3",
   "version": "3.12.0"
  }
 },
 "nbformat": 4,
 "nbformat_minor": 2
}
