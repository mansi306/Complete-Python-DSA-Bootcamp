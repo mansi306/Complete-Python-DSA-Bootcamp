{
 "cells": [
  {
   "cell_type": "code",
   "execution_count": 1,
   "metadata": {},
   "outputs": [
    {
     "name": "stdout",
     "output_type": "stream",
     "text": [
      "abc\n"
     ]
    }
   ],
   "source": [
    "def remove_character(s1,ch):\n",
    "    if (len(s1)==0 or s1==''):\n",
    "        return s1 \n",
    "    small_ans = remove_character(s1[1:],ch)\n",
    "    if s1[0]== ch :\n",
    "        return small_ans\n",
    "    else:\n",
    "        return s1[0]+ small_ans\n",
    "    \n",
    "print(remove_character(\"abczz\",\"z\"))"
   ]
  },
  {
   "cell_type": "code",
   "execution_count": 4,
   "metadata": {},
   "outputs": [
    {
     "name": "stdout",
     "output_type": "stream",
     "text": [
      "\n"
     ]
    }
   ],
   "source": [
    "def remove(s1):\n",
    "    if (len(s1)==0 or s1==\"\"):\n",
    "        return s1 \n",
    "    small_ans = remove(s1[1:])\n",
    "    return small_ans\n",
    "print(remove(\"amansb\"))"
   ]
  },
  {
   "cell_type": "code",
   "execution_count": null,
   "metadata": {},
   "outputs": [],
   "source": []
  }
 ],
 "metadata": {
  "kernelspec": {
   "display_name": "venv",
   "language": "python",
   "name": "python3"
  },
  "language_info": {
   "codemirror_mode": {
    "name": "ipython",
    "version": 3
   },
   "file_extension": ".py",
   "mimetype": "text/x-python",
   "name": "python",
   "nbconvert_exporter": "python",
   "pygments_lexer": "ipython3",
   "version": "3.12.0"
  }
 },
 "nbformat": 4,
 "nbformat_minor": 2
}
