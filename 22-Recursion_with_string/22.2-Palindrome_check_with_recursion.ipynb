{
 "cells": [
  {
   "cell_type": "markdown",
   "metadata": {},
   "source": [
    "Palindrome Check using Recursion\n",
    "\n",
    "Problem Description:\n",
    "\n",
    "You are given a string. Your task is to check if the string is a palindrome using recursion. A palindrome is a string that reads the same forward and backward.\n",
    "\n",
    "\n",
    "\n",
    "Input:\n",
    "\n",
    "A string s.\n",
    "\n",
    "\n",
    "\n",
    "Output:\n",
    "\n",
    "A boolean indicating whether the string is a palindrome.\n",
    "\n",
    "\n",
    "\n",
    "Example:\n",
    "\n",
    "Input: s = \"radar\"\n",
    "\n",
    "Output: True\n",
    " \n",
    "Input: s = \"hello\"\n",
    "\n",
    "Output: False"
   ]
  },
  {
   "cell_type": "code",
   "execution_count": 2,
   "metadata": {},
   "outputs": [
    {
     "name": "stdout",
     "output_type": "stream",
     "text": [
      "True\n"
     ]
    }
   ],
   "source": [
    "def check_palindrome(s):\n",
    "    if len(s)<=1:\n",
    "        return True \n",
    "    if s[0]!=s[-1]:\n",
    "        return False\n",
    "    return check_palindrome(s[1:-1])\n",
    "    \n",
    "print(check_palindrome(\"nitin\"))\n",
    "\n"
   ]
  },
  {
   "cell_type": "code",
   "execution_count": 4,
   "metadata": {},
   "outputs": [
    {
     "name": "stdout",
     "output_type": "stream",
     "text": [
      "False\n"
     ]
    }
   ],
   "source": [
    "def palindrome(s1):\n",
    "    return palindrome_helper(s1,0,len(s1)-1)\n",
    "\n",
    "\n",
    "def palindrome_helper(s1,start,end):\n",
    "    if (start>=end):\n",
    "        return True \n",
    "    \n",
    "    if s1[start]!= s1[end]:\n",
    "        return False \n",
    "    return palindrome_helper(s1,start+1,end-1)\n",
    "\n",
    "print(check_palindrome(\"mansi\"))\n"
   ]
  },
  {
   "cell_type": "code",
   "execution_count": 5,
   "metadata": {},
   "outputs": [
    {
     "name": "stdout",
     "output_type": "stream",
     "text": [
      "iti\n"
     ]
    }
   ],
   "source": [
    "s2 = \"nitin\"\n",
    "print(s2[1:-1])"
   ]
  },
  {
   "cell_type": "code",
   "execution_count": null,
   "metadata": {},
   "outputs": [],
   "source": []
  }
 ],
 "metadata": {
  "kernelspec": {
   "display_name": "Python 3",
   "language": "python",
   "name": "python3"
  },
  "language_info": {
   "codemirror_mode": {
    "name": "ipython",
    "version": 3
   },
   "file_extension": ".py",
   "mimetype": "text/x-python",
   "name": "python",
   "nbconvert_exporter": "python",
   "pygments_lexer": "ipython3",
   "version": "3.12.0"
  }
 },
 "nbformat": 4,
 "nbformat_minor": 2
}
