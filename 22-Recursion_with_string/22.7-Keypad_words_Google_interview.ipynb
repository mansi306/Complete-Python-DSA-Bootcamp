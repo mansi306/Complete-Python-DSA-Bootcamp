{
 "cells": [
  {
   "cell_type": "code",
   "execution_count": 1,
   "metadata": {},
   "outputs": [
    {
     "name": "stdout",
     "output_type": "stream",
     "text": [
      "['gj', 'gk', 'gl', 'hj', 'hk', 'hl', 'ij', 'ik', 'il']\n"
     ]
    }
   ],
   "source": [
    "def return_all_word(input):\n",
    "    if (input==''):\n",
    "\n",
    "        return ['']\n",
    "    ans = []\n",
    "    Sinput= input[1:]\n",
    "    Sword = return_all_word(Sinput)\n",
    "    keys = {'1':'','2':'abc','3':'def','4':'ghi','5':'jkl','6':'lmn','7':'pqrs','8':'uvw','9':'xyz'}\n",
    "    keyletter = keys[input[0]]\n",
    "    for mychar in keyletter:\n",
    "        for word in Sword:\n",
    "            ans.append(mychar+word)\n",
    "    return ans \n",
    "\n",
    "print(return_all_word('45'))\n"
   ]
  },
  {
   "cell_type": "code",
   "execution_count": 4,
   "metadata": {},
   "outputs": [
    {
     "name": "stdout",
     "output_type": "stream",
     "text": [
      "['dg', 'dh', 'di', 'eg', 'eh', 'ei', 'fg', 'fh', 'fi']\n"
     ]
    }
   ],
   "source": [
    "keys = {'1':'','2':'abc','3':'def','4':'ghi','5':'jkl','6':'mno','7':'pqrs','8':'tuv','9':'wxyz'}\n",
    "def return_all_words(input):\n",
    "    if (input==''):\n",
    "        return ['']\n",
    "    s_input = input[1:]\n",
    "    s_ans = return_all_words(s_input)\n",
    "    ans = []\n",
    "    keyletter = keys[input[0]]\n",
    "    for my_char in keyletter:\n",
    "        for word in s_ans:\n",
    "            ans.append(my_char + word)\n",
    "    return ans\n",
    "class Solution:\n",
    "    def letterCombinations(self, digits: str):\n",
    "        if (digits==''):\n",
    "            return []\n",
    "        return return_all_words(digits)\n",
    "\n",
    "print(return_all_words('34'))\n",
    "\n",
    "        \n",
    "\n"
   ]
  },
  {
   "cell_type": "code",
   "execution_count": 3,
   "metadata": {},
   "outputs": [
    {
     "name": "stdout",
     "output_type": "stream",
     "text": [
      "33\n"
     ]
    }
   ],
   "source": [
    "str1 = \"332\"\n",
    "print(str1[0:2])"
   ]
  },
  {
   "cell_type": "code",
   "execution_count": null,
   "metadata": {},
   "outputs": [],
   "source": []
  }
 ],
 "metadata": {
  "kernelspec": {
   "display_name": "venv",
   "language": "python",
   "name": "python3"
  },
  "language_info": {
   "codemirror_mode": {
    "name": "ipython",
    "version": 3
   },
   "file_extension": ".py",
   "mimetype": "text/x-python",
   "name": "python",
   "nbconvert_exporter": "python",
   "pygments_lexer": "ipython3",
   "version": "3.12.0"
  }
 },
 "nbformat": 4,
 "nbformat_minor": 2
}
