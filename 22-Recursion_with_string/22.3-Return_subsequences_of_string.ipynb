{
 "cells": [
  {
   "cell_type": "code",
   "execution_count": 3,
   "metadata": {},
   "outputs": [
    {
     "name": "stdout",
     "output_type": "stream",
     "text": [
      "['', 'i', 's', 'si', 'n', 'ni', 'ns', 'nsi', 'a', 'ai', 'as', 'asi', 'an', 'ani', 'ans', 'ansi', 'm', 'mi', 'ms', 'msi', 'mn', 'mni', 'mns', 'mnsi', 'ma', 'mai', 'mas', 'masi', 'man', 'mani', 'mans', 'mansi']\n",
      "['', 'm', 'o', 'om', 'm', 'mm', 'mo', 'mom']\n"
     ]
    }
   ],
   "source": [
    "def return_subsequence(s):\n",
    "    if (s==''):\n",
    "        # ans = ['']\n",
    "        return ['']\n",
    "    small_ans =  return_subsequence(s[1:])\n",
    "    my_char = s[0]\n",
    "    ans = []\n",
    "    ans.extend(small_ans)\n",
    "    for permutation in small_ans:\n",
    "        ans.append(my_char + permutation)\n",
    "    return ans \n",
    "\n",
    "\n",
    "print(return_subsequence(\"mansi\"))\n",
    "print(return_subsequence(\"mom\"))\n",
    "\n",
    "\n"
   ]
  },
  {
   "cell_type": "code",
   "execution_count": null,
   "metadata": {},
   "outputs": [],
   "source": []
  },
  {
   "cell_type": "code",
   "execution_count": null,
   "metadata": {},
   "outputs": [],
   "source": []
  }
 ],
 "metadata": {
  "kernelspec": {
   "display_name": "Python 3",
   "language": "python",
   "name": "python3"
  },
  "language_info": {
   "codemirror_mode": {
    "name": "ipython",
    "version": 3
   },
   "file_extension": ".py",
   "mimetype": "text/x-python",
   "name": "python",
   "nbconvert_exporter": "python",
   "pygments_lexer": "ipython3",
   "version": "3.12.0"
  }
 },
 "nbformat": 4,
 "nbformat_minor": 2
}
