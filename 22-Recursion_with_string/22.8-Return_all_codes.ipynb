{
 "cells": [
  {
   "cell_type": "code",
   "execution_count": 3,
   "metadata": {},
   "outputs": [
    {
     "name": "stdout",
     "output_type": "stream",
     "text": [
      "['abc', 'aw', 'lc']\n"
     ]
    }
   ],
   "source": [
    "def get_char(value):\n",
    "    if (value<=0 or value>26):\n",
    "        return ''\n",
    "    return chr(97+value-1)\n",
    "def return_all_code(input):\n",
    "    if (input==''):\n",
    "        return ['']\n",
    "    if (len(input)==1):\n",
    "        single_char = get_char(int(input))\n",
    "        return [single_char]\n",
    "    singledigit = int(input[0:1])\n",
    "    doubledigit = int(input[0:2])\n",
    "    main_ans = []\n",
    "    ans_without_single_digit = return_all_code(input[1:])\n",
    "    for char in ans_without_single_digit:\n",
    "        main_ans.append(get_char(singledigit)+char)\n",
    "    if (doubledigit>=10 and doubledigit<=26):\n",
    "        ans_without_single_digit = return_all_code(input[2:])\n",
    "        for char in ans_without_single_digit:\n",
    "            main_ans.append(get_char(doubledigit)+char)\n",
    "    return main_ans\n",
    "\n",
    "print(return_all_code('123'))\n",
    "\n",
    "    "
   ]
  },
  {
   "cell_type": "code",
   "execution_count": null,
   "metadata": {},
   "outputs": [],
   "source": []
  }
 ],
 "metadata": {
  "kernelspec": {
   "display_name": "venv",
   "language": "python",
   "name": "python3"
  },
  "language_info": {
   "codemirror_mode": {
    "name": "ipython",
    "version": 3
   },
   "file_extension": ".py",
   "mimetype": "text/x-python",
   "name": "python",
   "nbconvert_exporter": "python",
   "pygments_lexer": "ipython3",
   "version": "3.12.0"
  }
 },
 "nbformat": 4,
 "nbformat_minor": 2
}
