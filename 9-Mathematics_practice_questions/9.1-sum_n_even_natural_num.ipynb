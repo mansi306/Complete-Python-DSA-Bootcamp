{
 "cells": [
  {
   "cell_type": "markdown",
   "metadata": {},
   "source": [
    "Sum of N Even Natural Numbers\n",
    "Problem Description:\n",
    "\n",
    "You are given an integer n. Your task is to calculate and return the sum of the first n even natural numbers. The even natural numbers are: 2, 4, 6, 8, ...\n",
    "\n",
    "\n",
    "\n",
    "Input:\n",
    "\n",
    "A single integer n where 1 <= n <= 10^4.\n",
    "\n",
    "\n",
    "\n",
    "Output:\n",
    "\n",
    "Return the sum of the first n even natural numbers.\n",
    "\n",
    "\n",
    "\n",
    "Example:\n",
    "\n",
    "Input: n = 3\n",
    "\n",
    "Output: 12  # (2 + 4 + 6)\n",
    " \n",
    "Input: n = 5\n",
    "\n",
    "Output: 30  # (2 + 4 + 6 + 8 + 10)"
   ]
  },
  {
   "cell_type": "code",
   "execution_count": 2,
   "metadata": {},
   "outputs": [
    {
     "name": "stdout",
     "output_type": "stream",
     "text": [
      "12\n"
     ]
    }
   ],
   "source": [
    "def sum_of_even_num(n):\n",
    "    i = 1\n",
    "    sum=0\n",
    "    count=0\n",
    "    while count<n:\n",
    "        if i%2==0:\n",
    "            sum+=i\n",
    "            count+=1\n",
    "        i+=1\n",
    "    return sum\n",
    "print(sum_of_even_num(3))"
   ]
  },
  {
   "cell_type": "code",
   "execution_count": 1,
   "metadata": {},
   "outputs": [
    {
     "name": "stdout",
     "output_type": "stream",
     "text": [
      "12\n"
     ]
    }
   ],
   "source": [
    "def sum_of_even_num(n):\n",
    "    sum_even=0\n",
    "    current_even = 2\n",
    "    for i in range(n):\n",
    "        sum_even+=current_even\n",
    "        current_even+=2\n",
    "    return sum_even\n",
    "print(sum_of_even_num(3))"
   ]
  },
  {
   "cell_type": "code",
   "execution_count": null,
   "metadata": {},
   "outputs": [],
   "source": []
  }
 ],
 "metadata": {
  "kernelspec": {
   "display_name": "venv",
   "language": "python",
   "name": "python3"
  },
  "language_info": {
   "codemirror_mode": {
    "name": "ipython",
    "version": 3
   },
   "file_extension": ".py",
   "mimetype": "text/x-python",
   "name": "python",
   "nbconvert_exporter": "python",
   "pygments_lexer": "ipython3",
   "version": "3.12.0"
  }
 },
 "nbformat": 4,
 "nbformat_minor": 2
}
