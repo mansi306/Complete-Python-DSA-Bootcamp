{
 "cells": [
  {
   "cell_type": "markdown",
   "metadata": {},
   "source": [
    "Problem Description:\n",
    "\n",
    "You are given an integer n. Your task is to return its binary representation as a string. Do not use any built-in functions for conversion.\n",
    "\n",
    "\n",
    "\n",
    "Input:\n",
    "\n",
    "A single integer n, where -10^9 <= n <= 10^9.\n",
    "\n",
    "\n",
    "\n",
    "Output:\n",
    "\n",
    "A string representing the binary representation of n.\n",
    "\n",
    "\n",
    "\n",
    "Example:\n",
    "\n",
    "Input: n = 5\n",
    "\n",
    "Output: \"101\"\n",
    " \n",
    "Input: n = -5\n",
    "\n",
    "Output: \"-101\""
   ]
  },
  {
   "cell_type": "code",
   "execution_count": 6,
   "metadata": {},
   "outputs": [
    {
     "name": "stdout",
     "output_type": "stream",
     "text": [
      "-101\n"
     ]
    }
   ],
   "source": [
    "def int_to_binary(n):\n",
    "    negative = n<0\n",
    "    if negative:\n",
    "        n = -n\n",
    "\n",
    "\n",
    "    binary = ''\n",
    "    while n>0:\n",
    "        remainder = n%2\n",
    "        binary = binary+ str(remainder)\n",
    "        n//=2\n",
    "    if negative:\n",
    "        binary = \"-\"+binary\n",
    "    \n",
    "    return binary\n",
    "print(int_to_binary(-5))"
   ]
  },
  {
   "cell_type": "code",
   "execution_count": null,
   "metadata": {},
   "outputs": [],
   "source": []
  }
 ],
 "metadata": {
  "kernelspec": {
   "display_name": "Python 3",
   "language": "python",
   "name": "python3"
  },
  "language_info": {
   "codemirror_mode": {
    "name": "ipython",
    "version": 3
   },
   "file_extension": ".py",
   "mimetype": "text/x-python",
   "name": "python",
   "nbconvert_exporter": "python",
   "pygments_lexer": "ipython3",
   "version": "3.12.0"
  }
 },
 "nbformat": 4,
 "nbformat_minor": 2
}
