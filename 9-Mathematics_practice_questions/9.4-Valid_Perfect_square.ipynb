{
 "cells": [
  {
   "cell_type": "markdown",
   "metadata": {},
   "source": [
    "Valid Perfect Square\n",
    "Problem Description:\n",
    "\n",
    "You are given a positive integer num. Your task is to check whether num is a perfect square or not. A perfect square is an integer that is the square of an integer (e.g., 1, 4, 9, 16, ...). Return True if num is a perfect square, and False otherwise.\n",
    "\n",
    "\n",
    "\n",
    "Input:\n",
    "\n",
    "A single positive integer num where 1 <= num <= 10^9.\n",
    "\n",
    "\n",
    "\n",
    "Output:\n",
    "\n",
    "Return True if num is a perfect square, otherwise return False.\n",
    "\n",
    "\n",
    "\n",
    "Example:\n",
    "\n",
    "Input: num = 16\n",
    "\n",
    "Output: True\n",
    " \n",
    "Input: num = 14\n",
    "\n",
    "Output: False"
   ]
  },
  {
   "cell_type": "code",
   "execution_count": 10,
   "metadata": {},
   "outputs": [
    {
     "name": "stdout",
     "output_type": "stream",
     "text": [
      "True\n"
     ]
    }
   ],
   "source": [
    "def is_perfect_square(n):\n",
    "    if n<1:\n",
    "        return False\n",
    "    left , right = 1,n\n",
    "    while left<=right:\n",
    "        mid = (left+right)//2\n",
    "        square = mid*mid \n",
    "        if square==n:\n",
    "            return True\n",
    "        elif square<n :\n",
    "            left = mid+1\n",
    "        else:\n",
    "            right = mid-1\n",
    "    return False\n",
    "\n",
    "print(is_perfect_square(36))\n",
    "\n",
    "    \n",
    "\n",
    "    "
   ]
  },
  {
   "cell_type": "code",
   "execution_count": null,
   "metadata": {},
   "outputs": [],
   "source": [
    "def is_perfect_square(num):\n",
    "    # Edge case for smallest perfect square\n",
    "    if num < 1:\n",
    "        return False\n",
    "    \n",
    "    # Binary search to find if num is a perfect square\n",
    "    left, right = 1, num\n",
    "    while left <= right:\n",
    "        mid = (left + right) // 2\n",
    "        square = mid * mid\n",
    "        if square == num:\n",
    "            return True\n",
    "        elif square < num:\n",
    "            left = mid + 1\n",
    "        else:\n",
    "            right = mid - 1\n",
    "    return False\n",
    "\n",
    "# Testing with sample cases\n",
    "print(is_perfect_square(1))    # Expected output: True\n",
    "print(is_perfect_square(4))    # Expected output: True\n",
    "print(is_perfect_square(9))    # Expected output: True\n",
    "print(is_perfect_square(16))   # Expected output: True\n",
    "print(is_perfect_square(14))   # Expected output: False\n",
    "print(is_perfect_square(25))   # Expected output: True\n",
    "print(is_perfect_square(26)) "
   ]
  },
  {
   "cell_type": "code",
   "execution_count": null,
   "metadata": {},
   "outputs": [],
   "source": []
  }
 ],
 "metadata": {
  "kernelspec": {
   "display_name": "Python 3",
   "language": "python",
   "name": "python3"
  },
  "language_info": {
   "codemirror_mode": {
    "name": "ipython",
    "version": 3
   },
   "file_extension": ".py",
   "mimetype": "text/x-python",
   "name": "python",
   "nbconvert_exporter": "python",
   "pygments_lexer": "ipython3",
   "version": "3.12.0"
  }
 },
 "nbformat": 4,
 "nbformat_minor": 2
}
