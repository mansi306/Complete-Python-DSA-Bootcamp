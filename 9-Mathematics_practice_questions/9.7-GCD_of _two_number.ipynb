{
 "cells": [
  {
   "cell_type": "markdown",
   "metadata": {},
   "source": [
    "GCD of Two Numbers\n",
    "\n",
    "Problem Description:\n",
    "\n",
    "You are given two integers n and m. Your task is to find the GCD of these two numbers. The GCD is the largest positive integer that divides both numbers without leaving a remainder. Do not use any built-in functions and do not use recursion.\n",
    "\n",
    "\n",
    "\n",
    "Input:\n",
    "\n",
    "Two integers n and m, where 1 <= n, m <= 10^9.\n",
    "\n",
    "\n",
    "\n",
    "Output:\n",
    "\n",
    "An integer representing the GCD of n and m.\n",
    "\n",
    "\n",
    "\n",
    "Example:\n",
    "\n",
    "Input: n = 48, m = 18\n",
    "\n",
    "Output: 6\n",
    " \n",
    "Input: n = 56, m = 98\n",
    "\n",
    "Output: 14"
   ]
  },
  {
   "cell_type": "code",
   "execution_count": 2,
   "metadata": {},
   "outputs": [
    {
     "name": "stdout",
     "output_type": "stream",
     "text": [
      "6\n"
     ]
    }
   ],
   "source": [
    "def gcd(a,b):\n",
    "    while b!=0:\n",
    "        a,b = b,a%b\n",
    "    return a\n",
    "print(gcd(48,18))"
   ]
  },
  {
   "cell_type": "code",
   "execution_count": null,
   "metadata": {},
   "outputs": [
    {
     "name": "stdout",
     "output_type": "stream",
     "text": [
      "[0, 0, 0, 1, 1, 1]\n"
     ]
    }
   ],
   "source": [
    "def sortedd_lst(s):\n",
    "    left = 0\n",
    "    right = len(s)-1\n",
    "    while left<right:\n",
    "        if s[left]>s[right]:\n",
    "            s[left],s[right]= s[right],s[left]\n",
    "        if s[left]==0:\n",
    "            left+=1\n",
    "        if s[right]==1:\n",
    "            right-=1\n",
    "\n",
    "    return s\n",
    "print(sortedd_lst([1,2,3,2,3,1,3,2,3]))\n",
    "    "
   ]
  },
  {
   "cell_type": "code",
   "execution_count": null,
   "metadata": {},
   "outputs": [],
   "source": [
    " "
   ]
  }
 ],
 "metadata": {
  "kernelspec": {
   "display_name": "Python 3",
   "language": "python",
   "name": "python3"
  },
  "language_info": {
   "codemirror_mode": {
    "name": "ipython",
    "version": 3
   },
   "file_extension": ".py",
   "mimetype": "text/x-python",
   "name": "python",
   "nbconvert_exporter": "python",
   "pygments_lexer": "ipython3",
   "version": "3.12.0"
  }
 },
 "nbformat": 4,
 "nbformat_minor": 2
}
