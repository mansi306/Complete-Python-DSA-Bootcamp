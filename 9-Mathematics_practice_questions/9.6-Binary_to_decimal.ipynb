{
 "cells": [
  {
   "cell_type": "markdown",
   "metadata": {},
   "source": [
    "Binary to Decimal\n",
    "Problem Description:\n",
    "\n",
    "You are given a string binary_str representing a binary number. Your task is to convert this binary string to its corresponding decimal integer. Do not use any built-in functions for conversion.\n",
    "\n",
    "\n",
    "\n",
    "Input:\n",
    "\n",
    "A string binary_str, consisting of characters '0' and '1', where the length of the string is between 1 and 30 (inclusive).\n",
    "\n",
    "\n",
    "\n",
    "Output:\n",
    "\n",
    "An integer representing the decimal value of the binary string\n",
    "\n",
    "\n",
    "\n",
    "Example:\n",
    "\n",
    "Input: binary_str = \"101\"\n",
    "\n",
    "Output: 5\n",
    " \n",
    "Input: binary_str = \"1101\"\n",
    "\n",
    "Output: 13\n"
   ]
  },
  {
   "cell_type": "code",
   "execution_count": 8,
   "metadata": {},
   "outputs": [
    {
     "name": "stdout",
     "output_type": "stream",
     "text": [
      "5\n"
     ]
    }
   ],
   "source": [
    "def binary_to_decimal(n):\n",
    "    decimal = 0\n",
    "    power = 0\n",
    "    while n>0:\n",
    "        last_digit = n%10\n",
    "        decimal+=last_digit*(2**power) \n",
    "        n//=10\n",
    "        power+=1\n",
    "    return decimal\n",
    "print(binary_to_decimal(101))\n"
   ]
  },
  {
   "cell_type": "code",
   "execution_count": 9,
   "metadata": {},
   "outputs": [
    {
     "name": "stdout",
     "output_type": "stream",
     "text": [
      "4\n"
     ]
    }
   ],
   "source": [
    "def binary_to_decimal(binary_str):\n",
    "    decimal = 0\n",
    "    power = 1\n",
    "    for i in range(len(binary_str)-1,-1,-1):\n",
    "        if binary_str[i]=='1':\n",
    "            decimal+=power\n",
    "        power = power*2\n",
    "    return decimal\n",
    "print(binary_to_decimal('100'))"
   ]
  },
  {
   "cell_type": "code",
   "execution_count": null,
   "metadata": {},
   "outputs": [],
   "source": []
  }
 ],
 "metadata": {
  "kernelspec": {
   "display_name": "Python 3",
   "language": "python",
   "name": "python3"
  },
  "language_info": {
   "codemirror_mode": {
    "name": "ipython",
    "version": 3
   },
   "file_extension": ".py",
   "mimetype": "text/x-python",
   "name": "python",
   "nbconvert_exporter": "python",
   "pygments_lexer": "ipython3",
   "version": "3.12.0"
  }
 },
 "nbformat": 4,
 "nbformat_minor": 2
}
