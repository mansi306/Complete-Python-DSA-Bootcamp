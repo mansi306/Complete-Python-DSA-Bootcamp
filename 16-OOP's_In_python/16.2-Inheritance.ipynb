{
 "cells": [
  {
   "cell_type": "markdown",
   "metadata": {},
   "source": [
    "#### Inheritance :\n",
    "Inheritane allows us to define a class that inherits all the methods and properties for another class \n",
    "\n",
    "Parent Class : \n",
    "Is the class being inherited from , also called as \"Base\" class \n",
    "\n",
    "\n",
    "Child class :\n",
    "Is the class that inherits from the another class , also called as \"Derived\" class"
   ]
  },
  {
   "cell_type": "code",
   "execution_count": 2,
   "metadata": {},
   "outputs": [
    {
     "name": "stdout",
     "output_type": "stream",
     "text": [
      "My name is Mansi Patil\n"
     ]
    }
   ],
   "source": [
    "# create a parent class \n",
    "# create a class named person,with firstname, lastname, properties and a printname method \n",
    "\n",
    "class Person:\n",
    "    def __init__(self,fname,lname):\n",
    "        self.fname = fname\n",
    "        self.lname = lname \n",
    "\n",
    "    def PrintName(self):\n",
    "        return f\"My name is {self.fname} {self.lname}\"\n",
    "\n",
    "p1 = Person(\"Mansi\",\"Patil\")\n",
    "print(p1.PrintName())"
   ]
  },
  {
   "cell_type": "code",
   "execution_count": 4,
   "metadata": {},
   "outputs": [
    {
     "data": {
      "text/plain": [
       "'My name is Mansi Patil'"
      ]
     },
     "execution_count": 4,
     "metadata": {},
     "output_type": "execute_result"
    }
   ],
   "source": [
    "#  create a child class \n",
    "#  create a class named student which will inherit the properties & methods from person class \n",
    "class Person :\n",
    "    def __init__(self,fname,lname):\n",
    "        self.fname = fname\n",
    "        self.lname = lname \n",
    "\n",
    "    def PrintName(self):\n",
    "        return f\"My name is {self.fname} {self.lname}\"\n",
    "    \n",
    "# create a child class student \n",
    "class Student(Person):\n",
    "    def __init__(self,fname,lname):\n",
    "        Person.__init__(self,fname,lname)\n",
    "\n",
    "\n",
    "p1 = Student(\"Mansi\",\"Patil\")\n",
    "p1.PrintName()\n",
    "\n"
   ]
  },
  {
   "cell_type": "code",
   "execution_count": 5,
   "metadata": {},
   "outputs": [
    {
     "data": {
      "text/plain": [
       "'My name is Mansi Patil'"
      ]
     },
     "execution_count": 5,
     "metadata": {},
     "output_type": "execute_result"
    }
   ],
   "source": [
    "# create a child class using super().__init__ method \n",
    "''''''\n",
    "\n",
    "class Person :\n",
    "    def __init__(self,fname,lname):\n",
    "        self.fname = fname\n",
    "        self.lname = lname \n",
    "\n",
    "    def PrintName(self):\n",
    "        return f\"My name is {self.fname} {self.lname}\"\n",
    "    \n",
    "# create a child class student \n",
    "class Student(Person):\n",
    "    def __init__(self,fname,lname):\n",
    "        # using super method \n",
    "        super().__init__(fname,lname)\n",
    "\n",
    "\n",
    "p1 = Student(\"Mansi\",\"Patil\")\n",
    "p1.PrintName()\n",
    "\n"
   ]
  },
  {
   "cell_type": "code",
   "execution_count": 4,
   "metadata": {},
   "outputs": [
    {
     "data": {
      "text/plain": [
       "2023"
      ]
     },
     "execution_count": 4,
     "metadata": {},
     "output_type": "execute_result"
    }
   ],
   "source": [
    "# add a property called graduationyear to the student class \n",
    "class Person :\n",
    "    def __init__(self,fname,lname):\n",
    "        self.fname = fname\n",
    "        self.lname = lname \n",
    "\n",
    "    def PrintName(self):\n",
    "        return f\"My name is {self.fname} {self.lname}\"\n",
    "    \n",
    "# create a child class student \n",
    "class Student(Person):\n",
    "    def __init__(self,fname,lname,grad_year):\n",
    "        # using super method \n",
    "        super().__init__(fname,lname)\n",
    "        self.grad_year = grad_year\n",
    "\n",
    "\n",
    "p1 = Student(\"Mansi\",\"Patil\",2023)\n",
    "p1.grad_year\n",
    "\n"
   ]
  },
  {
   "cell_type": "code",
   "execution_count": 5,
   "metadata": {},
   "outputs": [
    {
     "name": "stdout",
     "output_type": "stream",
     "text": [
      "Welcome Mansi Patil to the class of 2023\n"
     ]
    }
   ],
   "source": [
    "#  Add a method called welcome  to the student class \n",
    "class Person :\n",
    "    def __init__(self,fname,lname):\n",
    "        self.fname = fname\n",
    "        self.lname = lname \n",
    "\n",
    "    def PrintName(self):\n",
    "        return f\"My name is {self.fname} {self.lname}\"\n",
    "    \n",
    "# create a child class student \n",
    "class Student(Person):\n",
    "    def __init__(self,fname,lname,grad_year):\n",
    "        # using super method \n",
    "        super().__init__(fname,lname)\n",
    "        self.grad_year = grad_year\n",
    "\n",
    "    def welcome (self):\n",
    "        print(f\"Welcome {self.fname} {self.lname} to the class of {self.grad_year}\")\n",
    "\n",
    "\n",
    "p1 = Student(\"Mansi\",\"Patil\",2023)\n",
    "p1.welcome()\n",
    "\n",
    "\n"
   ]
  },
  {
   "cell_type": "markdown",
   "metadata": {},
   "source": [
    "#### Multiple Inheritance \n",
    "When a class inherits from more than one base class called as multiple inheritance "
   ]
  },
  {
   "cell_type": "code",
   "execution_count": 8,
   "metadata": {},
   "outputs": [
    {
     "name": "stdout",
     "output_type": "stream",
     "text": [
      "Buddy says Woof woof !!\n",
      "owner : Mansi\n"
     ]
    }
   ],
   "source": [
    "# base class 1\n",
    "class Animal:\n",
    "    def __init__(self,name):\n",
    "        self.name = name \n",
    "    def speak(self):\n",
    "        return f\"{self.name} says Woof!!\"\n",
    "# base class 2 \n",
    "class Pet:\n",
    "    def __init__(self,owner):\n",
    "        self.owner = owner \n",
    "    \n",
    "class Dog(Animal,Pet):\n",
    "    def __init__(self,name,owner):\n",
    "        Animal.__init__(self,name)\n",
    "        Pet.__init__(self,owner)\n",
    "    def speak(self):\n",
    "        return f\"{self.name} says Woof woof !!\"\n",
    "    \n",
    "# create a object \n",
    "p1 = Dog(\"Buddy\",\"Mansi\")\n",
    "print(p1.speak())\n",
    "print(f\"owner : {p1.owner}\")\n",
    "\n",
    "\n"
   ]
  },
  {
   "cell_type": "code",
   "execution_count": null,
   "metadata": {},
   "outputs": [],
   "source": []
  },
  {
   "cell_type": "code",
   "execution_count": null,
   "metadata": {},
   "outputs": [],
   "source": []
  }
 ],
 "metadata": {
  "kernelspec": {
   "display_name": "venv",
   "language": "python",
   "name": "python3"
  },
  "language_info": {
   "codemirror_mode": {
    "name": "ipython",
    "version": 3
   },
   "file_extension": ".py",
   "mimetype": "text/x-python",
   "name": "python",
   "nbconvert_exporter": "python",
   "pygments_lexer": "ipython3",
   "version": "3.12.0"
  }
 },
 "nbformat": 4,
 "nbformat_minor": 2
}
