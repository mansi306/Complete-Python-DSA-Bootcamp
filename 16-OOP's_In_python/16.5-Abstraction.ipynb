{
 "cells": [
  {
   "cell_type": "markdown",
   "metadata": {},
   "source": [
    "#### Abstraction \n",
    "Abstraction in Python is an Object-Oriented Programming (OOP) principle that focuses on hiding the implementation details of a class and exposing only the essential features to the user. It allows developers to work with high-level concepts without worrying about the low-level implementation details.\n",
    "\n",
    "In Python, abstraction can be achieved using:\n",
    "\n",
    "Abstract Classes:\n",
    "\n",
    "These are classes that cannot be instantiated and are meant to be inherited. Abstract classes often include abstract methods that must be implemented by subclasses.\n",
    "\n",
    "Interfaces:\n",
    " \n",
    "Abstract classes can act like interfaces by enforcing method signatures without implementations."
   ]
  },
  {
   "cell_type": "code",
   "execution_count": 2,
   "metadata": {},
   "outputs": [
    {
     "name": "stdout",
     "output_type": "stream",
     "text": [
      "Brand : Maruti\n",
      "Model : Alto\n",
      "Year : 2022\n",
      "None\n",
      "Speed up ---\n",
      "None\n",
      "Car stopped \n",
      "None\n",
      "Not having that feature \n",
      "None\n"
     ]
    }
   ],
   "source": [
    "# Abstract Classes in Python\n",
    "\"\"\"\n",
    "Python provides the abc module (Abstract Base Class) to define abstract classes and methods.\n",
    "\"\"\"\n",
    "\n",
    "# Implementation of Data Abstraction in python \n",
    "from abc import ABC, abstractmethod\n",
    "# create abstract base class \n",
    "\n",
    "class Car(ABC):\n",
    "    def __init__(self,brand,model,year):\n",
    "        self.brand = brand \n",
    "        self.model = model \n",
    "        self.year = year \n",
    "\n",
    "# create abstarct method \n",
    "    @abstractmethod\n",
    "    def PrintDetails(self):\n",
    "        pass\n",
    "\n",
    "# create concrete method \n",
    "    def accelerate(self):\n",
    "        print(\"Speed up ---\")\n",
    "    \n",
    "    def break_applied(self):\n",
    "        print(\"Car stopped \")\n",
    "    \n",
    "# create a child class HatchBack\n",
    "class HatchBack(Car):\n",
    "    def PrintDetails(self):\n",
    "        print(f\"Brand : {self.brand}\")\n",
    "        print(f\"Model : {self.model}\")\n",
    "        print(f\"Year : {self.year}\")\n",
    "\n",
    "    def Sunroof(self):\n",
    "        print(\"Not having that feature \")\n",
    "\n",
    "# create a child class SUV \n",
    "class SUV(Car):\n",
    "    def PrintDetails(self):\n",
    "        print(f\"Brand : {self.brand}\")\n",
    "        print(f\"Model : {self.model}\")\n",
    "        print(f\"Year : {self.year}\")\n",
    "\n",
    "    def Sunroof(self):\n",
    "        print(\"Available ! \")\n",
    "\n",
    "# create an instance of HatchBack class \n",
    "c1 = HatchBack(\"Maruti\",\"Alto\",\"2022\")\n",
    "# class method\n",
    "print(c1.PrintDetails())\n",
    "print(c1.accelerate())\n",
    "print(c1.break_applied())\n",
    "print(c1.Sunroof())\n",
    "\n",
    "\n",
    "\n",
    "\n",
    "    \n",
    "\n",
    "\n"
   ]
  },
  {
   "cell_type": "code",
   "execution_count": null,
   "metadata": {},
   "outputs": [],
   "source": []
  }
 ],
 "metadata": {
  "kernelspec": {
   "display_name": "venv",
   "language": "python",
   "name": "python3"
  },
  "language_info": {
   "codemirror_mode": {
    "name": "ipython",
    "version": 3
   },
   "file_extension": ".py",
   "mimetype": "text/x-python",
   "name": "python",
   "nbconvert_exporter": "python",
   "pygments_lexer": "ipython3",
   "version": "3.12.0"
  }
 },
 "nbformat": 4,
 "nbformat_minor": 2
}
