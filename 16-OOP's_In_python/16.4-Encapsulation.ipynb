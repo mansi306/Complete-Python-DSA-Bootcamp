{
 "cells": [
  {
   "cell_type": "markdown",
   "metadata": {},
   "source": [
    "##### Encapsulation \n",
    "\n",
    "Encapsulation is one of the core principles of Object-Oriented Programming (OOP) that helps to restrict access to certain parts of an object and hide its internal implementation details. In Python, encapsulation is achieved using access modifiers:\n",
    "\n",
    "--Public\n",
    "\n",
    "--Protected\n",
    "\n",
    "--Private"
   ]
  },
  {
   "cell_type": "code",
   "execution_count": 4,
   "metadata": {},
   "outputs": [
    {
     "name": "stdout",
     "output_type": "stream",
     "text": [
      "My name is mansi\n",
      "None\n",
      "['__class__', '__delattr__', '__dict__', '__dir__', '__doc__', '__eq__', '__format__', '__ge__', '__getattribute__', '__getstate__', '__gt__', '__hash__', '__init__', '__init_subclass__', '__le__', '__lt__', '__module__', '__ne__', '__new__', '__reduce__', '__reduce_ex__', '__repr__', '__setattr__', '__sizeof__', '__str__', '__subclasshook__', '__weakref__', 'display']\n"
     ]
    }
   ],
   "source": [
    "# Public member(access modifier)\n",
    "\"\"\" Public members are accessible from anywhere , both inside and outside the class . \n",
    "these are default members in a class \n",
    "\"\"\"\n",
    "class Person:\n",
    "    def __init__(self,name):\n",
    "        # public attribute \n",
    "        self.name = name \n",
    "        # public method \n",
    "    def display(self):\n",
    "        print(f\"My name is {self.name}\")\n",
    "\n",
    "p1 = Person(\"mansi\")\n",
    "print(p1.display())\n",
    "print(dir(Person))\n"
   ]
  },
  {
   "cell_type": "code",
   "execution_count": 13,
   "metadata": {},
   "outputs": [
    {
     "name": "stdout",
     "output_type": "stream",
     "text": [
      "20\n",
      "['__class__', '__delattr__', '__dict__', '__dir__', '__doc__', '__eq__', '__format__', '__ge__', '__getattribute__', '__getstate__', '__gt__', '__hash__', '__init__', '__init_subclass__', '__le__', '__lt__', '__module__', '__ne__', '__new__', '__reduce__', '__reduce_ex__', '__repr__', '__setattr__', '__sizeof__', '__str__', '__subclasshook__', '__weakref__', 'display_age']\n",
      "['__class__', '__delattr__', '__dict__', '__dir__', '__doc__', '__eq__', '__format__', '__ge__', '__getattribute__', '__getstate__', '__gt__', '__hash__', '__init__', '__init_subclass__', '__le__', '__lt__', '__module__', '__ne__', '__new__', '__reduce__', '__reduce_ex__', '__repr__', '__setattr__', '__sizeof__', '__str__', '__subclasshook__', '__weakref__']\n"
     ]
    }
   ],
   "source": [
    "# Protected Member \n",
    "\"\"\"\n",
    "Protected members are prefixed with a single underscore _.\n",
    "These can still be accessed outside the class but are considered internal to the class or subclass by convention.\n",
    "\"\"\"\n",
    "\n",
    "class Person:\n",
    "    def __init__(self):\n",
    "        # protected attribute with _ (single underscore )\n",
    "        self._age = 20\n",
    "\n",
    "class child(Person):\n",
    "    def display_age(self):\n",
    "        # accessible in subclass \n",
    "        print(self._age)\n",
    "\n",
    "p1 = child()\n",
    "p1.display_age()\n",
    "print(dir(child))\n",
    "print(dir(Person))"
   ]
  },
  {
   "cell_type": "code",
   "execution_count": 11,
   "metadata": {},
   "outputs": [
    {
     "name": "stdout",
     "output_type": "stream",
     "text": [
      "['__class__', '__delattr__', '__dict__', '__dir__', '__doc__', '__eq__', '__format__', '__ge__', '__getattribute__', '__getstate__', '__gt__', '__hash__', '__init__', '__init_subclass__', '__le__', '__lt__', '__module__', '__ne__', '__new__', '__reduce__', '__reduce_ex__', '__repr__', '__setattr__', '__sizeof__', '__str__', '__subclasshook__', '__weakref__', 'salary']\n"
     ]
    }
   ],
   "source": [
    "## Private Members \n",
    "\"\"\"\n",
    "Private members are prefixed with a double underscore __.\n",
    "They are not directly accessible outside the class. Instead, Python uses name mangling to make these members harder to access\n",
    "\"\"\"\n",
    "\n",
    "class Person:\n",
    "    def __init__(self):\n",
    "        # Private attribute \n",
    "        self.__salary = 5000\n",
    "    \n",
    "    def salary (self):\n",
    "        # Access through public method \n",
    "        return self.__salary\n",
    "    \n",
    "p1 = Person()\n",
    "p1.salary()\n",
    "print(dir(Person))\n",
    "\n"
   ]
  },
  {
   "cell_type": "code",
   "execution_count": 16,
   "metadata": {},
   "outputs": [
    {
     "name": "stdout",
     "output_type": "stream",
     "text": [
      "Deposited : 233\n",
      "Withdraw : 100\n",
      "Balance : 1133\n"
     ]
    }
   ],
   "source": [
    "# Bank Account Management System \n",
    "\n",
    "class BankAccount:\n",
    "    def __init__(self,ac_num,balance):\n",
    "        self.ac_num = ac_num\n",
    "        self.__balance = balance\n",
    "\n",
    "    def deposit(self,amount):\n",
    "        if amount>=0:\n",
    "            self.__balance+=amount\n",
    "            print(f\"Deposited : {amount}\")\n",
    "        else:\n",
    "            raise ValueError(\"Invalid deposit amount \")\n",
    "    \n",
    "    def withdraw(self,amount):\n",
    "        if 0<amount <= self.__balance:\n",
    "            self.__balance-=amount\n",
    "            print(f\"Withdraw : {amount}\")\n",
    "\n",
    "        else:\n",
    "            raise ValueError(\"Insufficient balance\")\n",
    "    \n",
    "    def get_balance(self):\n",
    "        return self.__balance\n",
    "    \n",
    "\n",
    "account = BankAccount(12345,1000)\n",
    "account.deposit(233)\n",
    "account.withdraw(100)\n",
    "print(f\"Balance : {account.get_balance()}\")\n"
   ]
  },
  {
   "cell_type": "code",
   "execution_count": null,
   "metadata": {},
   "outputs": [],
   "source": []
  }
 ],
 "metadata": {
  "kernelspec": {
   "display_name": "venv",
   "language": "python",
   "name": "python3"
  },
  "language_info": {
   "codemirror_mode": {
    "name": "ipython",
    "version": 3
   },
   "file_extension": ".py",
   "mimetype": "text/x-python",
   "name": "python",
   "nbconvert_exporter": "python",
   "pygments_lexer": "ipython3",
   "version": "3.12.0"
  }
 },
 "nbformat": 4,
 "nbformat_minor": 2
}
