{
 "cells": [
  {
   "cell_type": "markdown",
   "metadata": {},
   "source": [
    "### Class \n",
    "\n",
    "Almost everything in python is an object , with its properties and methods \n",
    "Class is like a object's constructor , or a \"blueprint\" for creating a an object "
   ]
  },
  {
   "cell_type": "code",
   "execution_count": 4,
   "metadata": {},
   "outputs": [
    {
     "name": "stdout",
     "output_type": "stream",
     "text": [
      "Mansi\n",
      "21\n",
      "My name is Mansi & I'm 21 years old \n"
     ]
    }
   ],
   "source": [
    "# create a class named person , use the __init__() to assign values for name and age\n",
    "\n",
    "class Person:\n",
    "    def __init__(self,name,age):\n",
    "        self.name = name \n",
    "        self.age = age \n",
    "\n",
    "    def __str__(self):     \n",
    "        return f\"My name is {self.name} & I'm {self.age} years old \"\n",
    "\n",
    "#  creating a object \n",
    "\n",
    "p1 = Person(\"Mansi\",21)\n",
    "print(p1.name) \n",
    "print(p1.age)\n",
    "print(p1)"
   ]
  },
  {
   "cell_type": "markdown",
   "metadata": {},
   "source": [
    "#### Object methods \n",
    "object can also contain methods , methods in object are functions that belong to the object \n"
   ]
  },
  {
   "cell_type": "code",
   "execution_count": 1,
   "metadata": {},
   "outputs": [
    {
     "data": {
      "text/plain": [
       "'Hii , mansi Nice to meet You !!'"
      ]
     },
     "execution_count": 1,
     "metadata": {},
     "output_type": "execute_result"
    }
   ],
   "source": [
    "#  insert a function that prints a greeting\n",
    "class Person:\n",
    "    def __init__(self,name , age ):\n",
    "        self.name = name \n",
    "        self.age = age \n",
    "    #  greeting is a method \n",
    "    def greeting (self):\n",
    "        return f\"Hii , {self.name} Nice to meet You !!\"\n",
    "\n",
    "p1 = Person(\"mansi\",23)\n",
    "p1.greeting()"
   ]
  },
  {
   "cell_type": "code",
   "execution_count": 7,
   "metadata": {},
   "outputs": [
    {
     "name": "stdout",
     "output_type": "stream",
     "text": [
      "Dog name is :lucky and his breed is :Labrador and he says Woof!\n",
      "Dog name is :Bella and his breed is :Golden Retriver and he says Woof!\n"
     ]
    }
   ],
   "source": [
    "class Dog:\n",
    "    def __init__(self,name,breed):\n",
    "        self.name = name \n",
    "        self.breed = breed \n",
    "    \n",
    "    def bark(self):\n",
    "        return f\"Dog name is :{self.name} and his breed is :{self.breed} and he says Woof!\"\n",
    "\n",
    "d1 = Dog(\"lucky\",\"Labrador\")\n",
    "d2 = Dog(\"Bella\",\"Golden Retriver\")\n",
    "print(d1.bark())\n",
    "print(d2.bark())"
   ]
  },
  {
   "cell_type": "code",
   "execution_count": null,
   "metadata": {},
   "outputs": [],
   "source": []
  }
 ],
 "metadata": {
  "kernelspec": {
   "display_name": "venv",
   "language": "python",
   "name": "python3"
  },
  "language_info": {
   "codemirror_mode": {
    "name": "ipython",
    "version": 3
   },
   "file_extension": ".py",
   "mimetype": "text/x-python",
   "name": "python",
   "nbconvert_exporter": "python",
   "pygments_lexer": "ipython3",
   "version": "3.12.0"
  }
 },
 "nbformat": 4,
 "nbformat_minor": 2
}
