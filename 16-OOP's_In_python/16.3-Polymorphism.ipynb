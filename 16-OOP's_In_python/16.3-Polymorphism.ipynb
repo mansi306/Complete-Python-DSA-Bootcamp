{
 "cells": [
  {
   "cell_type": "markdown",
   "metadata": {},
   "source": [
    "#### Polymorphism \n",
    "The word polymorphism means \"Many forms \". In programming it refers to the methods/functions/operators with the same name that can be executed on many objects or classes \n",
    "\n",
    "- Polymorphism often used in class methods , where we can have multiple classes with same method name "
   ]
  },
  {
   "cell_type": "code",
   "execution_count": 3,
   "metadata": {},
   "outputs": [
    {
     "name": "stdout",
     "output_type": "stream",
     "text": [
      "Drive !\n",
      "Ibiza moves like a Sail !!\n",
      "Fly !\n"
     ]
    }
   ],
   "source": [
    "# create a three classes \"car\",\"boat\", \"plane \" and they all have a method called Move()\n",
    "\n",
    "class Car:\n",
    "    def __init__(self,brand,model):\n",
    "        self.brand = brand \n",
    "        self.model = model \n",
    "    def Move(self):\n",
    "        print(\"Drive !\")\n",
    "\n",
    "class Boat:\n",
    "    def __init__(self,brand,model):\n",
    "        self.brand = brand \n",
    "        self.model = model \n",
    "\n",
    "    def Move(self):\n",
    "        print(f\"{self.brand} moves like a Sail !!\")\n",
    "\n",
    "class Plane :\n",
    "    def __init__(self,brand,model):\n",
    "        self.brand = brand \n",
    "        self.model = model \n",
    "\n",
    "    def Move(self):\n",
    "        print(\"Fly !\")\n",
    "\n",
    "#  Creating a object \n",
    "c1 = Car(\"Mahindra\",\"Thar xxx\")\n",
    "b1 = Boat(\"Ibiza\",\"Touring 20\")\n",
    "p1 = Plane(\"Boing\",\"747\")\n",
    "for x in (c1,b1,p1):\n",
    "    x.Move()"
   ]
  },
  {
   "cell_type": "markdown",
   "metadata": {},
   "source": [
    "#### Inheritance Polymorphism \n",
    "what about classes with child classes with the same name ? can we use polymorphism there ?\n",
    "\n",
    "\n",
    " yess , if we use the example and create a vehicle as a parent class and make a \"car\",\"boat\",\"plane\" as child classes of vehicle the child classes inherits the vehicle methods , but can override then \n",
    "\n",
    "\n"
   ]
  },
  {
   "cell_type": "code",
   "execution_count": 5,
   "metadata": {},
   "outputs": [
    {
     "name": "stdout",
     "output_type": "stream",
     "text": [
      "Ford\n",
      "Drive !\n",
      "Fly!\n",
      "Sail !\n"
     ]
    }
   ],
   "source": [
    "# create a class called vehicle & make car,boat,plane child classes of vehicle \n",
    "class Vehicle :\n",
    "    def __init__(self,name,brand):\n",
    "        self.name = name \n",
    "        self.brand = brand \n",
    "    def move(self):\n",
    "        print(\"Move !\")\n",
    "    \n",
    "class Boat(Vehicle):\n",
    "    def move(self):\n",
    "        print(\"Sail !\")\n",
    "class Car(Vehicle):\n",
    "    def move(self):\n",
    "        print(\"Drive !\")\n",
    "\n",
    "class Plane (Vehicle):\n",
    "    def move(self):\n",
    "        print(\"Fly!\")\n",
    "\n",
    "c1 = Car(\"Ford\",\"Mustang\")\n",
    "b1 = Boat(\"Ibiza\",\"Touriing 20\")\n",
    "p1 = Plane(\"Boing\",\"747\")\n",
    "print(c1.name)\n",
    "\n",
    "for i in (c1,p1,b1):\n",
    "\n",
    "    i.move()"
   ]
  },
  {
   "cell_type": "code",
   "execution_count": null,
   "metadata": {},
   "outputs": [],
   "source": []
  }
 ],
 "metadata": {
  "kernelspec": {
   "display_name": "venv",
   "language": "python",
   "name": "python3"
  },
  "language_info": {
   "codemirror_mode": {
    "name": "ipython",
    "version": 3
   },
   "file_extension": ".py",
   "mimetype": "text/x-python",
   "name": "python",
   "nbconvert_exporter": "python",
   "pygments_lexer": "ipython3",
   "version": "3.12.0"
  }
 },
 "nbformat": 4,
 "nbformat_minor": 2
}
