{
 "cells": [
  {
   "cell_type": "code",
   "execution_count": 2,
   "metadata": {},
   "outputs": [
    {
     "name": "stdout",
     "output_type": "stream",
     "text": [
      "1\n",
      "2\n",
      "3\n",
      "1\n",
      "2\n",
      "3\n"
     ]
    }
   ],
   "source": [
    "class Node:\n",
    "    def __init__(self,value):\n",
    "        self.data = value\n",
    "        self.next = None\n",
    "\n",
    "def print_LL(head):\n",
    "    temp = head\n",
    "    while(temp!=None):\n",
    "        print(temp.data)\n",
    "        temp = temp.next\n",
    "    \n",
    "    temp = head\n",
    "    while(temp!=None):\n",
    "        print(temp.data)\n",
    "        temp = temp.next\n",
    "\n",
    "    return\n",
    "\n",
    "\n",
    "first = Node(1)\n",
    "second = Node(2)\n",
    "third = Node(3)\n",
    "\n",
    "# print(id(first), id(second),id(third))\n",
    "\n",
    "first.next = second\n",
    "second.next = third\n",
    "\n",
    "# first.next\n",
    "\n",
    "\n",
    "head = first\n",
    "\n",
    "print_LL(head)\n",
    "\n"
   ]
  },
  {
   "cell_type": "code",
   "execution_count": null,
   "metadata": {},
   "outputs": [],
   "source": []
  },
  {
   "cell_type": "code",
   "execution_count": null,
   "metadata": {},
   "outputs": [],
   "source": []
  }
 ],
 "metadata": {
  "kernelspec": {
   "display_name": "venv",
   "language": "python",
   "name": "python3"
  },
  "language_info": {
   "codemirror_mode": {
    "name": "ipython",
    "version": 3
   },
   "file_extension": ".py",
   "mimetype": "text/x-python",
   "name": "python",
   "nbconvert_exporter": "python",
   "pygments_lexer": "ipython3",
   "version": "3.12.0"
  }
 },
 "nbformat": 4,
 "nbformat_minor": 2
}
