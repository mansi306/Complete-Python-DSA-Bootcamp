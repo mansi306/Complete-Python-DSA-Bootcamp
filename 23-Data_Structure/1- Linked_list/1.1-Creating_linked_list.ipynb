{
 "cells": [
  {
   "cell_type": "code",
   "execution_count": 16,
   "metadata": {},
   "outputs": [
    {
     "name": "stdout",
     "output_type": "stream",
     "text": [
      "1843629738464 1843630288496 1843630280960\n",
      "1\n",
      "3\n",
      "3\n",
      "None\n"
     ]
    }
   ],
   "source": [
    "# creating a linked list data structure \n",
    "\n",
    "class Node:\n",
    "    # creating constructor \n",
    "    def __init__(self,data):\n",
    "        self.data = data \n",
    "        self.next = None \n",
    "\n",
    "first = Node(1)\n",
    "second= Node(2)\n",
    "third = Node(3)\n",
    "print(id(first),id(second),id(third))\n",
    "head = first \n",
    "\n",
    "first.next = second \n",
    "second.next = third \n",
    "\n",
    "print(head.data)\n",
    "print(second.next.data)\n",
    "print(head.next.next.data)\n",
    "print(third.next)\n",
    "# a\n",
    "# print(third.next.data) \n",
    "del(first)\n",
    "del(second)\n",
    "del(third)"
   ]
  },
  {
   "cell_type": "code",
   "execution_count": 3,
   "metadata": {},
   "outputs": [
    {
     "name": "stdout",
     "output_type": "stream",
     "text": [
      "True\n"
     ]
    }
   ],
   "source": [
    "def is_prime(n):\n",
    "    if (n==1):\n",
    "        return False \n",
    "    for i in range(2,n):\n",
    "        if (n%i==0):\n",
    "            return False \n",
    "    return True \n",
    "\n",
    "n = int(input(\"Enter a number : \"))\n",
    "print(is_prime(n))\n"
   ]
  },
  {
   "cell_type": "code",
   "execution_count": null,
   "metadata": {},
   "outputs": [],
   "source": []
  }
 ],
 "metadata": {
  "kernelspec": {
   "display_name": "Python 3",
   "language": "python",
   "name": "python3"
  },
  "language_info": {
   "codemirror_mode": {
    "name": "ipython",
    "version": 3
   },
   "file_extension": ".py",
   "mimetype": "text/x-python",
   "name": "python",
   "nbconvert_exporter": "python",
   "pygments_lexer": "ipython3",
   "version": "3.12.0"
  }
 },
 "nbformat": 4,
 "nbformat_minor": 2
}
