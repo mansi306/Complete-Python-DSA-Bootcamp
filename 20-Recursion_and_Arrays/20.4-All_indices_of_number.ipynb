{
 "cells": [
  {
   "cell_type": "markdown",
   "metadata": {},
   "source": [
    "Print all Index of Element using Recursion\n",
    "\n",
    "Problem Description:\n",
    "\n",
    "You are given an array and an element. Your task is to find all the indices where the array contains that element using recursion.\n",
    "\n",
    "\n",
    "\n",
    "Input:\n",
    "\n",
    "An array arr of integers.\n",
    "\n",
    "An integer element.\n",
    "\n",
    "\n",
    "\n",
    "Output:\n",
    "\n",
    "A list of indices where element is found in arr.\n",
    "\n",
    "\n",
    "\n",
    "Example:\n",
    "\n",
    "Input: arr = [1, 2, 3, 2, 4, 2], element = 2\n",
    "\n",
    "Output: [1, 3, 5]\n",
    " \n",
    "Input: arr = [5, 6, 7, 8], element = 10\n",
    "\n",
    "Output: []\n"
   ]
  },
  {
   "cell_type": "code",
   "execution_count": null,
   "metadata": {},
   "outputs": [],
   "source": []
  },
  {
   "cell_type": "code",
   "execution_count": 2,
   "metadata": {},
   "outputs": [
    {
     "name": "stdout",
     "output_type": "stream",
     "text": [
      "[1, 6]\n"
     ]
    }
   ],
   "source": [
    "def find_indices(arr, element):\n",
    "    \"\"\"\n",
    "    Function to find all indices of a given element in an array using recursion.\n",
    "    \n",
    "    Parameters:\n",
    "    arr (list of int): The array to search through.\n",
    "    element (int): The element to find.\n",
    "    \n",
    "    Returns:\n",
    "    list of int: A list containing all indices of the element in the array.\n",
    "    \"\"\"\n",
    "    \n",
    "    # Helper function to perform the recursive search\n",
    "    def helper(index):\n",
    "        # Base case: if index is equal to the length of the array, return empty list\n",
    "        if index == len(arr):\n",
    "            return []\n",
    "        \n",
    "        # Check if the current index contains the element\n",
    "        if arr[index] == element:\n",
    "            # Include the current index and proceed with the next index\n",
    "            return [index] + helper(index + 1)\n",
    "        else:\n",
    "            # Proceed with the next index without including the current index\n",
    "            return helper(index + 1)\n",
    "    return helper(0)\n",
    "\n",
    "print(find_indices([1,2,3,4,5,3,2],2))"
   ]
  },
  {
   "cell_type": "code",
   "execution_count": null,
   "metadata": {},
   "outputs": [],
   "source": []
  }
 ],
 "metadata": {
  "kernelspec": {
   "display_name": "Python 3",
   "language": "python",
   "name": "python3"
  },
  "language_info": {
   "codemirror_mode": {
    "name": "ipython",
    "version": 3
   },
   "file_extension": ".py",
   "mimetype": "text/x-python",
   "name": "python",
   "nbconvert_exporter": "python",
   "pygments_lexer": "ipython3",
   "version": "3.12.0"
  }
 },
 "nbformat": 4,
 "nbformat_minor": 2
}
