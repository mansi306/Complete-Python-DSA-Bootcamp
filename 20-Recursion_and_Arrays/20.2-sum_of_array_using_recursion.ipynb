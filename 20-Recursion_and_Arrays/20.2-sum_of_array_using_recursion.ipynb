{
 "cells": [
  {
   "cell_type": "code",
   "execution_count": 2,
   "metadata": {},
   "outputs": [
    {
     "name": "stdout",
     "output_type": "stream",
     "text": [
      "781\n"
     ]
    }
   ],
   "source": [
    "def sum_of_array(lst):\n",
    "    if len(lst)==0:\n",
    "        return 0 \n",
    "    return lst[0]+sum_of_array(lst[1:])\n",
    "\n",
    "print(sum_of_array([34,45,656,12,34]))\n"
   ]
  },
  {
   "cell_type": "code",
   "execution_count": 4,
   "metadata": {},
   "outputs": [
    {
     "name": "stdout",
     "output_type": "stream",
     "text": [
      "281\n"
     ]
    }
   ],
   "source": [
    "def sum_array_tail(arr, accumlator =0):\n",
    "    if len(arr)==0:\n",
    "        return accumlator\n",
    "    accumlator += arr[0]\n",
    "    return sum_array_tail(arr[1:],accumlator)\n",
    "\n",
    "print(sum_array_tail([1,223,23,34]))\n",
    "    "
   ]
  },
  {
   "cell_type": "code",
   "execution_count": null,
   "metadata": {},
   "outputs": [],
   "source": []
  }
 ],
 "metadata": {
  "kernelspec": {
   "display_name": "venv",
   "language": "python",
   "name": "python3"
  },
  "language_info": {
   "codemirror_mode": {
    "name": "ipython",
    "version": 3
   },
   "file_extension": ".py",
   "mimetype": "text/x-python",
   "name": "python",
   "nbconvert_exporter": "python",
   "pygments_lexer": "ipython3",
   "version": "3.12.0"
  }
 },
 "nbformat": 4,
 "nbformat_minor": 2
}
