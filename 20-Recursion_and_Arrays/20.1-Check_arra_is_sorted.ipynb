{
 "cells": [
  {
   "cell_type": "code",
   "execution_count": 8,
   "metadata": {},
   "outputs": [
    {
     "name": "stdout",
     "output_type": "stream",
     "text": [
      "False\n",
      "True\n",
      "False\n"
     ]
    }
   ],
   "source": [
    "def check_sorted(lst):\n",
    "    if len(lst) == 0 or len(lst) == 1:\n",
    "        return True\n",
    "    # Check for ascending order\n",
    "    if lst[0] >= lst[1]:\n",
    "        return False\n",
    "    return check_sorted(lst[1:])\n",
    "    \n",
    "print(check_sorted([10, 9, 8, 7, 6]))  # True\n",
    "print(check_sorted([1, 2, 3, 4, 5]))  # True\n",
    "print(check_sorted([1, 3, 2]))        # False\n"
   ]
  },
  {
   "cell_type": "code",
   "execution_count": null,
   "metadata": {},
   "outputs": [],
   "source": []
  }
 ],
 "metadata": {
  "kernelspec": {
   "display_name": "Python 3",
   "language": "python",
   "name": "python3"
  },
  "language_info": {
   "codemirror_mode": {
    "name": "ipython",
    "version": 3
   },
   "file_extension": ".py",
   "mimetype": "text/x-python",
   "name": "python",
   "nbconvert_exporter": "python",
   "pygments_lexer": "ipython3",
   "version": "3.12.0"
  }
 },
 "nbformat": 4,
 "nbformat_minor": 2
}
