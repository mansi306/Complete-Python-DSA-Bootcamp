{
 "cells": [
  {
   "cell_type": "code",
   "execution_count": 3,
   "metadata": {},
   "outputs": [
    {
     "name": "stdout",
     "output_type": "stream",
     "text": [
      "4\n"
     ]
    }
   ],
   "source": [
    "def first_index(l1,n):\n",
    "    if len(l1)==0:\n",
    "        return -1 \n",
    "    if (l1[0]==n):\n",
    "        return 0 \n",
    "    ans =  first_index(l1[1:],n)\n",
    "    if ans == -1:\n",
    "        return ans \n",
    "    else:\n",
    "        return ans+1\n",
    "    \n",
    "\n",
    "print(first_index([1,2,3,45,6,6],6))"
   ]
  },
  {
   "cell_type": "code",
   "execution_count": null,
   "metadata": {},
   "outputs": [],
   "source": []
  }
 ],
 "metadata": {
  "kernelspec": {
   "display_name": "Python 3",
   "language": "python",
   "name": "python3"
  },
  "language_info": {
   "codemirror_mode": {
    "name": "ipython",
    "version": 3
   },
   "file_extension": ".py",
   "mimetype": "text/x-python",
   "name": "python",
   "nbconvert_exporter": "python",
   "pygments_lexer": "ipython3",
   "version": "3.12.0"
  }
 },
 "nbformat": 4,
 "nbformat_minor": 2
}
