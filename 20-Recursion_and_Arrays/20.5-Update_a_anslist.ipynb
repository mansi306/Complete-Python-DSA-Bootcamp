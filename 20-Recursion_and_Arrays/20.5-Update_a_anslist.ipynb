{
 "cells": [
  {
   "cell_type": "code",
   "execution_count": 5,
   "metadata": {},
   "outputs": [
    {
     "name": "stdout",
     "output_type": "stream",
     "text": [
      "None\n"
     ]
    }
   ],
   "source": [
    "def update_list(l1,n,index,anslist):\n",
    "\n",
    "    if index == len(l1):\n",
    "        return \n",
    "    if (l1[index]==n):\n",
    "        anslist.append(index)\n",
    "    \n",
    "    update_list(l1,n,index+1,anslist)\n",
    "anslist = []\n",
    "\n",
    "update_list([1,2,3,4,5,3,2,1],2,0,anslist)\n",
    "print(anslist)"
   ]
  },
  {
   "cell_type": "code",
   "execution_count": null,
   "metadata": {},
   "outputs": [],
   "source": []
  }
 ],
 "metadata": {
  "kernelspec": {
   "display_name": "Python 3",
   "language": "python",
   "name": "python3"
  },
  "language_info": {
   "codemirror_mode": {
    "name": "ipython",
    "version": 3
   },
   "file_extension": ".py",
   "mimetype": "text/x-python",
   "name": "python",
   "nbconvert_exporter": "python",
   "pygments_lexer": "ipython3",
   "version": "3.12.0"
  }
 },
 "nbformat": 4,
 "nbformat_minor": 2
}
