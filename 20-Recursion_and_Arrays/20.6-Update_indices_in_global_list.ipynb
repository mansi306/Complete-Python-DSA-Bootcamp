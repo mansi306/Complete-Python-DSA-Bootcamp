{
 "cells": [
  {
   "cell_type": "code",
   "execution_count": 4,
   "metadata": {},
   "outputs": [
    {
     "name": "stdout",
     "output_type": "stream",
     "text": [
      "[2, 4, 7]\n"
     ]
    }
   ],
   "source": [
    "#  initialise a global list  varible \n",
    "ans_list = []\n",
    "\n",
    "def update_indices_in_global_list(l1,n,index):\n",
    "    if index == len(l1):\n",
    "        return \n",
    "    if l1[index]== n :\n",
    "        ans_list.append(index)\n",
    "    update_indices_in_global_list(l1,n,index+1)\n",
    "    return ans_list\n",
    "\n",
    "print(update_indices_in_global_list([1,2,3,4,3,4,2,3,],3,0))\n",
    "\n"
   ]
  },
  {
   "cell_type": "code",
   "execution_count": null,
   "metadata": {},
   "outputs": [],
   "source": []
  }
 ],
 "metadata": {
  "kernelspec": {
   "display_name": "venv",
   "language": "python",
   "name": "python3"
  },
  "language_info": {
   "codemirror_mode": {
    "name": "ipython",
    "version": 3
   },
   "file_extension": ".py",
   "mimetype": "text/x-python",
   "name": "python",
   "nbconvert_exporter": "python",
   "pygments_lexer": "ipython3",
   "version": "3.12.0"
  }
 },
 "nbformat": 4,
 "nbformat_minor": 2
}
