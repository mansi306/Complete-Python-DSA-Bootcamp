{
 "cells": [
  {
   "cell_type": "markdown",
   "metadata": {},
   "source": [
    "#### Functions in Python\n",
    "1. Introduction to Functions\n",
    "2. Defining Functions\n",
    "3. Calling Functions\n",
    "4. Function Parameters\n",
    "5. Default Parameters\n",
    "6. Variable-Length Arguments\n",
    "7. Return Statement"
   ]
  },
  {
   "cell_type": "markdown",
   "metadata": {},
   "source": [
    "##### Introduction to Functions\n",
    "Definition:\n",
    "\n",
    "A function is a block of code that performs a specific task.\n",
    "Functions help in organizing code, reusing code, and improving readability.\n",
    "\n"
   ]
  },
  {
   "cell_type": "code",
   "execution_count": null,
   "metadata": {},
   "outputs": [],
   "source": [
    "# syntax of fumction\n",
    "#def function_name(parameter):\n",
    "    #\"\"\" Docstring\"\"\"\n",
    "    #function body \n",
    "    #return expression \n"
   ]
  },
  {
   "cell_type": "code",
   "execution_count": 1,
   "metadata": {},
   "outputs": [
    {
     "name": "stdout",
     "output_type": "stream",
     "text": [
      "odd number \n"
     ]
    }
   ],
   "source": [
    "# why function \n",
    "num = int(input(\"enter a number :\"))\n",
    "if num%2==0:\n",
    "    print(\"Even number \")\n",
    "else:\n",
    "    print(\"odd number \")"
   ]
  },
  {
   "cell_type": "code",
   "execution_count": 7,
   "metadata": {},
   "outputs": [
    {
     "name": "stdout",
     "output_type": "stream",
     "text": [
      "the number is even\n",
      "None\n"
     ]
    }
   ],
   "source": [
    "# using function \n",
    "def even_or_odd(num):\n",
    "    \"\"\"This function check even or odd number \"\"\"\n",
    "    if num%2==0:\n",
    "        print(\"Even number \")\n",
    "    else:\n",
    "        print(\"Odd number \")\n",
    "\n",
    "# calling a function \n",
    "num = int(input(\"Enter a number :\"))\n",
    "result = even_or_odd(num)\n",
    "print(result)"
   ]
  },
  {
   "cell_type": "code",
   "execution_count": 13,
   "metadata": {},
   "outputs": [
    {
     "name": "stdout",
     "output_type": "stream",
     "text": [
      "50\n"
     ]
    }
   ],
   "source": [
    "## function with multiple parameters\n",
    "def add(a,b):\n",
    "    \"\"\"This function Perform addition of two number \"\"\"\n",
    "    return a+b\n",
    "a,b = map(int,input().split())\n",
    "print(add(a,b))"
   ]
  },
  {
   "cell_type": "code",
   "execution_count": 7,
   "metadata": {},
   "outputs": [
    {
     "name": "stdout",
     "output_type": "stream",
     "text": [
      "Hello Neha , welcome to the paradise !!\n",
      "None\n"
     ]
    }
   ],
   "source": [
    "## Default Parameters\n",
    "def greet(name):\n",
    "    print(f\"Hello {name} , welcome to the paradise !!\")\n",
    "print (greet(\"Neha\"))"
   ]
  },
  {
   "cell_type": "code",
   "execution_count": 9,
   "metadata": {},
   "outputs": [
    {
     "name": "stdout",
     "output_type": "stream",
     "text": [
      "Hello,Guest Welcome to the paradise \n"
     ]
    }
   ],
   "source": [
    "def greet(name=\"Guest\"):\n",
    "    \"\"\"This is Greeting function\"\"\"\n",
    "    print(f\"Hello,{name} Welcome to the paradise \")\n",
    "\n",
    "greet()"
   ]
  },
  {
   "cell_type": "code",
   "execution_count": 11,
   "metadata": {},
   "outputs": [
    {
     "name": "stdout",
     "output_type": "stream",
     "text": [
      "1 2 3 4 mansi True 2.34 "
     ]
    }
   ],
   "source": [
    "# variable length arguments \n",
    "# positional and keyword arguments \n",
    "\n",
    "def print_numbers(*args): # *args is used for variable length arguments \n",
    "    for num in args:\n",
    "        print(num,end=\" \")\n",
    "print_numbers(1,2,3,4,\"mansi\",True,2.34)"
   ]
  },
  {
   "cell_type": "code",
   "execution_count": 15,
   "metadata": {},
   "outputs": [
    {
     "name": "stdout",
     "output_type": "stream",
     "text": [
      "name : Mansi\n",
      "mid_name : Laxman\n",
      "Last_name : Patil\n",
      "Age : 22\n"
     ]
    }
   ],
   "source": [
    "# Keyword argument \n",
    "def Print_num(**kwargs):# **kwargs arguments are in key,value pairs\n",
    "    for key,value in kwargs.items():\n",
    "        print(f\"{key} : {value}\")\n",
    "\n",
    "Print_num(name=\"Mansi\",mid_name=\"Laxman\",Last_name=\"Patil\",Age=22)\n"
   ]
  },
  {
   "cell_type": "code",
   "execution_count": 16,
   "metadata": {},
   "outputs": [
    {
     "name": "stdout",
     "output_type": "stream",
     "text": [
      " Positional Argument : 1\n",
      " Positional Argument : 2\n",
      " Positional Argument : 3.13\n",
      " Positional Argument : True\n",
      "name:Mansi \n",
      "age:22 \n",
      "Country:India \n"
     ]
    }
   ],
   "source": [
    "def print_num(*args,**kwargs):\n",
    "    \"\"\" This fumction shows both positional and keyword argument use \"\"\"\n",
    "    for i in args:\n",
    "        print(f\" Positional Argument : {i}\")\n",
    "    for key,value in kwargs.items():\n",
    "        print(f\"{key}:{value} \")\n",
    "\n",
    "print_num(1,2,3.13,True,name=\"Mansi\",age=22,Country=\"India\")"
   ]
  },
  {
   "cell_type": "code",
   "execution_count": 18,
   "metadata": {},
   "outputs": [
    {
     "name": "stdout",
     "output_type": "stream",
     "text": [
      "20\n"
     ]
    }
   ],
   "source": [
    "# Return statement \n",
    "def mul(a,b):\n",
    "    \"\"\"This fumction performs multiplication of two number \"\"\"\n",
    "    return a*b\n",
    "\n",
    "a= int(input(\"Enter a 1st number :\"))\n",
    "b = int(input(\"Enter a 2nd number : \"))\n",
    "print(mul(a,b))"
   ]
  },
  {
   "cell_type": "code",
   "execution_count": 19,
   "metadata": {},
   "outputs": [
    {
     "data": {
      "text/plain": [
       "(6, 2)"
      ]
     },
     "execution_count": 19,
     "metadata": {},
     "output_type": "execute_result"
    }
   ],
   "source": [
    "## return multiple statements \n",
    "\n",
    "def mul_num(a,b):\n",
    "    return a*b,a\n",
    "mul_num(2,3)"
   ]
  },
  {
   "cell_type": "code",
   "execution_count": null,
   "metadata": {},
   "outputs": [],
   "source": [
    "\n"
   ]
  }
 ],
 "metadata": {
  "kernelspec": {
   "display_name": "Python 3",
   "language": "python",
   "name": "python3"
  },
  "language_info": {
   "codemirror_mode": {
    "name": "ipython",
    "version": 3
   },
   "file_extension": ".py",
   "mimetype": "text/x-python",
   "name": "python",
   "nbconvert_exporter": "python",
   "pygments_lexer": "ipython3",
   "version": "3.12.0"
  }
 },
 "nbformat": 4,
 "nbformat_minor": 2
}
