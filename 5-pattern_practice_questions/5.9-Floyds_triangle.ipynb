{
 "cells": [
  {
   "cell_type": "markdown",
   "metadata": {},
   "source": [
    "Floyds Triangle\n",
    "\n",
    "Problem Description:\n",
    "\n",
    "You are given an integer n. Your task is to return the first n rows of Floyd’s Triangle, represented as a list of strings. Floyd's Triangle is a triangular array of natural numbers where the first row contains 1, the second row contains 2 and 3, the third row contains 4, 5, and 6, and so on.\n",
    "\n",
    "\n",
    "\n",
    "Input:\n",
    "\n",
    "A single integer n, where 1 <= n <= 100.\n",
    "\n",
    "\n",
    "\n",
    "Output:\n",
    "\n",
    "A list of strings where each string represents a row in Floyd's Triangle.\n",
    "\n",
    "\n",
    "\n",
    "Example:\n",
    "\n",
    "Input: 5\n",
    "\n",
    "Output: ['1', '2 3', '4 5 6', '7 8 9 10', '11 12 13 14 15']\n",
    " \n",
    "Input: 3\n",
    "\n",
    "Output: ['1', '2 3', '4 5 6']\n"
   ]
  },
  {
   "cell_type": "code",
   "execution_count": 1,
   "metadata": {},
   "outputs": [
    {
     "name": "stdout",
     "output_type": "stream",
     "text": [
      "['1', '2 3', '4 5 6']\n"
     ]
    }
   ],
   "source": [
    "def floyds_triangle(n):\n",
    "    triangle = []\n",
    "    current_num=1\n",
    "    for i in range(1,n+1):\n",
    "        row = ' '\n",
    "        for j in range(i):\n",
    "            row = row+str(current_num)+\" \"\n",
    "            current_num+=1\n",
    "        row=row.strip()\n",
    "        triangle.append(row)\n",
    "    return triangle\n",
    "\n",
    "n = int(input(\"Enter a number : \"))\n",
    "print(floyds_triangle(n))"
   ]
  },
  {
   "cell_type": "code",
   "execution_count": 4,
   "metadata": {},
   "outputs": [
    {
     "name": "stdout",
     "output_type": "stream",
     "text": [
      "1\n",
      "2 3\n",
      "4 5 6\n",
      "None\n"
     ]
    },
    {
     "ename": "",
     "evalue": "",
     "output_type": "error",
     "traceback": [
      "\u001b[1;31mThe Kernel crashed while executing code in the current cell or a previous cell. \n",
      "\u001b[1;31mPlease review the code in the cell(s) to identify a possible cause of the failure. \n",
      "\u001b[1;31mClick <a href='https://aka.ms/vscodeJupyterKernelCrash'>here</a> for more info. \n",
      "\u001b[1;31mView Jupyter <a href='command:jupyter.viewOutput'>log</a> for further details."
     ]
    }
   ],
   "source": [
    "def floyds_triangle(n):\n",
    "\n",
    "    current_num=1\n",
    "    for i in range(1,n+1):\n",
    "        row = ' '\n",
    "        for j in range(i):\n",
    "            row = row+str(current_num)+\" \"\n",
    "            current_num+=1\n",
    "        row=row.strip()\n",
    "        print(row)\n",
    "\n",
    "n = int(input(\"Enter a number : \"))\n",
    "print(floyds_triangle(n))"
   ]
  },
  {
   "cell_type": "code",
   "execution_count": null,
   "metadata": {},
   "outputs": [],
   "source": []
  }
 ],
 "metadata": {
  "kernelspec": {
   "display_name": "Python 3",
   "language": "python",
   "name": "python3"
  },
  "language_info": {
   "codemirror_mode": {
    "name": "ipython",
    "version": 3
   },
   "file_extension": ".py",
   "mimetype": "text/x-python",
   "name": "python",
   "nbconvert_exporter": "python",
   "pygments_lexer": "ipython3",
   "version": "3.12.0"
  }
 },
 "nbformat": 4,
 "nbformat_minor": 2
}
