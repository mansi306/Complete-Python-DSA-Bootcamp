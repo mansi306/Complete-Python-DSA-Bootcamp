{
 "cells": [
  {
   "cell_type": "markdown",
   "metadata": {},
   "source": [
    "Hollow Inverted Right Triangle\n",
    "\n",
    "Problem Description:\n",
    "\n",
    "You are given an integer n. Your task is to return a hollow inverted right-angled triangle pattern of '*', where the first row contains n stars, while the inner rows contain a star at the beginning and end, with spaces in between. The triangle should be left-aligned.\n",
    "\n",
    "\n",
    "\n",
    "Input:\n",
    "\n",
    "A single integer n, where 1 <= n <= 100.\n",
    "\n",
    "\n",
    "\n",
    "Output:\n",
    "\n",
    "A list of strings where each string represents a row in the hollow inverted right-angled triangle.\n",
    "\n",
    "\n",
    "\n",
    "Example:\n",
    "\n",
    "Input: 4\n",
    "\n",
    "Output: ['****', '* *', '**', '*']\n",
    " \n",
    "Input: 5\n",
    "\n",
    "Output: ['*****', '*  *', '* *', '**', '*']"
   ]
  },
  {
   "cell_type": "code",
   "execution_count": 1,
   "metadata": {},
   "outputs": [
    {
     "name": "stdout",
     "output_type": "stream",
     "text": [
      "***\n",
      "**\n",
      "*\n"
     ]
    }
   ],
   "source": [
    "def hollow_right_triangle(n):\n",
    "    # Initialize an empty list to store the rows of the triangle\n",
    "    pattern = []\n",
    "\n",
    "    # Loop through each row\n",
    "    for i in range(n,0,-1):\n",
    "        if i==1:\n",
    "            pattern.append('*')\n",
    "        elif i==2:\n",
    "            pattern.append('**')\n",
    "        elif i==n:\n",
    "            pattern.append('*'*n)\n",
    "        else:\n",
    "            pattern.append('*'+' '*(i-2)+'*')\n",
    "    return pattern\n",
    "\n",
    "# Example usage:\n",
    "n = int(input(\"Enter the value of n: \"))\n",
    "result = hollow_right_triangle(n)\n",
    "for row in result:\n",
    "    print(row)\n"
   ]
  },
  {
   "cell_type": "code",
   "execution_count": null,
   "metadata": {},
   "outputs": [],
   "source": []
  }
 ],
 "metadata": {
  "kernelspec": {
   "display_name": "venv",
   "language": "python",
   "name": "python3"
  },
  "language_info": {
   "codemirror_mode": {
    "name": "ipython",
    "version": 3
   },
   "file_extension": ".py",
   "mimetype": "text/x-python",
   "name": "python",
   "nbconvert_exporter": "python",
   "pygments_lexer": "ipython3",
   "version": "3.12.0"
  }
 },
 "nbformat": 4,
 "nbformat_minor": 2
}
