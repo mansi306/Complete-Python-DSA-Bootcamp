{
 "cells": [
  {
   "cell_type": "markdown",
   "metadata": {},
   "source": [
    "Sandglass Pattern\n",
    "\n",
    "Problem Description:\n",
    "\n",
    "You are given an integer n. Your task is to return a sandglass pattern of '*', where the first row contains 2n - 1 stars and each subsequent row decreases the number of stars by 2, until the last row contains a single star. After reaching the smallest width, the pattern then continues with the same number of stars increasing back to 2n - 1. The stars in each row should be centered.\n",
    "\n",
    "\n",
    "\n",
    "Input:\n",
    "\n",
    "A single integer n, where 1 <= n <= 100.\n",
    "\n",
    "\n",
    "\n",
    "Output:\n",
    "\n",
    "A list of strings where each string represents a row in the sandglass pattern.\n",
    "\n",
    "\n",
    "\n",
    "Example:\n",
    "\n",
    "Input: 3\n",
    "\n",
    "Output: [*****   ***    *    ***  *****]\n",
    " \n",
    "Input: 4\n",
    "\n",
    "Output: [*******  *****  ***   *   ***  *****  *******]"
   ]
  },
  {
   "cell_type": "code",
   "execution_count": 5,
   "metadata": {},
   "outputs": [
    {
     "name": "stdout",
     "output_type": "stream",
     "text": [
      "['*****', ' *** ', '  *  ', ' *** ', '*****']\n"
     ]
    }
   ],
   "source": [
    "def generate_sandglass_pattern(n):\n",
    "    pattern = []\n",
    "    for i in range(n):\n",
    "        row = ' '*i+'*'*(2 * (n - i) - 1)+' '*i\n",
    "        pattern.append(row)\n",
    "    \n",
    "    for i in range(n-2,-1,-1):\n",
    "        row = ' '*i+'*'*(2 * (n - i) - 1)+' '*i\n",
    "        pattern.append(row)\n",
    "    return pattern\n",
    "\n",
    "n = int(input(\"Enter a number : \"))\n",
    "print(generate_sandglass_pattern(n))\n"
   ]
  },
  {
   "cell_type": "code",
   "execution_count": 6,
   "metadata": {},
   "outputs": [
    {
     "name": "stdout",
     "output_type": "stream",
     "text": [
      "*****\n",
      " *** \n",
      "  *  \n",
      " *** \n",
      "*****\n",
      "None\n"
     ]
    }
   ],
   "source": [
    "def generate_sandglass_pattern(n):\n",
    "    \n",
    "    for i in range(n):\n",
    "        row = ' '*i+'*'*(2 * (n - i) - 1)+' '*i\n",
    "        print(row)\n",
    "    \n",
    "    for i in range(n-2,-1,-1):\n",
    "        row = ' '*i+'*'*(2 * (n - i) - 1)+' '*i\n",
    "        print(row)\n",
    "    \n",
    "\n",
    "n = int(input(\"Enter a number : \"))\n",
    "print(generate_sandglass_pattern(n))\n"
   ]
  },
  {
   "cell_type": "code",
   "execution_count": null,
   "metadata": {},
   "outputs": [],
   "source": []
  }
 ],
 "metadata": {
  "kernelspec": {
   "display_name": "Python 3",
   "language": "python",
   "name": "python3"
  },
  "language_info": {
   "codemirror_mode": {
    "name": "ipython",
    "version": 3
   },
   "file_extension": ".py",
   "mimetype": "text/x-python",
   "name": "python",
   "nbconvert_exporter": "python",
   "pygments_lexer": "ipython3",
   "version": "3.12.0"
  }
 },
 "nbformat": 4,
 "nbformat_minor": 2
}
