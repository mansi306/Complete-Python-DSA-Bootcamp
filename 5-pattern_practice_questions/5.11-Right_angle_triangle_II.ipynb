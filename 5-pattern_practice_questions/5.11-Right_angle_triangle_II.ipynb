{
 "cells": [
  {
   "cell_type": "markdown",
   "metadata": {},
   "source": [
    "Right Angled Triangle II\n",
    "\n",
    "Problem Description:\n",
    "\n",
    "You are given an integer n. Your task is to return a right-angled triangle pattern of '*', where each row contains stars aligned to the right. The first row has one star, the second row has two stars, and so on, until the nth row has n stars.\n",
    "\n",
    "\n",
    "\n",
    "Input:\n",
    "\n",
    "A single integer n, where 1 <= n <= 100.\n",
    "\n",
    "\n",
    "\n",
    "Output:\n",
    "\n",
    "A list of strings where each string represents a row in the right-angled triangle, right-aligned.\n",
    "\n",
    "\n",
    "\n",
    "Example:\n",
    "\n",
    "Input: 4\n",
    "\n",
    "Output: [   *  **    ***  ****]\n",
    " \n",
    "Input: 3\n",
    "\n",
    "Output: [  *   ** ***]\n"
   ]
  },
  {
   "cell_type": "code",
   "execution_count": 2,
   "metadata": {},
   "outputs": [
    {
     "name": "stdout",
     "output_type": "stream",
     "text": [
      "['   *', '  **', ' ***', '****']\n"
     ]
    }
   ],
   "source": [
    "def generate_right_angle_triangle(n):\n",
    "    triangle = []\n",
    "    for i in range(1,n+1):\n",
    "        row = ' '*(n-i)+'*'*i\n",
    "        triangle.append(row)\n",
    "    return triangle\n",
    "\n",
    "n = int(input(\"Enter a number : \"))\n",
    "print(generate_right_angle_triangle(n))\n"
   ]
  },
  {
   "cell_type": "code",
   "execution_count": 3,
   "metadata": {},
   "outputs": [
    {
     "name": "stdout",
     "output_type": "stream",
     "text": [
      "  *\n",
      " **\n",
      "***\n",
      "None\n"
     ]
    }
   ],
   "source": [
    "def generate_right_angle_triangle(n):\n",
    "    \n",
    "    for i in range(1,n+1):\n",
    "        row = ' '*(n-i)+'*'*i\n",
    "        print(row)\n",
    "\n",
    "n = int(input(\"Enter a number : \"))\n",
    "print(generate_right_angle_triangle(n))"
   ]
  },
  {
   "cell_type": "code",
   "execution_count": null,
   "metadata": {},
   "outputs": [],
   "source": []
  }
 ],
 "metadata": {
  "kernelspec": {
   "display_name": "Python 3",
   "language": "python",
   "name": "python3"
  },
  "language_info": {
   "codemirror_mode": {
    "name": "ipython",
    "version": 3
   },
   "file_extension": ".py",
   "mimetype": "text/x-python",
   "name": "python",
   "nbconvert_exporter": "python",
   "pygments_lexer": "ipython3",
   "version": "3.12.0"
  }
 },
 "nbformat": 4,
 "nbformat_minor": 2
}
