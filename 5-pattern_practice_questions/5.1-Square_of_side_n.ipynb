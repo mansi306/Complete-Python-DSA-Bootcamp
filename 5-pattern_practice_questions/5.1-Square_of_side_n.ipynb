{
 "cells": [
  {
   "cell_type": "markdown",
   "metadata": {},
   "source": [
    "Square of side 'N'\n",
    "\n",
    "Problem Description: You are given an integer n. Your task is to return a square pattern of size n x n made up of the character '*', represented as a list of strings.\n",
    "\n",
    "Input Parameters:\n",
    "n (int): The size of the square (number of rows and columns).\n",
    "\n",
    "Output:\n",
    "A list of strings where each string is a row of n characters.\n",
    "Example:\n",
    "\n",
    "Input: 3\n",
    "Output: ['***', '***', '***']\n",
    " \n",
    "Input: 5\n",
    "Output: ['*****', '*****', '*****', '*****', '*****']"
   ]
  },
  {
   "cell_type": "code",
   "execution_count": 1,
   "metadata": {},
   "outputs": [
    {
     "name": "stdout",
     "output_type": "stream",
     "text": [
      "Sqare of side n is ['***', '***', '***']\n"
     ]
    }
   ],
   "source": [
    "def generate_square(n):\n",
    "    lst = []\n",
    "    for i in range(n):\n",
    "        lst.append(\"*\"*n)\n",
    "    return lst\n",
    "n = int(input(\"Enter a number :\"))\n",
    "print(f\"Sqare of side n is {generate_square(n)}\")"
   ]
  },
  {
   "cell_type": "code",
   "execution_count": null,
   "metadata": {},
   "outputs": [],
   "source": []
  }
 ],
 "metadata": {
  "kernelspec": {
   "display_name": "venv",
   "language": "python",
   "name": "python3"
  },
  "language_info": {
   "codemirror_mode": {
    "name": "ipython",
    "version": 3
   },
   "file_extension": ".py",
   "mimetype": "text/x-python",
   "name": "python",
   "nbconvert_exporter": "python",
   "pygments_lexer": "ipython3",
   "version": "3.12.0"
  }
 },
 "nbformat": 4,
 "nbformat_minor": 2
}
