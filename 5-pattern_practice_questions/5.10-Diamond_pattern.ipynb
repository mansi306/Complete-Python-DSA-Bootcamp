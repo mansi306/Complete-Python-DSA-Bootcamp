{
 "cells": [
  {
   "cell_type": "markdown",
   "metadata": {},
   "source": [
    "Diamond Pattern\n",
    "\n",
    "Problem Description:\n",
    "\n",
    "You are given an integer n. Your task is to return a diamond pattern of '*' with n rows for the upper part (the widest row will have 2n - 1 stars), and the lower part is the mirrored version of the upper part. Each row should be centered with appropriate spaces.\n",
    "\n",
    "\n",
    "\n",
    "Input:\n",
    "\n",
    "A single integer n, where 1 <= n <= 100.\n",
    "\n",
    "\n",
    "\n",
    "Output:\n",
    "\n",
    "A list of strings where each string represents a row in the diamond pattern.\n",
    "\n",
    "\n",
    "\n",
    "Example:\n",
    "\n",
    "Input: 3\n",
    "\n",
    "Output: ['  *  ', ' *** ', '*****', ' *** ', '  *  ']\n",
    " \n",
    "Input: 5\n",
    "\n",
    "Output: ['    *    ', '   ***   ', '  *****  ', ' ******* ', '*********', ' ******* ', '  *****  ', '   ***   ', '    *    ']\n"
   ]
  },
  {
   "cell_type": "code",
   "execution_count": 2,
   "metadata": {},
   "outputs": [
    {
     "name": "stdout",
     "output_type": "stream",
     "text": [
      "['  *  ', ' *** ', '*****', ' *** ', '  *  ']\n"
     ]
    }
   ],
   "source": [
    "def diamond_pattern(n):\n",
    "    pattern = []\n",
    "    for i in range(1,n+1):\n",
    "        row = ' '*(n-i)+\"*\"*(2*i-1)+' '*(n-i)\n",
    "        pattern.append(row)\n",
    "\n",
    "    for i in range(n-1,0,-1):\n",
    "        row = ' '*(n-i)+\"*\"*(2*i-1)+' '*(n-i)\n",
    "        pattern.append(row)\n",
    "    return pattern\n",
    "\n",
    "n= int(input(\"Enter a number : \"))\n",
    "print(diamond_pattern(n))"
   ]
  },
  {
   "cell_type": "code",
   "execution_count": 3,
   "metadata": {},
   "outputs": [
    {
     "name": "stdout",
     "output_type": "stream",
     "text": [
      "  *  \n",
      " *** \n",
      "*****\n",
      " *** \n",
      "  *  \n",
      "None\n"
     ]
    },
    {
     "ename": "",
     "evalue": "",
     "output_type": "error",
     "traceback": [
      "\u001b[1;31mThe Kernel crashed while executing code in the current cell or a previous cell. \n",
      "\u001b[1;31mPlease review the code in the cell(s) to identify a possible cause of the failure. \n",
      "\u001b[1;31mClick <a href='https://aka.ms/vscodeJupyterKernelCrash'>here</a> for more info. \n",
      "\u001b[1;31mView Jupyter <a href='command:jupyter.viewOutput'>log</a> for further details."
     ]
    }
   ],
   "source": [
    "def diamond_pattern(n):\n",
    "\n",
    "    for i in range(1,n+1):\n",
    "        row = ' '*(n-i)+\"*\"*(2*i-1)+' '*(n-i)\n",
    "        print(row)\n",
    "\n",
    "    for i in range(n-1,0,-1):\n",
    "        row = ' '*(n-i)+\"*\"*(2*i-1)+' '*(n-i)\n",
    "        print(row)\n",
    "    \n",
    "\n",
    "n= int(input(\"Enter a number : \"))\n",
    "print(diamond_pattern(n))"
   ]
  },
  {
   "cell_type": "code",
   "execution_count": null,
   "metadata": {},
   "outputs": [],
   "source": []
  }
 ],
 "metadata": {
  "kernelspec": {
   "display_name": "Python 3",
   "language": "python",
   "name": "python3"
  },
  "language_info": {
   "codemirror_mode": {
    "name": "ipython",
    "version": 3
   },
   "file_extension": ".py",
   "mimetype": "text/x-python",
   "name": "python",
   "nbconvert_exporter": "python",
   "pygments_lexer": "ipython3",
   "version": "3.12.0"
  }
 },
 "nbformat": 4,
 "nbformat_minor": 2
}
