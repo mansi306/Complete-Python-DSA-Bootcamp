{
 "cells": [
  {
   "cell_type": "markdown",
   "metadata": {},
   "source": [
    "Number Pyramid Pattern\n",
    "\n",
    "Problem Description:\n",
    "\n",
    "You are given an integer n. Your task is to return a pyramid pattern of numbers, where each row contains increasing numbers starting from 1 up to the row number, and the pyramid is centered with leading spaces.\n",
    "\n",
    "\n",
    "\n",
    "Input:\n",
    "\n",
    "A single integer n, where 1 <= n <= 100.\n",
    "\n",
    "\n",
    "\n",
    "Output:\n",
    "\n",
    "A list of strings where each string represents a row in the pyramid pattern.\n",
    "\n",
    "\n",
    "\n",
    "Example:\n",
    "\n",
    "Input: 4\n",
    "\n",
    "Output: ['   1   ', '  1 2  ', ' 1 2 3 ', '1 2 3 4']\n",
    " \n",
    "Input: 3\n",
    "\n",
    "Output: ['  1  ', ' 1 2 ', '1 2 3']\n"
   ]
  },
  {
   "cell_type": "code",
   "execution_count": 1,
   "metadata": {},
   "outputs": [
    {
     "name": "stdout",
     "output_type": "stream",
     "text": [
      "   1   \n",
      "  1 2  \n",
      " 1 2 3 \n",
      "1 2 3 4\n"
     ]
    }
   ],
   "source": [
    "def number_pyramid(n):\n",
    "    result = []\n",
    "    for i in range(1, n + 1):\n",
    "        # Create the row with numbers from 1 to i\n",
    "        row = ''\n",
    "        for j in range(1, i + 1):\n",
    "            row += str(j) + ' '  # Append the number followed by a space\n",
    "\n",
    "        row = row.rstrip()  # Remove the trailing space from the last number\n",
    "\n",
    "        # Calculate leading and trailing spaces\n",
    "        spaces = (n - i) * ' '\n",
    "\n",
    "        # Center the row with leading and trailing spaces\n",
    "        result.append(spaces + row + spaces)\n",
    "\n",
    "    return result\n",
    "\n",
    "# Example usage:\n",
    "n = 4\n",
    "pyramid = number_pyramid(n)\n",
    "for row in pyramid:\n",
    "    print(row)\n"
   ]
  },
  {
   "cell_type": "code",
   "execution_count": null,
   "metadata": {},
   "outputs": [],
   "source": []
  }
 ],
 "metadata": {
  "kernelspec": {
   "display_name": "venv",
   "language": "python",
   "name": "python3"
  },
  "language_info": {
   "codemirror_mode": {
    "name": "ipython",
    "version": 3
   },
   "file_extension": ".py",
   "mimetype": "text/x-python",
   "name": "python",
   "nbconvert_exporter": "python",
   "pygments_lexer": "ipython3",
   "version": "3.12.0"
  }
 },
 "nbformat": 4,
 "nbformat_minor": 2
}
