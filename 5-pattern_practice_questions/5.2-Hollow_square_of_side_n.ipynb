{
 "cells": [
  {
   "cell_type": "markdown",
   "metadata": {},
   "source": [
    "Hollow Square of side 'N'\n",
    "\n",
    "\n",
    "Problem Description:    \n",
    "\n",
    "You are given an integer n. Your task is to return a hollow square pattern of size n x n made up of the character '*', represented as a list of strings. The hollow square has '*' on the border, and spaces ' ' in the middle (except for side lengths of 1 and 2).\n",
    "\n",
    "Input Parameters:\n",
    "\n",
    "\n",
    "n (int): The size of the square (number of rows and columns).\n",
    "\n",
    "Output:\n",
    "\n",
    "A list of strings where each string is a row of n characters, representing a hollow square.\n",
    "\n",
    "Example:\n",
    "\n",
    "Input: 3\n",
    "Output: ['***', '* *', '***']\n",
    " \n",
    "Input: 5\n",
    "Output: ['*****', '*   *', '*   *', '*   *', '*****']"
   ]
  },
  {
   "cell_type": "markdown",
   "metadata": {},
   "source": [
    "###"
   ]
  },
  {
   "cell_type": "code",
   "execution_count": 3,
   "metadata": {},
   "outputs": [
    {
     "name": "stdout",
     "output_type": "stream",
     "text": [
      "['*****', '*   *', '*   *', '*   *', '*****']\n"
     ]
    },
    {
     "ename": "",
     "evalue": "",
     "output_type": "error",
     "traceback": [
      "\u001b[1;31mThe Kernel crashed while executing code in the current cell or a previous cell. \n",
      "\u001b[1;31mPlease review the code in the cell(s) to identify a possible cause of the failure. \n",
      "\u001b[1;31mClick <a href='https://aka.ms/vscodeJupyterKernelCrash'>here</a> for more info. \n",
      "\u001b[1;31mView Jupyter <a href='command:jupyter.viewOutput'>log</a> for further details."
     ]
    }
   ],
   "source": [
    "def hollow_square(n):\n",
    "    if n==1:\n",
    "        return ['*']\n",
    "    square = ['*'*n] # for first row in list \n",
    "    ## for middle row in list \n",
    "    for i in range(1,n-1):\n",
    "        square.append('*'+' '*(n-2)+'*')\n",
    "    square.append('*'*n)\n",
    "    return square\n",
    "n = int(input(\"Enter a number : \"))\n",
    "print(hollow_square(n))\n",
    "    "
   ]
  },
  {
   "cell_type": "code",
   "execution_count": null,
   "metadata": {},
   "outputs": [],
   "source": []
  }
 ],
 "metadata": {
  "kernelspec": {
   "display_name": "Python 3",
   "language": "python",
   "name": "python3"
  },
  "language_info": {
   "codemirror_mode": {
    "name": "ipython",
    "version": 3
   },
   "file_extension": ".py",
   "mimetype": "text/x-python",
   "name": "python",
   "nbconvert_exporter": "python",
   "pygments_lexer": "ipython3",
   "version": "3.12.0"
  }
 },
 "nbformat": 4,
 "nbformat_minor": 2
}
