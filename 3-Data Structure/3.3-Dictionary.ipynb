{
 "cells": [
  {
   "cell_type": "markdown",
   "metadata": {},
   "source": [
    "#### Dictionaries\n",
    "\n",
    "1. Introduction to Dictionaries\n",
    "2. Creating Dictionaries\n",
    "3. Accessing Dictionary Elements\n",
    "4. Modifying Dictionary Elements\n",
    "5. Dictionary Methods\n",
    "6. Iterating Over Dictionaries\n",
    "7. Nested Dictionaries\n",
    "8. Dictionary Comprehensions\n",
    "9. Practical Examples and Common Errors"
   ]
  },
  {
   "cell_type": "markdown",
   "metadata": {},
   "source": [
    "##### Introduction to Dictionaries\n",
    "\n",
    "Dictionaries are unordered collections of items. They store data in key-value pairs.\n",
    "Keys must be unique and immutable (e.g., strings, numbers, or tuples), while values can be of any type."
   ]
  },
  {
   "cell_type": "code",
   "execution_count": 2,
   "metadata": {},
   "outputs": [
    {
     "name": "stdout",
     "output_type": "stream",
     "text": [
      "{}\n",
      "<class 'dict'>\n",
      "{}\n"
     ]
    }
   ],
   "source": [
    "## Creating dictinary \n",
    "my_dict = {}  # creating empty dictinary\n",
    "print(my_dict)\n",
    "\n",
    "my_dict = dict() # another way to create empty dictionary\n",
    "print(type(my_dict))\n",
    "print(my_dict)\n",
    "\n"
   ]
  },
  {
   "cell_type": "code",
   "execution_count": 3,
   "metadata": {},
   "outputs": [
    {
     "name": "stdout",
     "output_type": "stream",
     "text": [
      "{'name': 'Mansi', 'age': 22, 'grade': 'A'}\n",
      "<class 'dict'>\n"
     ]
    }
   ],
   "source": [
    "student = {\"name\":\"Mansi\",\"age\":22,\"grade\":\"A\"}\n",
    "print(student)\n",
    "print(type(student))"
   ]
  },
  {
   "cell_type": "code",
   "execution_count": 4,
   "metadata": {},
   "outputs": [
    {
     "name": "stdout",
     "output_type": "stream",
     "text": [
      "{'name': 'neha', 'age': 22, 'grade': 'A'}\n"
     ]
    }
   ],
   "source": [
    "# always use a unique key \n",
    "student = {\"name\":\"Mansi\",\"age\":22,\"grade\":\"A\",\"name\":\"neha\"} # updated key is replaced with present key\n",
    "print(student)"
   ]
  },
  {
   "cell_type": "code",
   "execution_count": 11,
   "metadata": {},
   "outputs": [
    {
     "name": "stdout",
     "output_type": "stream",
     "text": [
      "Mansi\n",
      "22\n",
      "A\n",
      "Mansi\n",
      "22\n",
      "Patil\n"
     ]
    }
   ],
   "source": [
    "## Accessing a dictionary elements \n",
    "student = {\"name\":\"Mansi\",\"age\":22,\"grade\":\"A\"}\n",
    "print(student[\"name\"])\n",
    "print(student[\"age\"])\n",
    "print(student[\"grade\"])\n",
    "\n",
    "\n",
    "## Accessing using get() method\n",
    "print(student.get(\"name\"))\n",
    "print(student.get(\"age\"))\n",
    "print(student.get(\"last_name\",\"Patil\"))\n"
   ]
  },
  {
   "cell_type": "code",
   "execution_count": 14,
   "metadata": {},
   "outputs": [
    {
     "name": "stdout",
     "output_type": "stream",
     "text": [
      "{'brand': 'rolls-royce', 'color': 'Maroon', 'speed': 200, 'Air-bag': True}\n",
      "{'brand': 'rolls-royce', 'color': 'Maroon', 'speed': 200, 'Air-bag': True, 'engine': 'petrol'}\n",
      "{'brand': 'rolls-royce', 'color': 'Maroon', 'speed': 200, 'Air-bag': True}\n"
     ]
    }
   ],
   "source": [
    "## Modifying dictionary elements \n",
    "## Dictionary are mutable so we can add, update , delete elements from a dictionary \n",
    "car = {\"brand\":\"rolls-royce\",\"color\":\"Maroon\",\"speed\":125,\"Air-bag\":True}\n",
    "car[\"speed\"]=200 # update a value for a key\n",
    "print(car)\n",
    "\n",
    "car[\"engine\"]=\"petrol\" # added a new key, value pair\n",
    "print(car)\n",
    "\n",
    "del car[\"engine\"] # delete a key , value pair \n",
    "print(car)\n",
    "\n"
   ]
  },
  {
   "cell_type": "code",
   "execution_count": 15,
   "metadata": {},
   "outputs": [
    {
     "name": "stdout",
     "output_type": "stream",
     "text": [
      "dict_keys(['brand', 'color', 'speed', 'Air-bag'])\n",
      "dict_values(['rolls-royce', 'Maroon', 125, True])\n",
      "dict_items([('brand', 'rolls-royce'), ('color', 'Maroon'), ('speed', 125), ('Air-bag', True)])\n"
     ]
    }
   ],
   "source": [
    "## Dictionary methods \n",
    " \n",
    "#1) key \n",
    "car = {\"brand\":\"rolls-royce\",\"color\":\"Maroon\",\"speed\":125,\"Air-bag\":True}\n",
    "keys = car.keys() # get all the keys \n",
    "print(keys)\n",
    "\n",
    "#2) Values \n",
    "values = car.values() # get all values \n",
    "print(values)\n",
    "\n",
    "#3) items \n",
    "items = car.items() # get all key value pairs \n",
    "print(items)"
   ]
  },
  {
   "cell_type": "code",
   "execution_count": 17,
   "metadata": {},
   "outputs": [
    {
     "name": "stdout",
     "output_type": "stream",
     "text": [
      "{'name': 'Mansi', 'age': 22, 'grade': 'A'}\n",
      "{'name': 'Mansi', 'age': 22, 'grade': 'A'}\n",
      "{'name': 'neha', 'age': 22, 'grade': 'A'}\n",
      "{'name': 'neha', 'age': 22, 'grade': 'A'}\n"
     ]
    }
   ],
   "source": [
    "## shallow copy\n",
    "student = {\"name\":\"Mansi\",\"age\":22,\"grade\":\"A\"}\n",
    "student_copy = student \n",
    "print(student)\n",
    "print(student_copy)\n",
    "student[\"name\"]=\"neha\" # it creates whole changes in dict \n",
    "print(student)\n",
    "print(student_copy)"
   ]
  },
  {
   "cell_type": "code",
   "execution_count": 23,
   "metadata": {},
   "outputs": [
    {
     "name": "stdout",
     "output_type": "stream",
     "text": [
      "{'name': 'Mansi', 'age': 22, 'grade': 'A'}\n",
      "{'name': 'Mansi', 'age': 22, 'grade': 'A'}\n",
      "{'name': 'neha', 'age': 22, 'grade': 'A'}\n",
      "{'name': 'Mansi', 'age': 22, 'grade': 'A'}\n"
     ]
    }
   ],
   "source": [
    "# to avoid this use shallow copy i.e copy()\n",
    "student = {\"name\":\"Mansi\",\"age\":22,\"grade\":\"A\"}\n",
    "student_copy= student.copy()\n",
    "print(student)\n",
    "print(student_copy)\n",
    "student[\"name\"]=\"neha\"\n",
    "print(student)\n",
    "print(student_copy)\n"
   ]
  },
  {
   "cell_type": "code",
   "execution_count": 30,
   "metadata": {},
   "outputs": [
    {
     "name": "stdout",
     "output_type": "stream",
     "text": [
      "Brand\n",
      "Color\n",
      "Speed\n",
      "Air-bag\n"
     ]
    }
   ],
   "source": [
    "## Iterating over dictionaries \n",
    "# we can for loop for iterating key , values , and items \n",
    "\n",
    "# 1) Iterate over keys \n",
    "car = {\"Brand\":\"Rolls-royce\",\"Color\":\"Maroon\",\"Speed\":125,\"Air-bag\":True}\n",
    "for keys in car.keys():\n",
    "    print(keys)\n",
    "\n"
   ]
  },
  {
   "cell_type": "code",
   "execution_count": 31,
   "metadata": {},
   "outputs": [
    {
     "name": "stdout",
     "output_type": "stream",
     "text": [
      "Rolls-royce\n",
      "Maroon\n",
      "125\n",
      "True\n"
     ]
    }
   ],
   "source": [
    "#2) Iterate over values \n",
    "for value in car.values():\n",
    "    print(value)"
   ]
  },
  {
   "cell_type": "code",
   "execution_count": 32,
   "metadata": {},
   "outputs": [
    {
     "name": "stdout",
     "output_type": "stream",
     "text": [
      "Brand : Rolls-royce\n",
      "Color : Maroon\n",
      "Speed : 125\n",
      "Air-bag : True\n"
     ]
    }
   ],
   "source": [
    "# Iterate over key value pairs \n",
    "for key,value in car.items():\n",
    "    print(f\"{key} : {value}\")"
   ]
  },
  {
   "cell_type": "code",
   "execution_count": 33,
   "metadata": {},
   "outputs": [
    {
     "name": "stdout",
     "output_type": "stream",
     "text": [
      "{'s_1': {'name': 'mansi', 'age': 22, 'grade': 'A'}, 's_2': {'name': 'neha', 'age': 23, 'grade': 'A'}}\n"
     ]
    }
   ],
   "source": [
    "# Nested Dictionaries \n",
    "students = {\n",
    "    \"s_1\":{\"name\":\"mansi\",\"age\":22,\"grade\":\"A\"},\n",
    "    \"s_2\":{\"name\":\"neha\",\"age\":23,\"grade\":\"A\"}\n",
    "}\n",
    "print(students)"
   ]
  },
  {
   "cell_type": "code",
   "execution_count": 37,
   "metadata": {},
   "outputs": [
    {
     "name": "stdout",
     "output_type": "stream",
     "text": [
      "mansi\n",
      "neha\n",
      "dict_keys(['s_1', 's_2'])\n",
      "dict_values([{'name': 'mansi', 'age': 22, 'grade': 'A'}, {'name': 'neha', 'age': 23, 'grade': 'A'}])\n",
      "dict_items([('s_1', {'name': 'mansi', 'age': 22, 'grade': 'A'}), ('s_2', {'name': 'neha', 'age': 23, 'grade': 'A'})])\n"
     ]
    }
   ],
   "source": [
    "# Access nested dictionary elements \n",
    "print(students[\"s_1\"][\"name\"])\n",
    "print(students[\"s_2\"][\"name\"])\n",
    "print(students.keys())\n",
    "print(students.values())\n",
    "print(students.items())"
   ]
  },
  {
   "cell_type": "code",
   "execution_count": 40,
   "metadata": {},
   "outputs": [
    {
     "name": "stdout",
     "output_type": "stream",
     "text": [
      "{'student1': {'name': 'Mansi', 'age': 21}, 'student2': {'name': 'Neha', 'age': 22}}\n"
     ]
    }
   ],
   "source": [
    "# Iterating over nested dictionary\n",
    "students={\n",
    "    \"student1\":{\"name\":\"Mansi\",\"age\":21},\n",
    "    \"student2\":{\"name\":\"Neha\",\"age\":22}\n",
    "}\n",
    "print(students)"
   ]
  },
  {
   "cell_type": "code",
   "execution_count": 41,
   "metadata": {},
   "outputs": [
    {
     "name": "stdout",
     "output_type": "stream",
     "text": [
      "student1:{'name': 'Mansi', 'age': 21}\n",
      "name:Mansi\n",
      "age:21\n",
      "student2:{'name': 'Neha', 'age': 22}\n",
      "name:Neha\n",
      "age:22\n"
     ]
    }
   ],
   "source": [
    "for student_id,student_info in students.items():\n",
    "    print(f\"{student_id}:{student_info}\")\n",
    "    for key,value in student_info.items():\n",
    "        print(f\"{key}:{value}\")\n"
   ]
  },
  {
   "cell_type": "code",
   "execution_count": 42,
   "metadata": {},
   "outputs": [
    {
     "name": "stdout",
     "output_type": "stream",
     "text": [
      "{0: 0, 1: 1, 2: 4, 3: 9, 4: 16}\n"
     ]
    }
   ],
   "source": [
    "# Dictionary Comphrehension\n",
    "\n",
    "# Traditional Approch\n",
    "square = {}\n",
    "for i in range(5):\n",
    "    square[i]=i**2\n",
    "print(square)\n",
    "\n",
    "# using list comprehension\n",
    "squares={x:x**2 for x in range(5)}\n",
    "print(squares)"
   ]
  },
  {
   "cell_type": "code",
   "execution_count": 45,
   "metadata": {},
   "outputs": [
    {
     "name": "stdout",
     "output_type": "stream",
     "text": [
      "{0: 0, 2: 4, 4: 16, 6: 36, 8: 64}\n"
     ]
    }
   ],
   "source": [
    "## Condition dictionary comprehension\n",
    "evens = {  i:i**2 for i in range(10) if i%2==0}\n",
    "print(evens)"
   ]
  },
  {
   "cell_type": "code",
   "execution_count": 46,
   "metadata": {},
   "outputs": [
    {
     "name": "stdout",
     "output_type": "stream",
     "text": [
      "{0: 0, 2: 4, 4: 16, 6: 36, 8: 64}\n"
     ]
    }
   ],
   "source": [
    "# Traditional Approach \n",
    "evens = {}\n",
    "for i in range(10):\n",
    "    if i%2==0:\n",
    "        evens[i]=i**2\n",
    "print(evens)"
   ]
  },
  {
   "cell_type": "code",
   "execution_count": 47,
   "metadata": {},
   "outputs": [
    {
     "name": "stdout",
     "output_type": "stream",
     "text": [
      "{1: 1, 2: 2, 3: 3, 4: 4}\n"
     ]
    }
   ],
   "source": [
    "## Practical Examples\n",
    "\n",
    "## USe a dictionary to count he frequency of elements in list\n",
    "numbers = [1,2,2,3,3,3,4,4,4,4]\n",
    "frequency = {}\n",
    "for i in numbers :\n",
    "    if i in frequency:\n",
    "        frequency[i]+=1\n",
    "    else:\n",
    "        frequency[i]=1\n",
    "print(frequency)"
   ]
  },
  {
   "cell_type": "code",
   "execution_count": 48,
   "metadata": {},
   "outputs": [
    {
     "name": "stdout",
     "output_type": "stream",
     "text": [
      "{'a': 1, 'b': 3, 'c': 4}\n"
     ]
    }
   ],
   "source": [
    "## Merge 2 dictionaries into one\n",
    "dict1={\"a\":1,\"b\":2}\n",
    "dict2={\"b\":3,\"c\":4}\n",
    "merged_dict={**dict1,**dict2}\n",
    "print(merged_dict)"
   ]
  },
  {
   "cell_type": "markdown",
   "metadata": {},
   "source": [
    "#### Conclusion\n",
    "Dictionaries are powerful tools in Python for managing key-value pairs. They are used in a variety of real-world scenarios, such as counting word frequency, grouping data, storing configuration settings, managing phonebooks, tracking inventory, and caching results. Understanding how to leverage dictionaries effectively can greatly enhance the efficiency and readability of your code."
   ]
  },
  {
   "cell_type": "markdown",
   "metadata": {},
   "source": []
  }
 ],
 "metadata": {
  "kernelspec": {
   "display_name": "venv",
   "language": "python",
   "name": "python3"
  },
  "language_info": {
   "codemirror_mode": {
    "name": "ipython",
    "version": 3
   },
   "file_extension": ".py",
   "mimetype": "text/x-python",
   "name": "python",
   "nbconvert_exporter": "python",
   "pygments_lexer": "ipython3",
   "version": "3.12.0"
  }
 },
 "nbformat": 4,
 "nbformat_minor": 2
}
