{
 "cells": [
  {
   "cell_type": "markdown",
   "metadata": {},
   "source": [
    "#### Real-World Examples Using Lists in Python\n",
    "Lists are one of the most commonly used data structures in Python, thanks to their versatility and ease of use. Here are several practical examples that illustrate their use in real-world scenarios"
   ]
  },
  {
   "cell_type": "markdown",
   "metadata": {},
   "source": [
    "##### Example 1. Manage A To Do List\n",
    "- Create a To Do List To Keep Track OF Tasks"
   ]
  },
  {
   "cell_type": "code",
   "execution_count": 4,
   "metadata": {},
   "outputs": [
    {
     "name": "stdout",
     "output_type": "stream",
     "text": [
      "Don't forget to practice coding \n",
      "To do list remaining \n",
      " -dsa course\n",
      " -aptitude practice\n",
      " -coding practice\n",
      " -playing badminton\n",
      " -reading a research paper\n"
     ]
    }
   ],
   "source": [
    "to_do_list = [\"attend lecture\",\"dsa course\",\"aptitude practice\",\"coding practice\"]\n",
    "\n",
    "## Adding a task \n",
    "to_do_list.append(\"playing badminton\")\n",
    "to_do_list.append(\"reading a research paper\")\n",
    "\n",
    "## remove a task from list \n",
    "to_do_list.remove(\"attend lecture\")\n",
    "\n",
    "## checking if a task is in the list\n",
    "if \"coding practice\" in to_do_list:\n",
    "    print(\"Don't forget to practice coding \")\n",
    "print(\"To do list remaining \")\n",
    "for task in to_do_list:\n",
    "    print(f\" -{task}\")"
   ]
  },
  {
   "cell_type": "markdown",
   "metadata": {},
   "source": [
    "##### Example 2: Organizing Student Grades\n",
    "- Create a list to store and calculate average grades for students"
   ]
  },
  {
   "cell_type": "code",
   "execution_count": 9,
   "metadata": {},
   "outputs": [
    {
     "name": "stdout",
     "output_type": "stream",
     "text": [
      "528\n",
      "Average grades:88.00\n",
      "Highest grade :95\n",
      "Lowest grade  :78\n"
     ]
    }
   ],
   "source": [
    "# organizing student grades \n",
    "grades = [85, 92, 78, 90, 88]\n",
    "\n",
    "## Adding a new grade \n",
    "grades.append(95)\n",
    "## calculating the average grades \n",
    "sum=0\n",
    "for num in grades:\n",
    "    sum+=num\n",
    "print(sum)\n",
    "average_grade= sum/len(grades)\n",
    "print(f\"Average grades:{average_grade:.2f}\")\n",
    "\n",
    "## Finding highest and lowest grades \n",
    "highest_grade = max(grades)\n",
    "lowest_grade = min(grades)\n",
    "print(f\"Highest grade :{highest_grade}\")\n",
    "print(f\"Lowest grade  :{lowest_grade}\")\n",
    "\n"
   ]
  },
  {
   "cell_type": "markdown",
   "metadata": {},
   "source": [
    "##### Example 3: Managing An Inventory\n",
    "- Use a list to manage inventory items in a store"
   ]
  },
  {
   "cell_type": "code",
   "execution_count": 11,
   "metadata": {},
   "outputs": [
    {
     "name": "stdout",
     "output_type": "stream",
     "text": [
      "orange is in stock \n",
      "Inventory list :\n",
      "- apple\n",
      "- banana\n",
      "- kiwi\n",
      "- mango\n",
      "- orange\n"
     ]
    }
   ],
   "source": [
    "# managing an inventory \n",
    "inventory = [\"apple\",\"banana\",\"chiku\",\"kiwi\",\"mango\"]\n",
    "\n",
    "# adding a new item in inventory \n",
    "inventory.append(\"orange\")\n",
    "\n",
    "# removing an item that is out of stock \n",
    "inventory.remove(\"chiku\")\n",
    "\n",
    "# checking an item in stock \n",
    "item = \"orange\"\n",
    "if item in inventory:\n",
    "    print(f\"{item} is in stock \")\n",
    "else:\n",
    "    print(f\"{item} is out of stock \")\n",
    "# print the inventory list \n",
    "print(\"Inventory list :\")\n",
    "for i in inventory:\n",
    "    print(f\"- {i}\")"
   ]
  },
  {
   "cell_type": "markdown",
   "metadata": {},
   "source": [
    "##### Example 4:Collecting User Feedback\n",
    "- Use a list to collect and analyze user feedback."
   ]
  },
  {
   "cell_type": "code",
   "execution_count": 13,
   "metadata": {},
   "outputs": [
    {
     "name": "stdout",
     "output_type": "stream",
     "text": [
      "Positive feedback :2\n",
      "User feedback :\n",
      "- Great work \n",
      "- could be better\n",
      "- Excellent experience \n",
      "- Very satisfied \n",
      "- Not happy with the service \n"
     ]
    }
   ],
   "source": [
    "## collecting user feedback \n",
    "feedback = [\"Great work \",\"could be better\",\"Excellent experience \",\"Very satisfied \"]\n",
    "\n",
    "## Adding a new feedback \n",
    "feedback.append(\"Not happy with the service \")\n",
    " ##\n",
    "positive_fb_count=0\n",
    "for comment in feedback:\n",
    "    if \"great\" in comment.lower() or \"excellent\" in comment.lower():\n",
    "        positive_fb_count+=1\n",
    "print(f\"Positive feedback :{positive_fb_count}\")\n",
    "\n",
    "# printing all feedback \n",
    "print(\"User feedback :\")\n",
    "for comment in feedback :\n",
    "    print(f\"- {comment}\")"
   ]
  },
  {
   "cell_type": "code",
   "execution_count": null,
   "metadata": {},
   "outputs": [],
   "source": []
  }
 ],
 "metadata": {
  "kernelspec": {
   "display_name": "Python 3",
   "language": "python",
   "name": "python3"
  },
  "language_info": {
   "codemirror_mode": {
    "name": "ipython",
    "version": 3
   },
   "file_extension": ".py",
   "mimetype": "text/x-python",
   "name": "python",
   "nbconvert_exporter": "python",
   "pygments_lexer": "ipython3",
   "version": "3.12.0"
  }
 },
 "nbformat": 4,
 "nbformat_minor": 2
}
