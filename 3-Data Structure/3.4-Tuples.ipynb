{
 "cells": [
  {
   "cell_type": "markdown",
   "metadata": {},
   "source": [
    "#### Tuples\n",
    "\n",
    "1. Introduction to Tuples\n",
    "2. Creating Tuples\n",
    "3. Accessing Tuple Elements\n",
    "4. Tuple Operations\n",
    "5. Immutable Nature of Tuples\n",
    "6. Tuple Methods\n",
    "7. Packing and Unpacking Tuples\n",
    "8. Nested Tuples\n",
    "9. Practical Examples and Common Errors\n"
   ]
  },
  {
   "cell_type": "markdown",
   "metadata": {},
   "source": [
    "\n",
    "##### Introduction to Tuples\n",
    "Explanation:\n",
    "\n",
    "Tuples are ordered collections of items that are immutable.\n",
    "They are similar to lists, but their immutability makes them different.\n"
   ]
  },
  {
   "cell_type": "code",
   "execution_count": 2,
   "metadata": {},
   "outputs": [
    {
     "name": "stdout",
     "output_type": "stream",
     "text": [
      "()\n",
      "<class 'tuple'>\n",
      "()\n"
     ]
    }
   ],
   "source": [
    "## creating a empty tuple \n",
    "empty_tuple = ()\n",
    "print(empty_tuple)\n",
    "print(type(empty_tuple))\n",
    "\n",
    "# another way to create empty tuple \n",
    "empty_tuple = tuple()\n",
    "print(empty_tuple)"
   ]
  },
  {
   "cell_type": "code",
   "execution_count": 5,
   "metadata": {},
   "outputs": [
    {
     "name": "stdout",
     "output_type": "stream",
     "text": [
      "(1, 2, 3, 4, 5)\n",
      "<class 'tuple'>\n",
      "<class 'tuple'>\n",
      "('mansi', 1, 3.23, True)\n"
     ]
    }
   ],
   "source": [
    "# creating a tuple \n",
    "tpl = tuple([1,2,3,4,5])\n",
    "print(tpl)\n",
    "print(type(tpl))\n",
    "\n",
    "# mixed tuple \n",
    "mixed_tpl= (\"mansi\",1,3.23,True)\n",
    "print(type(mixed_tpl))\n",
    "print(mixed_tpl)"
   ]
  },
  {
   "cell_type": "code",
   "execution_count": 9,
   "metadata": {},
   "outputs": [
    {
     "name": "stdout",
     "output_type": "stream",
     "text": [
      "True\n",
      "(3.23, True)\n",
      "(3.23, True)\n",
      "('mansi', 1, 3.23, True)\n",
      "(True, 1)\n",
      "(True, 3.23, 1, 'mansi')\n"
     ]
    }
   ],
   "source": [
    "# Accessing tuple elements \n",
    "mixed_tpl= (\"mansi\",1,3.23,True)\n",
    "print(mixed_tpl[-1])\n",
    "print(mixed_tpl[2:4])\n",
    "print(mixed_tpl[2:])\n",
    "print(mixed_tpl[::])\n",
    "print(mixed_tpl[::-2])\n",
    "print(mixed_tpl[::-1])"
   ]
  },
  {
   "cell_type": "code",
   "execution_count": 10,
   "metadata": {},
   "outputs": [
    {
     "name": "stdout",
     "output_type": "stream",
     "text": [
      "(1, 2, 3, 4, 'a', 'b', 'c')\n"
     ]
    }
   ],
   "source": [
    "## Tuple operations\n",
    "tpl1=(1,2,3,4)\n",
    "tpl2=('a','b','c')\n",
    "concatenated_tpl = tpl1+tpl2 # concatanation \n",
    "print(concatenated_tpl)"
   ]
  },
  {
   "cell_type": "code",
   "execution_count": 11,
   "metadata": {},
   "outputs": [
    {
     "name": "stdout",
     "output_type": "stream",
     "text": [
      "(1, 2, 3, 4, 1, 2, 3, 4, 1, 2, 3, 4)\n"
     ]
    }
   ],
   "source": [
    "# multiplication\n",
    "result = tpl1*3\n",
    "print(result)"
   ]
  },
  {
   "cell_type": "code",
   "execution_count": 12,
   "metadata": {},
   "outputs": [
    {
     "name": "stdout",
     "output_type": "stream",
     "text": [
      "[1, 2, 3, 4, 'mansi']\n"
     ]
    }
   ],
   "source": [
    "## Immutable Nature Of Tuples\n",
    "# tuples are immutable that means their elements cannot be changed once assigned \n",
    "lst =[1,2,3,4,5]\n",
    "lst[4]=\"mansi\"\n",
    "print(lst)"
   ]
  },
  {
   "cell_type": "code",
   "execution_count": 13,
   "metadata": {},
   "outputs": [
    {
     "ename": "TypeError",
     "evalue": "'tuple' object does not support item assignment",
     "output_type": "error",
     "traceback": [
      "\u001b[1;31m---------------------------------------------------------------------------\u001b[0m",
      "\u001b[1;31mTypeError\u001b[0m                                 Traceback (most recent call last)",
      "Cell \u001b[1;32mIn[13], line 2\u001b[0m\n\u001b[0;32m      1\u001b[0m num\u001b[38;5;241m=\u001b[39m (\u001b[38;5;241m1\u001b[39m,\u001b[38;5;241m2\u001b[39m,\u001b[38;5;241m3\u001b[39m,\u001b[38;5;241m4\u001b[39m,\u001b[38;5;241m5\u001b[39m)\n\u001b[1;32m----> 2\u001b[0m \u001b[43mnum\u001b[49m\u001b[43m[\u001b[49m\u001b[38;5;241;43m1\u001b[39;49m\u001b[43m]\u001b[49m\u001b[38;5;241m=\u001b[39m\u001b[38;5;124m\"\u001b[39m\u001b[38;5;124mmansi\u001b[39m\u001b[38;5;124m\"\u001b[39m\n\u001b[0;32m      3\u001b[0m \u001b[38;5;28mprint\u001b[39m(num)\n",
      "\u001b[1;31mTypeError\u001b[0m: 'tuple' object does not support item assignment"
     ]
    }
   ],
   "source": [
    "num= (1,2,3,4,5)\n",
    "num[1]=\"mansi\"\n",
    "print(num)\n"
   ]
  },
  {
   "cell_type": "code",
   "execution_count": 14,
   "metadata": {},
   "outputs": [
    {
     "data": {
      "text/plain": [
       "(1, 2, 3, 4, 5)"
      ]
     },
     "execution_count": 14,
     "metadata": {},
     "output_type": "execute_result"
    }
   ],
   "source": [
    "num"
   ]
  },
  {
   "cell_type": "code",
   "execution_count": 17,
   "metadata": {},
   "outputs": [
    {
     "name": "stdout",
     "output_type": "stream",
     "text": [
      "3\n",
      "4\n"
     ]
    }
   ],
   "source": [
    "# Tuple methods \n",
    "#1) count()(return a number of occurances of value )\n",
    "num = (1,2,3,4,5,5,5)\n",
    "print(num.count(5))\n",
    "\n",
    "#2) index() (return first index of value and raises the error if the value is not present  )\n",
    "print(num.index(5))\n"
   ]
  },
  {
   "cell_type": "code",
   "execution_count": 23,
   "metadata": {},
   "outputs": [
    {
     "name": "stdout",
     "output_type": "stream",
     "text": [
      "(12, 'mansi', 3.24)\n",
      "12\n",
      "mansi\n",
      "3.24\n",
      "1\n",
      "[2, 3, 5, 4]\n",
      "6\n"
     ]
    }
   ],
   "source": [
    "## Packing and unpacking of tuples \n",
    "## packing of tuples \n",
    "packed_tuples = 12,\"mansi\",3.24\n",
    "print(packed_tuples)\n",
    "\n",
    "# unpacking of tuples \n",
    "a,b,c = packed_tuples\n",
    "print(a)\n",
    "print(b)\n",
    "print(c)\n",
    "\n",
    "\n",
    "# unpacking with *\n",
    "num = (1,2,3,5,4,6)\n",
    "first,*middle,last = num\n",
    "print(first)\n",
    "print(middle)\n",
    "print(last)"
   ]
  },
  {
   "cell_type": "code",
   "execution_count": 22,
   "metadata": {},
   "outputs": [
    {
     "name": "stdout",
     "output_type": "stream",
     "text": [
      "1\n",
      "[2, 3, 5, 4]\n",
      "6\n"
     ]
    }
   ],
   "source": [
    "# unpacking with *\n",
    "num = (1,2,3,5,4,6)\n",
    "first,*middle,last = num\n",
    "print(first)\n",
    "print(middle)\n",
    "print(last)"
   ]
  },
  {
   "cell_type": "code",
   "execution_count": 30,
   "metadata": {},
   "outputs": [
    {
     "name": "stdout",
     "output_type": "stream",
     "text": [
      "[3]\n",
      "['mansi', 'neha']\n",
      "[2.34]\n"
     ]
    }
   ],
   "source": [
    "##  Nested list\n",
    "lst = [[1,2,3],[\"mansi\",\"neha\"],[2.12,3.43,2.34]]\n",
    "print(lst[0][2:])\n",
    "print(lst[1][::])\n",
    "print(lst[2][-1:])"
   ]
  },
  {
   "cell_type": "code",
   "execution_count": 31,
   "metadata": {},
   "outputs": [
    {
     "name": "stdout",
     "output_type": "stream",
     "text": [
      "(2, 3, 4)\n",
      "()\n",
      "('m', 'p')\n"
     ]
    }
   ],
   "source": [
    "# Nested Tuple \n",
    "tpl = ((1,2,3,4),('m','p'),(3.12,'k'))\n",
    "print(tpl[0][1:])\n",
    "print(tpl[2][2:])\n",
    "print(tpl[1][::])"
   ]
  },
  {
   "cell_type": "code",
   "execution_count": 36,
   "metadata": {},
   "outputs": [
    {
     "name": "stdout",
     "output_type": "stream",
     "text": [
      "1 2 3 \n",
      "a b c \n",
      "True False \n"
     ]
    }
   ],
   "source": [
    "# Iterating over a nested tuple \n",
    "nested_tuple = ((1, 2, 3), (\"a\", \"b\", \"c\"), (True, False))\n",
    "for sub_tpl in nested_tuple:\n",
    "    for item in sub_tpl:\n",
    "        print(item,end=\" \")\n",
    "    print()"
   ]
  },
  {
   "cell_type": "markdown",
   "metadata": {},
   "source": [
    "#### Conclusion\n",
    "Tuples are versatile and useful in many real-world scenarios where an immutable and ordered collection of items is required. They are commonly used in data structures, function arguments and return values, and as dictionary keys. Understanding how to leverage tuples effectively can improve the efficiency and readability of your Python code."
   ]
  },
  {
   "cell_type": "markdown",
   "metadata": {},
   "source": []
  }
 ],
 "metadata": {
  "kernelspec": {
   "display_name": "venv",
   "language": "python",
   "name": "python3"
  },
  "language_info": {
   "codemirror_mode": {
    "name": "ipython",
    "version": 3
   },
   "file_extension": ".py",
   "mimetype": "text/x-python",
   "name": "python",
   "nbconvert_exporter": "python",
   "pygments_lexer": "ipython3",
   "version": "3.12.0"
  }
 },
 "nbformat": 4,
 "nbformat_minor": 2
}
