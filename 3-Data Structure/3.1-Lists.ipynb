{
 "cells": [
  {
   "cell_type": "markdown",
   "metadata": {},
   "source": [
    "#### Introduction To Lists\n",
    "- Lists are ordered, mutable collections of items.\n",
    "- They can contain items of different data types."
   ]
  },
  {
   "cell_type": "markdown",
   "metadata": {},
   "source": [
    "\n",
    "1. Introduction to Lists\n",
    "2. Creating Lists\n",
    "3. Accessing List Elements\n",
    "4. Modifying List Elements\n",
    "5. List Methods\n",
    "6. Slicing Lists\n",
    "7. Iterating Over Lists\n",
    "8. List Comprehensions\n",
    "9. Nested Lists\n",
    "10. Practical Examples and Common Errors"
   ]
  },
  {
   "cell_type": "code",
   "execution_count": 1,
   "metadata": {},
   "outputs": [
    {
     "name": "stdout",
     "output_type": "stream",
     "text": [
      "<class 'list'>\n"
     ]
    }
   ],
   "source": [
    "lst =[] # create empty list\n",
    "print(type(lst))"
   ]
  },
  {
   "cell_type": "code",
   "execution_count": 3,
   "metadata": {},
   "outputs": [
    {
     "name": "stdout",
     "output_type": "stream",
     "text": [
      "['mansi', 'neha', 'akash', 'swati']\n",
      "['mansi', 1, 20.3, True]\n"
     ]
    }
   ],
   "source": [
    "# creating list \n",
    "lst = [\"mansi\",\"neha\",\"akash\",\"swati\"]\n",
    "print(lst)\n",
    "\n",
    "# mixed_typed list\n",
    "mixed_list = [\"mansi\",1,20.3, True]\n",
    "print(mixed_list)"
   ]
  },
  {
   "cell_type": "code",
   "execution_count": 5,
   "metadata": {},
   "outputs": [
    {
     "name": "stdout",
     "output_type": "stream",
     "text": [
      "banana\n",
      "['banana', 'cherry', 'chiku']\n",
      "['cherry', 'chiku', 'apple', 'kiwi']\n",
      "['mango', 'banana', 'cherry', 'chiku', 'apple']\n",
      "['mango', 'banana', 'cherry', 'chiku', 'apple', 'kiwi']\n",
      "['mango', 'cherry', 'apple']\n",
      "['kiwi']\n"
     ]
    }
   ],
   "source": [
    "## Accessing list elements \n",
    "fruits = [\"mango\",\"banana\",\"cherry\",\"chiku\",\"apple\",\"kiwi\"]\n",
    "print(fruits[1])\n",
    "print(fruits[1:4])\n",
    "print(fruits[2:])\n",
    "print(fruits[:5])\n",
    "print(fruits[::])\n",
    "print(fruits[::2])\n",
    "print(fruits[-1:])\n"
   ]
  },
  {
   "cell_type": "code",
   "execution_count": 6,
   "metadata": {},
   "outputs": [
    {
     "name": "stdout",
     "output_type": "stream",
     "text": [
      "2\n",
      "[2, 3, 4]\n",
      "[3, 4, 5, 6, 7, 8, 9, 10]\n",
      "[1, 2, 3, 4, 5]\n",
      "[1, 2, 3, 4, 5, 6, 7, 8, 9, 10]\n",
      "[1, 3, 5, 7, 9]\n",
      "[10]\n"
     ]
    }
   ],
   "source": [
    "## slicing list\n",
    "\n",
    "number = [1,2,3,4,5,6,7,8,9,10]\n",
    "print(number[1])\n",
    "print(number[1:4])\n",
    "print(number[2:])\n",
    "print(number[:5])\n",
    "print(number[::]) # print all elemets of list\n",
    "print(number[::2])\n",
    "print(number[-1:])\n",
    "\n"
   ]
  },
  {
   "cell_type": "code",
   "execution_count": 7,
   "metadata": {},
   "outputs": [
    {
     "name": "stdout",
     "output_type": "stream",
     "text": [
      "['mango', 'banana', 'watermelon', 'chiku', 'apple', 'kiwi']\n"
     ]
    }
   ],
   "source": [
    "# modifying the list elements \n",
    "fruits = [\"mango\",\"banana\",\"cherry\",\"chiku\",\"apple\",\"kiwi\"]\n",
    "fruits[2]= \"watermelon\"\n",
    "print(fruits)\n"
   ]
  },
  {
   "cell_type": "code",
   "execution_count": 8,
   "metadata": {},
   "outputs": [
    {
     "name": "stdout",
     "output_type": "stream",
     "text": [
      "['mango', 'c', 'h', 'e', 'r', 'r', 'y']\n"
     ]
    }
   ],
   "source": [
    "fruits[1:]=\"cherry\"\n",
    "print(fruits)\n"
   ]
  },
  {
   "cell_type": "code",
   "execution_count": 18,
   "metadata": {},
   "outputs": [
    {
     "name": "stdout",
     "output_type": "stream",
     "text": [
      "['mango', 'banana', 'cherry', 'papaya', 'chiku', 'apple', 'kiwi', 'papaya']\n",
      "['mango', 'banana', 'cherry', 'chiku', 'apple', 'kiwi', 'papaya']\n"
     ]
    }
   ],
   "source": [
    "# List methods \n",
    "# 1) append (insert an element at the end of the list )\n",
    "fruits = [\"mango\",\"banana\",\"cherry\",\"papaya\",\"chiku\",\"apple\",\"kiwi\",]\n",
    "fruits.append(\"papaya\")\n",
    "print(fruits)\n",
    "\n",
    "#2) remove (remove an perticular element of list) removing the first occurance of an item\n",
    "fruits.remove(\"papaya\")\n",
    "print(fruits)"
   ]
  },
  {
   "cell_type": "code",
   "execution_count": 19,
   "metadata": {},
   "outputs": [
    {
     "name": "stdout",
     "output_type": "stream",
     "text": [
      "['mango', 'banana', 'cherry', 'watermelon', 'chiku', 'apple', 'kiwi']\n",
      "kiwi\n",
      "['mango', 'banana', 'cherry', 'papaya', 'chiku', 'apple']\n"
     ]
    }
   ],
   "source": [
    "# 3) insert (insert/add an element according to its index number (index,element))\n",
    "fruits = [\"mango\",\"banana\",\"cherry\",\"chiku\",\"apple\",\"kiwi\"]\n",
    "fruits.insert(3,\"watermelon\")\n",
    "print(fruits)\n",
    "\n",
    "#4) pop (Remove and return the last element)\n",
    "fruits =  [\"mango\",\"banana\",\"cherry\",\"papaya\",\"chiku\",\"apple\",\"kiwi\",]\n",
    "popped_fruit = fruits.pop()\n",
    "print(popped_fruit)\n",
    "print(fruits)\n",
    "\n"
   ]
  },
  {
   "cell_type": "code",
   "execution_count": 22,
   "metadata": {},
   "outputs": [
    {
     "name": "stdout",
     "output_type": "stream",
     "text": [
      "3\n",
      "['apple', 'banana', 'cherry', 'chiku', 'kiwi', 'mango']\n",
      "['mango', 'kiwi', 'chiku', 'cherry', 'banana', 'apple']\n",
      "[]\n"
     ]
    }
   ],
   "source": [
    "#5)index \n",
    "fruits=[\"mango\",\"banana\",\"cherry\",\"chiku\",\"apple\",\"kiwi\"]\n",
    "index = fruits.index(\"chiku\")\n",
    "print(index)\n",
    "\n",
    "#6) sort (sort the list in ascending order )\n",
    "fruits = [\"mango\",\"banana\",\"cherry\",\"chiku\",\"apple\",\"kiwi\"]\n",
    "fruits.sort()\n",
    "print(fruits)\n",
    "\n",
    "#7) reverse (reverse the list)\n",
    "fruits.reverse()\n",
    "print(fruits)\n",
    "\n",
    "#8) clear (it makes the list empty, remove all elements from the list)\n",
    "fruits.clear()\n",
    "print(fruits)\n",
    "\n"
   ]
  },
  {
   "cell_type": "code",
   "execution_count": 23,
   "metadata": {},
   "outputs": [
    {
     "name": "stdout",
     "output_type": "stream",
     "text": [
      "1 2 3 4 4 6 7 "
     ]
    }
   ],
   "source": [
    "### Iterating Over List\n",
    "lst = [1,2,3,4,4,6,7]\n",
    "for i in lst:\n",
    "    print(i,end=\" \")"
   ]
  },
  {
   "cell_type": "code",
   "execution_count": 24,
   "metadata": {},
   "outputs": [
    {
     "name": "stdout",
     "output_type": "stream",
     "text": [
      "0 1\n",
      "1 2\n",
      "2 3\n",
      "3 4\n",
      "4 5\n",
      "5 6\n",
      "6 7\n",
      "7 8\n",
      "8 9\n",
      "9 10\n"
     ]
    }
   ],
   "source": [
    "## Iterating with index\n",
    "lst = [1,2,3,4,5,6,7,8,9,10]\n",
    "for index,num in enumerate(lst):\n",
    "    print(index,num)"
   ]
  },
  {
   "cell_type": "code",
   "execution_count": 25,
   "metadata": {},
   "outputs": [
    {
     "name": "stdout",
     "output_type": "stream",
     "text": [
      "[0, 1, 4, 9, 16]\n"
     ]
    }
   ],
   "source": [
    "# List comprehension \n",
    "lst = []\n",
    "for i in range(5):\n",
    "    lst.append(i**2)\n",
    "print(lst)"
   ]
  },
  {
   "cell_type": "code",
   "execution_count": 26,
   "metadata": {},
   "outputs": [
    {
     "name": "stdout",
     "output_type": "stream",
     "text": [
      "[0, 1, 4, 9, 16]\n"
     ]
    }
   ],
   "source": [
    "lst = [i**2 for i in range(5)]\n",
    "print(lst)"
   ]
  },
  {
   "cell_type": "markdown",
   "metadata": {},
   "source": [
    "##### List Comprehension\n",
    "\n",
    "Basics Syantax            [expression for item in iterable]\n",
    "\n",
    "with conditional logic    [expression for item in iterable if condition]\n",
    "\n",
    "Nested List Comprehension [expression for item1 in iterable1 for item2 in iterable2]\n",
    "\n",
    "\n"
   ]
  },
  {
   "cell_type": "code",
   "execution_count": 27,
   "metadata": {},
   "outputs": [
    {
     "name": "stdout",
     "output_type": "stream",
     "text": [
      "[0, 2, 4, 6, 8]\n"
     ]
    }
   ],
   "source": [
    "## create a list contain even number \n",
    "# using traditional method\n",
    "lst =[]\n",
    "for i in range(10):\n",
    "    if i%2==0:\n",
    "        lst.append(i)\n",
    "print(lst)"
   ]
  },
  {
   "cell_type": "code",
   "execution_count": 32,
   "metadata": {},
   "outputs": [
    {
     "name": "stdout",
     "output_type": "stream",
     "text": [
      "[0, 2, 4, 6, 8]\n",
      "[0, 1, 4, 9, 16, 25, 36, 49, 64, 81]\n"
     ]
    }
   ],
   "source": [
    "## create a list contain even number using list comprehension \n",
    "lst = [num for num in range(10) if num%2==0]\n",
    "print(lst)\n",
    "\n",
    "## square of number in list \n",
    "square = [i**2 for i in range(10) ]\n",
    "print(square)"
   ]
  },
  {
   "cell_type": "code",
   "execution_count": 36,
   "metadata": {},
   "outputs": [
    {
     "name": "stdout",
     "output_type": "stream",
     "text": [
      "[[1, 'a'], [1, 'b'], [1, 'c'], [2, 'a'], [2, 'b'], [2, 'c'], [3, 'a'], [3, 'b'], [3, 'c']]\n"
     ]
    }
   ],
   "source": [
    "## Nested List Comphrension\n",
    "lst1=[1,2,3]\n",
    "lst2=['a','b','c']\n",
    "pair= [[i,j] for i in lst1 for j in lst2]\n",
    "print(pair)"
   ]
  },
  {
   "cell_type": "code",
   "execution_count": 38,
   "metadata": {},
   "outputs": [
    {
     "name": "stdout",
     "output_type": "stream",
     "text": [
      "[5, 5, 6, 4, 13]\n"
     ]
    }
   ],
   "source": [
    "## List Comprehension with function calls\n",
    "words = [\"hello\", \"world\", \"python\", \"list\", \"comprehension\"]\n",
    "lengths = [len(i) for i in words ]\n",
    "print(lengths)"
   ]
  },
  {
   "cell_type": "markdown",
   "metadata": {},
   "source": [
    "#### Conclusion\n",
    "List comprehensions are a powerful and concise way to create lists in Python. They are syntactically compact and can replace more verbose looping constructs. Understanding the syntax of list comprehensions will help you write cleaner and more efficient Python code."
   ]
  },
  {
   "cell_type": "markdown",
   "metadata": {},
   "source": []
  }
 ],
 "metadata": {
  "kernelspec": {
   "display_name": "venv",
   "language": "python",
   "name": "python3"
  },
  "language_info": {
   "codemirror_mode": {
    "name": "ipython",
    "version": 3
   },
   "file_extension": ".py",
   "mimetype": "text/x-python",
   "name": "python",
   "nbconvert_exporter": "python",
   "pygments_lexer": "ipython3",
   "version": "3.12.0"
  }
 },
 "nbformat": 4,
 "nbformat_minor": 2
}
