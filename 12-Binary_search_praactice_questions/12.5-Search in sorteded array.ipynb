{
 "cells": [
  {
   "cell_type": "markdown",
   "metadata": {},
   "source": [
    "Search in Rotated Sorted Array\n",
    "Asked in companies:\n",
    "\n",
    "Microsoft\n",
    "\n",
    "Amazon\n",
    "\n",
    "Uber\n",
    "\n",
    "\n",
    "\n",
    "Description:\n",
    "Given a sorted array that has been rotated, find the index of a given target value. The array was originally sorted in ascending order and then rotated at some pivot.\n",
    "\n",
    "\n",
    "\n",
    "Parameters:\n",
    "\n",
    "nums (List[int]): A list of integers sorted in ascending order but rotated at an unknown pivot.\n",
    "\n",
    "target (int): The integer value to search for in the array.\n",
    "\n",
    "Return Values:\n",
    "\n",
    "int: The index of the target value in the array, or -1 if the target is not in the array.\n",
    "\n",
    "\n",
    "\n",
    "Example:\n",
    "\n",
    "Input: nums = [4, 5, 6, 7, 0, 1, 2], target = 0 \n",
    "\n",
    "Output: 4 \n",
    "\n",
    "Explanation: The target value 0 is at index 4 in the rotated array.\n",
    " \n",
    " \n",
    "Input: nums = [4, 5, 6, 7, 0, 1, 2], target = 3\n",
    "\n",
    "Output: -1 \n",
    "\n",
    "Explanation: The target value 3 is not present in the array.\n"
   ]
  },
  {
   "cell_type": "code",
   "execution_count": 2,
   "metadata": {},
   "outputs": [
    {
     "name": "stdout",
     "output_type": "stream",
     "text": [
      "-1\n"
     ]
    }
   ],
   "source": [
    "def search(nums,target):\n",
    "    left,right = 0, len(nums)-1\n",
    "    while left<=right:\n",
    "        mid = (right+left)//2\n",
    "        if nums[mid]==target:\n",
    "            return mid \n",
    "        if nums[left]<= nums[mid]:\n",
    "            if target>=nums[left] and target<nums[mid]:\n",
    "                right = mid-1\n",
    "            else:\n",
    "                left = mid+1\n",
    "        else:\n",
    "            if target>nums[mid] and target<=nums[right]:\n",
    "                left = mid+1\n",
    "            else:\n",
    "                right = mid-1\n",
    "    return -1\n",
    "\n",
    "nums = [4,5,6,7,0,1,2]\n",
    "target = 3\n",
    "print(search(nums,target))\n",
    "\n",
    "            \n",
    "\n",
    "\n",
    "    "
   ]
  },
  {
   "cell_type": "code",
   "execution_count": null,
   "metadata": {},
   "outputs": [],
   "source": []
  }
 ],
 "metadata": {
  "kernelspec": {
   "display_name": "Python 3",
   "language": "python",
   "name": "python3"
  },
  "language_info": {
   "codemirror_mode": {
    "name": "ipython",
    "version": 3
   },
   "file_extension": ".py",
   "mimetype": "text/x-python",
   "name": "python",
   "nbconvert_exporter": "python",
   "pygments_lexer": "ipython3",
   "version": "3.12.0"
  }
 },
 "nbformat": 4,
 "nbformat_minor": 2
}
