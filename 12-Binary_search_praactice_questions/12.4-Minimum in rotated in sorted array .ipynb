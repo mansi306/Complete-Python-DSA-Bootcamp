{
 "cells": [
  {
   "cell_type": "markdown",
   "metadata": {},
   "source": [
    "Minimum in Rotated Sorted Array\n",
    "Asked in companies\n",
    "\n",
    "Google\n",
    "\n",
    "Arcesium\n",
    "\n",
    "Phone Pe\n",
    "\n",
    "Qualcomm\n",
    "\n",
    "\n",
    "\n",
    "Description:\n",
    "Given a sorted array that has been rotated, find the minimum element in the array. The array was originally sorted in ascending order and then rotated at some pivot.\n",
    "\n",
    "\n",
    "\n",
    "Parameters:\n",
    "\n",
    "nums (List[int]): A list of integers sorted in ascending order but rotated at an unknown pivot.\n",
    "\n",
    "Return Values:\n",
    "\n",
    "int: The minimum element in the rotated sorted array.\n",
    "\n",
    "\n",
    "\n",
    "Example:\n",
    "\n",
    "Input: nums = [4, 5, 6, 7, 0, 1, 2] \n",
    "\n",
    "Output: 0 \n",
    "\n",
    "Explanation: The minimum element is 0.\n",
    " \n",
    "Input: nums = [11, 13, 15, 17] \n",
    "\n",
    "Output: 11 \n",
    "\n",
    "Explanation: The array was not rotated, and the minimum element is the first element."
   ]
  },
  {
   "cell_type": "code",
   "execution_count": 4,
   "metadata": {},
   "outputs": [
    {
     "name": "stdout",
     "output_type": "stream",
     "text": [
      "0\n"
     ]
    }
   ],
   "source": [
    "def findmin(nums):\n",
    "    left,right = 0,len(nums)-1\n",
    "    while left<right:\n",
    "        mid = (left+right)//2\n",
    "        if nums[mid]>nums[right]:\n",
    "            left = mid+1\n",
    "        else:\n",
    "            right = mid \n",
    "    return nums[left]\n",
    "nums = [1,2,3,4,5,0]\n",
    "print(findmin(nums))\n"
   ]
  },
  {
   "cell_type": "code",
   "execution_count": null,
   "metadata": {},
   "outputs": [],
   "source": []
  }
 ],
 "metadata": {
  "kernelspec": {
   "display_name": "venv",
   "language": "python",
   "name": "python3"
  },
  "language_info": {
   "codemirror_mode": {
    "name": "ipython",
    "version": 3
   },
   "file_extension": ".py",
   "mimetype": "text/x-python",
   "name": "python",
   "nbconvert_exporter": "python",
   "pygments_lexer": "ipython3",
   "version": "3.12.0"
  }
 },
 "nbformat": 4,
 "nbformat_minor": 2
}
