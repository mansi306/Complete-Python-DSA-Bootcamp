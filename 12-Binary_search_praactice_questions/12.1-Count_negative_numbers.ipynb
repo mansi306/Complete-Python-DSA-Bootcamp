{
 "cells": [
  {
   "cell_type": "markdown",
   "metadata": {},
   "source": [
    "Count negative numbers in a sorted matrix\n",
    "\n",
    "Asked in companies:\n",
    "\n",
    "Samsung\n",
    "\n",
    "Oyo\n",
    "\n",
    "Groww\n",
    "\n",
    "Dell\n",
    "\n",
    "\n",
    "\n",
    "Description:\n",
    "You are given an m x n matrix grid where each row and column is sorted in non-increasing order. Your task is to return the number of negative numbers present in the matrix.\n",
    "\n",
    "\n",
    "\n",
    "Parameters:\n",
    "\n",
    "grid (List[List[int]]): A 2D matrix with dimensions m x n, where each row and each column is sorted in non-increasing order.\n",
    "\n",
    "Return Values:\n",
    "\n",
    "Integer: The count of negative numbers in the matrix.\n",
    "\n",
    "\n",
    "\n",
    "Example:\n",
    "\n",
    "Input: grid = [[4, 3, 2, 1], [3, 2, 1, -1], [1, 1, -1, -2], [-1, -1, -2, -3]] \n",
    "\n",
    "Output: 7 \n",
    "\n",
    "Explanation: There are 7 negative numbers in the matrix.\n",
    " \n",
    "Input: grid = [[3, 2], [1, 0]] \n",
    "\n",
    "Output: 0 \n",
    "\n",
    "Explanation: There are no negative numbers in the matrix.\n",
    "\n",
    "\n",
    "Disclaimer: This Udemy coding exercise is still in development, so some advanced complexities might not be fully checked. Please use it primarily for basic code validation.\n",
    "\n"
   ]
  },
  {
   "cell_type": "code",
   "execution_count": 3,
   "metadata": {},
   "outputs": [
    {
     "name": "stdout",
     "output_type": "stream",
     "text": [
      "7\n"
     ]
    }
   ],
   "source": [
    "def countNegatives(grid):\n",
    "    pos = 0\n",
    "    rows, column = len(grid), len(grid[0])\n",
    "    index = column - 1\n",
    "    for row in range(len(grid)):\n",
    "        while index>=0 and grid[row][index]<=0:\n",
    "            index-=1\n",
    "        pos+= index+1\n",
    "    res = rows * column -pos\n",
    "    return res \n",
    "\n",
    "grid = [[4, 3, 2, 1], [3, 2, 1, -1], [1, 1, -1, -2], [-1, -1, -2, -3]] \n",
    "print(countNegatives(grid))\n",
    "\n",
    "\n"
   ]
  },
  {
   "cell_type": "code",
   "execution_count": 7,
   "metadata": {},
   "outputs": [
    {
     "name": "stdout",
     "output_type": "stream",
     "text": [
      "7\n"
     ]
    }
   ],
   "source": [
    "def countNegatives(grid):\n",
    "    def count_negative_rows(row):\n",
    "        left , right = 0 , len(row)\n",
    "        while left<right:\n",
    "            mid = (left+right)//2  \n",
    "            if row[mid]<0:\n",
    "                right = mid\n",
    "            else:\n",
    "                left = mid+1\n",
    "        return len(row)-left\n",
    "    \n",
    "    total_negative = 0\n",
    "    for row in grid :\n",
    "        total_negative+= count_negative_rows(row)\n",
    "    return total_negative\n",
    "\n",
    "\n",
    "grid = [[4, 3, 2, 1], [3, 2, 1, -1], [1, 1, -1, -2], [-1, -1, -2, -3]] \n",
    "print(countNegatives(grid))\n",
    "\n",
    "\n",
    "\n"
   ]
  },
  {
   "cell_type": "code",
   "execution_count": 1,
   "metadata": {},
   "outputs": [
    {
     "name": "stdout",
     "output_type": "stream",
     "text": [
      "8\n"
     ]
    }
   ],
   "source": []
  },
  {
   "cell_type": "code",
   "execution_count": 2,
   "metadata": {},
   "outputs": [
    {
     "name": "stdout",
     "output_type": "stream",
     "text": [
      "i\n",
      "s\n",
      "n\n",
      "a\n",
      "m\n",
      "You didn't type anything \n"
     ]
    }
   ],
   "source": [
    "letters = list(input(\"Type anything : \"))\n",
    "while letters:\n",
    "    print(letters.pop())\n",
    "else:\n",
    "    print(\"You didn't type anything \")"
   ]
  },
  {
   "cell_type": "code",
   "execution_count": 4,
   "metadata": {},
   "outputs": [
    {
     "name": "stdout",
     "output_type": "stream",
     "text": [
      "5\n"
     ]
    }
   ],
   "source": [
    "# binary search \n",
    "def binary_search(nums,target):\n",
    "    left , right = 0,len(nums)\n",
    "    while left<=right:\n",
    "        mid = (left+right)//2\n",
    "        if nums[mid]==target:\n",
    "            return mid \n",
    "        elif nums[mid]<target:\n",
    "            left = mid+1\n",
    "        elif nums[mid]>target :\n",
    "            right = mid-1\n",
    "    return -1\n",
    "nums=[2,5,8,12,16,23,38,56,72,91]\n",
    "target = 23\n",
    "print(binary_search(nums,target))"
   ]
  },
  {
   "cell_type": "code",
   "execution_count": 6,
   "metadata": {},
   "outputs": [
    {
     "name": "stdout",
     "output_type": "stream",
     "text": [
      "[1, 3, 4, 22, 23, 34, 45, 87]\n"
     ]
    }
   ],
   "source": [
    "# bubble sort \n",
    "def bubble_sort(nums):   \n",
    "    n = len(nums)\n",
    "    for j in range(0,n):\n",
    "        for i in range(0,n-1-j):\n",
    "            if nums[i]>nums[i+1]:\n",
    "                nums[i],nums[i+1]=nums[i+1],nums[i]\n",
    "    return nums \n",
    "\n",
    "print(bubble_sort([23,34,22,3,4,87,45,1]))"
   ]
  },
  {
   "cell_type": "code",
   "execution_count": 10,
   "metadata": {},
   "outputs": [
    {
     "name": "stdout",
     "output_type": "stream",
     "text": [
      "[1, 3, 4, 22, 23, 34, 45, 87]\n"
     ]
    }
   ],
   "source": [
    "# selection sort \n",
    "def selection_sort(nums):\n",
    "    n = len(nums)\n",
    "    for i in range(n-1):\n",
    "        min_index = i\n",
    "        for j in range(i+1,n):\n",
    "            if nums[j]<nums[min_index]:\n",
    "                min_index=j\n",
    "        nums[i],nums[min_index]=nums[min_index],nums[i]\n",
    "    return nums \n",
    "\n",
    "print(selection_sort([23,34,22,3,4,87,45,1]))\n"
   ]
  },
  {
   "cell_type": "code",
   "execution_count": null,
   "metadata": {},
   "outputs": [],
   "source": [
    "# insertion sort \n",
    "def insertion_sort(nums):\n",
    "    "
   ]
  },
  {
   "cell_type": "code",
   "execution_count": null,
   "metadata": {},
   "outputs": [],
   "source": []
  }
 ],
 "metadata": {
  "kernelspec": {
   "display_name": "venv",
   "language": "python",
   "name": "python3"
  },
  "language_info": {
   "codemirror_mode": {
    "name": "ipython",
    "version": 3
   },
   "file_extension": ".py",
   "mimetype": "text/x-python",
   "name": "python",
   "nbconvert_exporter": "python",
   "pygments_lexer": "ipython3",
   "version": "3.12.0"
  }
 },
 "nbformat": 4,
 "nbformat_minor": 2
}
