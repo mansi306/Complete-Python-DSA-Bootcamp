{
 "cells": [
  {
   "cell_type": "markdown",
   "metadata": {},
   "source": [
    "Find smallest letter greater than target\n",
    "\n",
    "Asked in companies:\n",
    "\n",
    "JP Morgan\n",
    "\n",
    "TCS\n",
    "\n",
    "Wells fargo\n",
    "\n",
    "Gameskraft\n",
    "\n",
    "\n",
    "\n",
    "Description:\n",
    "\n",
    "You are given a sorted array of characters letters, sorted in non-decreasing order, and a character target. There are at least two different characters in letters. Your task is to return the smallest character in letters that is lexicographically greater than target. If such a character does not exist, return the first character in letters.\n",
    "\n",
    "\n",
    "\n",
    "Input:\n",
    "\n",
    "letters: A sorted array of characters in non-decreasing order.\n",
    "\n",
    "target: A character to compare against.\n",
    "\n",
    "Output:\n",
    "\n",
    "Return the smallest character that is greater than target. If no such character exists, return the first character in letters.\n",
    "\n",
    "\n",
    "\n",
    "Example:\n",
    "\n",
    "Input:\n",
    "\n",
    "letters = ['c', 'f', 'j']\n",
    "\n",
    "target = 'k'\n",
    "\n",
    "Output: 'c'\n",
    " \n",
    "Input:\n",
    "\n",
    "letters = ['c', 'f', 'j']\n",
    "\n",
    "target = 'c'\n",
    "\n",
    "Output: 'f'\n",
    " \n",
    "Input:\n",
    "\n",
    "letters = ['c', 'f', 'j']\n",
    "\n",
    "target = 'a'\n",
    "\n",
    "Output: 'c'"
   ]
  },
  {
   "cell_type": "code",
   "execution_count": 7,
   "metadata": {},
   "outputs": [
    {
     "name": "stdout",
     "output_type": "stream",
     "text": [
      "c\n"
     ]
    }
   ],
   "source": [
    "def next_greatest_letter(letter,target):\n",
    "    left , right = 0, len(letter)\n",
    "    while left<right:\n",
    "        mid = (right+left)//2\n",
    "        if letter[mid]>target:\n",
    "            right= mid \n",
    "        else:\n",
    "            left = mid+1\n",
    "    return letter[left% len(letter)]\n",
    "letters = ['c', 'f', 'j']\n",
    "target = 'a'\n",
    "print(next_greatest_letter(letters,target))\n"
   ]
  },
  {
   "cell_type": "code",
   "execution_count": null,
   "metadata": {},
   "outputs": [],
   "source": []
  }
 ],
 "metadata": {
  "kernelspec": {
   "display_name": "venv",
   "language": "python",
   "name": "python3"
  },
  "language_info": {
   "codemirror_mode": {
    "name": "ipython",
    "version": 3
   },
   "file_extension": ".py",
   "mimetype": "text/x-python",
   "name": "python",
   "nbconvert_exporter": "python",
   "pygments_lexer": "ipython3",
   "version": "3.12.0"
  }
 },
 "nbformat": 4,
 "nbformat_minor": 2
}
