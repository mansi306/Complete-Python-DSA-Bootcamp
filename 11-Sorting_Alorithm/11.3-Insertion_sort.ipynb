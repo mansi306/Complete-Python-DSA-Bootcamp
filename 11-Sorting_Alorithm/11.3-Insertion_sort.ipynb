{
 "cells": [
  {
   "cell_type": "markdown",
   "metadata": {},
   "source": [
    "Insertion Sort\n",
    "\n",
    "Insertion Sort Algorithm\n",
    "\n",
    "You are given a list of integers. Write a Python function to sort the list in ascending order using the Insertion Sort algorithm. Insertion Sort works by building a sorted section of the list, one element at a time, by inserting each new element into its proper position within the already sorted section.\n",
    "\n",
    "Parameters:\n",
    "\n",
    "lst (List of integers): The list to be sorted.\n",
    "\n",
    "Returns:\n",
    "\n",
    "A list of integers sorted in ascending order.\n",
    "\n",
    "Example:\n",
    "\n",
    "Input: lst = [12, 11, 13, 5, 6]\n",
    "\n",
    "Output: [5, 6, 11, 12, 13]\n",
    "\n",
    "Input: lst = [31, 41, 59, 26, 41, 58]\n",
    "\n",
    "Output: [26, 31, 41, 41, 58, 59]"
   ]
  },
  {
   "cell_type": "code",
   "execution_count": 5,
   "metadata": {},
   "outputs": [
    {
     "name": "stdout",
     "output_type": "stream",
     "text": [
      "Sorted Element : [3, 5, 9, 11, 22, 93]\n"
     ]
    }
   ],
   "source": [
    "def insertion_sort(lst):\n",
    "    n = len(lst)\n",
    "    for i in range(1,n):\n",
    "        currentcard = lst[i]\n",
    "        currentposition = i-1\n",
    "        while currentposition>=0:\n",
    "            if (lst[currentposition]<currentcard):\n",
    "                break\n",
    "            else:\n",
    "                lst[currentposition+1]=lst[currentposition]\n",
    "                currentposition-=1\n",
    "        \n",
    "            lst[currentposition+1]=currentcard\n",
    "    return lst\n",
    "\n",
    "unsorted_lst = [11,22,9,5,3,93]\n",
    "sorted_lst = insertion_sort(unsorted_lst)\n",
    "print(f\"Sorted Element : {sorted_lst}\")\n",
    "\n"
   ]
  },
  {
   "cell_type": "code",
   "execution_count": null,
   "metadata": {},
   "outputs": [],
   "source": []
  }
 ],
 "metadata": {
  "kernelspec": {
   "display_name": "venv",
   "language": "python",
   "name": "python3"
  },
  "language_info": {
   "codemirror_mode": {
    "name": "ipython",
    "version": 3
   },
   "file_extension": ".py",
   "mimetype": "text/x-python",
   "name": "python",
   "nbconvert_exporter": "python",
   "pygments_lexer": "ipython3",
   "version": "3.12.0"
  }
 },
 "nbformat": 4,
 "nbformat_minor": 2
}
