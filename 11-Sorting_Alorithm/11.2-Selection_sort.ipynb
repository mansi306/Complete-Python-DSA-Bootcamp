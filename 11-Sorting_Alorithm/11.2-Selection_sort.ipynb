{
 "cells": [
  {
   "cell_type": "markdown",
   "metadata": {},
   "source": [
    "Selection Sort\n",
    "\n",
    "Selection Sort Algorithm\n",
    "\n",
    "You are given a list of integers. Write a Python function to sort the list in ascending order using the Selection Sort algorithm. Selection Sort works by repeatedly finding the minimum element from the unsorted part of the list and swapping it with the first element of the unsorted part.\n",
    "\n",
    "Parameters:\n",
    "\n",
    "lst (List of integers): The list to be sorted.\n",
    "\n",
    "Returns:\n",
    "\n",
    "A list of integers sorted in ascending order.\n",
    "\n",
    "Example:\n",
    "\n",
    "Input: lst = [64, 25, 12, 22, 11]\n",
    "\n",
    "Output: [11, 12, 22, 25, 64]\n",
    "\n",
    "Input: lst = [29, 10, 14, 37, 13]\n",
    "\n",
    "Output: [10, 13, 14, 29, 37]"
   ]
  },
  {
   "cell_type": "code",
   "execution_count": 1,
   "metadata": {},
   "outputs": [
    {
     "name": "stdout",
     "output_type": "stream",
     "text": [
      "Sorted Element : [3, 5, 9, 11, 22, 93]\n"
     ]
    }
   ],
   "source": [
    "def selection_sort(lst):\n",
    "    n = len(lst)\n",
    "    for j in range(n-1):\n",
    "        min_index = j\n",
    "        for i in range(j+1,n):\n",
    "            if lst[i]<lst[min_index]:\n",
    "                min_index=i\n",
    "        lst[j],lst[min_index]=lst[min_index],lst[j]\n",
    "    return lst\n",
    "\n",
    "unsorted_lst = [11,22,9,5,3,93]\n",
    "sorted_lst = selection_sort(unsorted_lst)\n",
    "print(f\"Sorted Element : {sorted_lst}\")\n",
    "        \n",
    "\n",
    "            \n",
    "\n",
    "\n"
   ]
  },
  {
   "cell_type": "code",
   "execution_count": null,
   "metadata": {},
   "outputs": [],
   "source": []
  }
 ],
 "metadata": {
  "kernelspec": {
   "display_name": "venv",
   "language": "python",
   "name": "python3"
  },
  "language_info": {
   "codemirror_mode": {
    "name": "ipython",
    "version": 3
   },
   "file_extension": ".py",
   "mimetype": "text/x-python",
   "name": "python",
   "nbconvert_exporter": "python",
   "pygments_lexer": "ipython3",
   "version": "3.12.0"
  }
 },
 "nbformat": 4,
 "nbformat_minor": 2
}
