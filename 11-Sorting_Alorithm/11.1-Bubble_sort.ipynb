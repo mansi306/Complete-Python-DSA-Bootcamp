{
 "cells": [
  {
   "cell_type": "markdown",
   "metadata": {},
   "source": [
    "Code Bubble Sort\n",
    "Bubble Sort Algorithm\n",
    "\n",
    "\n",
    "You are given a list of integers. Write a Python function to sort the list in ascending order using the Bubble Sort algorithm. Bubble Sort repeatedly steps through the list, compares adjacent elements, and swaps them if they are in the wrong order. The process is repeated until the list is sorted.\n",
    "\n",
    "Parameters:\n",
    "\n",
    "\n",
    "lst (List of integers): The list to be sorted.\n",
    "\n",
    "Returns:\n",
    "\n",
    "\n",
    "A list of integers sorted in ascending order.\n",
    "\n",
    "Example:\n",
    "\n",
    "\n",
    "Input: lst = [64, 34, 25, 12, 22, 11, 90]\n",
    "\n",
    "Output: [11, 12, 22, 25, 34, 64, 90]\n",
    "\n",
    "Input: lst = [5, 1, 4, 2, 8]\n",
    "\n",
    "Output: [1, 2, 4, 5, 8]"
   ]
  },
  {
   "cell_type": "code",
   "execution_count": 2,
   "metadata": {},
   "outputs": [
    {
     "name": "stdout",
     "output_type": "stream",
     "text": [
      "Sorted Element : [3, 5, 9, 11, 22, 93]\n"
     ]
    }
   ],
   "source": [
    "def bubble_sort(lst):\n",
    "    n = len(lst)\n",
    "    for j in range(0,n):\n",
    "        for i in range(0,n-1-j):\n",
    "            if lst[i]>lst[i+1]:\n",
    "                lst[i],lst[i+1] = lst[i+1],lst[i]\n",
    "    return lst\n",
    "unsorted_lst = [11,22,9,5,3,93]\n",
    "sorted_lst = bubble_sort(unsorted_lst)\n",
    "print(f\"Sorted Element : {sorted_lst}\")"
   ]
  },
  {
   "cell_type": "code",
   "execution_count": null,
   "metadata": {},
   "outputs": [],
   "source": []
  }
 ],
 "metadata": {
  "kernelspec": {
   "display_name": "venv",
   "language": "python",
   "name": "python3"
  },
  "language_info": {
   "codemirror_mode": {
    "name": "ipython",
    "version": 3
   },
   "file_extension": ".py",
   "mimetype": "text/x-python",
   "name": "python",
   "nbconvert_exporter": "python",
   "pygments_lexer": "ipython3",
   "version": "3.12.0"
  }
 },
 "nbformat": 4,
 "nbformat_minor": 2
}
