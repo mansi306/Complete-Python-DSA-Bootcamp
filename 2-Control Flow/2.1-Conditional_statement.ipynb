{
 "cells": [
  {
   "cell_type": "markdown",
   "metadata": {},
   "source": [
    "#### Conditional Statements (if, elif, else)\n",
    "1. Introduction to Conditional Statements\n",
    "2. if Statement\n",
    "3. else Statement\n",
    "4. elif Statement\n",
    "5. Nested Conditional Statements\n",
    "6. Practical Examples\n",
    "7. Common Errors and Best Practices"
   ]
  },
  {
   "cell_type": "code",
   "execution_count": 3,
   "metadata": {},
   "outputs": [
    {
     "name": "stdout",
     "output_type": "stream",
     "text": [
      "You are eligible to voting \n"
     ]
    }
   ],
   "source": [
    "## if statement \n",
    "\n",
    "age = 18\n",
    "if age>=18:\n",
    "    print(\"You are eligible for voting \")"
   ]
  },
  {
   "cell_type": "code",
   "execution_count": 4,
   "metadata": {},
   "outputs": [
    {
     "name": "stdout",
     "output_type": "stream",
     "text": [
      "you are a minor\n"
     ]
    }
   ],
   "source": [
    "## else statement \n",
    "## The else statement executes a block of code if the condition in the if statement is False\n",
    "age = 16\n",
    "if age>=18:\n",
    "    print(\"you are eligible for voting \")\n",
    "else:\n",
    "    print(\"you are a minor\")"
   ]
  },
  {
   "cell_type": "code",
   "execution_count": 5,
   "metadata": {},
   "outputs": [
    {
     "name": "stdout",
     "output_type": "stream",
     "text": [
      "you are a teenager \n"
     ]
    }
   ],
   "source": [
    "## elif statement\n",
    "## The elif statement allows us to multiple conditions . It stands for else-if\n",
    "\n",
    "age = 17\n",
    "if age<13:\n",
    "    print(\"you are a child\")\n",
    "elif age<18:\n",
    "    print(\"you are a teenager \")\n",
    "else:\n",
    "    print(\"you are adult \")"
   ]
  },
  {
   "cell_type": "code",
   "execution_count": 4,
   "metadata": {},
   "outputs": [
    {
     "name": "stdout",
     "output_type": "stream",
     "text": [
      "number is positive \n",
      "number is odd \n"
     ]
    }
   ],
   "source": [
    "## Nested if statement \n",
    "num = int(input(\"Enter a number :\"))\n",
    "if num>0:\n",
    "    print(\"number is positive \")\n",
    "    if num%2==0:\n",
    "        print(\"number is even \")\n",
    "    else:\n",
    "        print(\"number is odd \")\n",
    "elif num==0:\n",
    "    print(\"number is zero \")\n",
    "else:\n",
    "    print(\"number is negative \")        "
   ]
  },
  {
   "cell_type": "code",
   "execution_count": 7,
   "metadata": {},
   "outputs": [
    {
     "name": "stdout",
     "output_type": "stream",
     "text": [
      "2022 not a leap year\n"
     ]
    }
   ],
   "source": [
    "## Determine if a year is a leap year or not using conditional statements \n",
    "year = int(input(\"enter a year :\"))\n",
    "if year%4==0:\n",
    "    if year%100:\n",
    "        if year%400:\n",
    "            print(year,\" year is a leap year \")\n",
    "        else:\n",
    "            print(year,\"year is not leap year\")\n",
    "    else:\n",
    "        print(year,\"year is leap year\")\n",
    "else:\n",
    "    print(year,\"not a leap year\")\n"
   ]
  },
  {
   "cell_type": "code",
   "execution_count": 9,
   "metadata": {},
   "outputs": [
    {
     "name": "stdout",
     "output_type": "stream",
     "text": [
      "Result : Error ! Division by zero \n"
     ]
    }
   ],
   "source": [
    "## simple calculator \n",
    "num1 = float(input(\"enter a first  number :\"))\n",
    "num2 = float(input(\"enter a second number : \"))\n",
    "operation = input(\"Enter a operation (+,-,*,/) :\")\n",
    "# perform the requested operation \n",
    "if operation == '+':\n",
    "    result = num1+num2\n",
    "elif operation == '-':\n",
    "    result = num1-num2\n",
    "elif operation == '*':\n",
    "    result = num1*num2\n",
    "elif operation == '/':\n",
    "    if num2!=0:\n",
    "        result = num1/num2\n",
    "    else:\n",
    "        result = \"Error ! Division by zero \"\n",
    "else:\n",
    "    result = \"invalid operation \"\n",
    "print(\"Result :\",result)    "
   ]
  },
  {
   "cell_type": "code",
   "execution_count": 1,
   "metadata": {},
   "outputs": [
    {
     "name": "stdout",
     "output_type": "stream",
     "text": [
      "Ticket price is : $15\n"
     ]
    }
   ],
   "source": [
    "### Determine the ticket price based on age and whether the person is a student.\n",
    "# Ticket pricing based on age and student status\n",
    "# take user input \n",
    "age = int(input(\"Enter a number :\"))\n",
    "is_student = input(\"Are you a student? yes/no\").lower()\n",
    "# Determine ticket price \n",
    "if age<5:\n",
    "    price = \"Free\"\n",
    "elif age<=12:\n",
    "    price = \"$10\"\n",
    "elif age<=17:\n",
    "    if is_student==\"yes\":\n",
    "        price =\"$12\"\n",
    "    else:\n",
    "        price = '$15'\n",
    "elif age<=64:\n",
    "    if is_student==\"yes\":\n",
    "        price = \"$18\"\n",
    "    else:\n",
    "        price = '$25'\n",
    "else:\n",
    "    price = '$20'\n",
    "\n",
    "print(\"Ticket price is :\",price)\n"
   ]
  },
  {
   "cell_type": "markdown",
   "metadata": {},
   "source": [
    "#### Complex Example 3: Employee Bonus Calculation\n",
    "\n",
    "Calculate an employee's bonus based on their performance rating and years of service."
   ]
  },
  {
   "cell_type": "code",
   "execution_count": 4,
   "metadata": {},
   "outputs": [
    {
     "name": "stdout",
     "output_type": "stream",
     "text": [
      "Bonus Amount = $2500.00\n"
     ]
    }
   ],
   "source": [
    "\n",
    "## Employee Bonus Calculation\n",
    "\n",
    "years_of_service = int(input(\"Enter a years of service  :\"))\n",
    "performance_rating = float(input(\"Enter a performamce rating (1.0 to 5.0) \"))\n",
    "if performance_rating>=4.5:\n",
    "    if years_of_service>10:\n",
    "        bonus_percentage = 20\n",
    "    elif years_of_service>5:\n",
    "        bonus_percentage=15\n",
    "    else:\n",
    "        bonus_percentage=10\n",
    "elif performance_rating>=3.5:\n",
    "    if years_of_service>10:\n",
    "        bonus_percentage=15\n",
    "    elif years_of_service>5:\n",
    "        bonus_percentage=10\n",
    "    else:\n",
    "        bonus_percentage=5\n",
    "else:\n",
    "    bonus_percentage=0\n",
    "\n",
    "# calculate bonus amount \n",
    "\n",
    "salary = float(input(\"Enter a amount of salary :\"))\n",
    "bonus_amount = salary* bonus_percentage/100\n",
    "print(\"Bonus Amount = ${:.2f}\".format(bonus_amount))\n",
    "\n",
    "\n"
   ]
  },
  {
   "cell_type": "markdown",
   "metadata": {},
   "source": [
    "## Complex Example 4: User Login System\n",
    "A simple user login system that checks the username and password."
   ]
  },
  {
   "cell_type": "code",
   "execution_count": 6,
   "metadata": {},
   "outputs": [
    {
     "name": "stdout",
     "output_type": "stream",
     "text": [
      "Login Successfully \n"
     ]
    }
   ],
   "source": [
    "# user login system \n",
    "# predefined username and password \n",
    "defined_username = \"Mansi\"\n",
    "defined_password = \"#Patil123\"\n",
    "# take input of username and password from user \n",
    "username = input(\"Enter Username :\")\n",
    "password = input(\"Enter Password : \")\n",
    "# check login crediantials \n",
    "if username==defined_username:\n",
    "    if password==defined_password:\n",
    "        print(\"Login Successfully \")\n",
    "    else:\n",
    "        print(\"Incorrect Password \")\n",
    "else:\n",
    "    print(\"Username not found  \")\n"
   ]
  },
  {
   "cell_type": "code",
   "execution_count": null,
   "metadata": {},
   "outputs": [],
   "source": []
  }
 ],
 "metadata": {
  "kernelspec": {
   "display_name": "venv",
   "language": "python",
   "name": "python3"
  },
  "language_info": {
   "codemirror_mode": {
    "name": "ipython",
    "version": 3
   },
   "file_extension": ".py",
   "mimetype": "text/x-python",
   "name": "python",
   "nbconvert_exporter": "python",
   "pygments_lexer": "ipython3",
   "version": "3.12.0"
  }
 },
 "nbformat": 4,
 "nbformat_minor": 2
}
