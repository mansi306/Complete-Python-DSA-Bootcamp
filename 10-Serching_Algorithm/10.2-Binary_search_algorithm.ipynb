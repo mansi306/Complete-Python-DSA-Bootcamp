{
 "cells": [
  {
   "cell_type": "markdown",
   "metadata": {},
   "source": [
    "Program : Binary search in list "
   ]
  },
  {
   "cell_type": "code",
   "execution_count": 1,
   "metadata": {},
   "outputs": [
    {
     "name": "stdout",
     "output_type": "stream",
     "text": [
      "5\n"
     ]
    }
   ],
   "source": [
    "def Binary_search(arr,target):\n",
    "    size = len(arr)\n",
    "    start = 0\n",
    "    end = size-1\n",
    "    while (start<=end):\n",
    "        mid = (start+end)//2\n",
    "        if (arr[mid]==target):\n",
    "            return mid \n",
    "        elif (arr[mid]>target):\n",
    "            end = mid-1\n",
    "        elif (arr[mid]<target):\n",
    "            start = mid+1\n",
    "    return -1\n",
    "\n",
    "sorted_list = [10,23,34,45,53,67,74,86,98,100]\n",
    "target = 67\n",
    "print(Binary_search(sorted_list,target))"
   ]
  },
  {
   "cell_type": "code",
   "execution_count": null,
   "metadata": {},
   "outputs": [],
   "source": []
  }
 ],
 "metadata": {
  "kernelspec": {
   "display_name": "venv",
   "language": "python",
   "name": "python3"
  },
  "language_info": {
   "codemirror_mode": {
    "name": "ipython",
    "version": 3
   },
   "file_extension": ".py",
   "mimetype": "text/x-python",
   "name": "python",
   "nbconvert_exporter": "python",
   "pygments_lexer": "ipython3",
   "version": "3.12.0"
  }
 },
 "nbformat": 4,
 "nbformat_minor": 2
}
