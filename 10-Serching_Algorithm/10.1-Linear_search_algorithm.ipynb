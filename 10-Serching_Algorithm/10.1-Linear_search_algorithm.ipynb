{
 "cells": [
  {
   "cell_type": "markdown",
   "metadata": {},
   "source": [
    "Linear Search Algorithm\n",
    "\n",
    "Problem Description:\n",
    "\n",
    "Title: Linear Search in a List\n",
    "\n",
    "Description: Implement a function linear_search that performs a linear search on a list to find a given value. The function should return the index of the first occurrence of the value in the list, or -1 if the value is not found.\n",
    "\n",
    "Parameters:\n",
    "\n",
    "arr: A list of elements (can be empty)\n",
    "\n",
    "target: The value to search for in the list\n",
    "\n",
    "Return:\n",
    "\n",
    "The index of the first occurrence of the target value (0-based), or -1 if not found\n",
    "\n",
    "Examples:\n",
    "\n",
    "linear_search([3, 7, 2, 5], 2) should return 2\n",
    "\n",
    "\n",
    "linear_search([1, 1, 2, 1], 1) should return 0\n",
    "\n",
    "\n",
    "linear_search([], 5) should return -1\n",
    "\n",
    "\n",
    "linear_search([4, 2, 8], 6) should return -1\n"
   ]
  },
  {
   "cell_type": "code",
   "execution_count": 1,
   "metadata": {},
   "outputs": [
    {
     "name": "stdout",
     "output_type": "stream",
     "text": [
      "5\n"
     ]
    }
   ],
   "source": [
    "def Linear_search(arr,target):\n",
    "    size = len(arr)\n",
    "    for i in range(0,size):\n",
    "        if arr[i]== target :\n",
    "            return i \n",
    "    return -1 \n",
    "arr = [10,20,40,56,34,29]\n",
    "target = 29\n",
    "result = Linear_search(arr,target)\n",
    "print(result)"
   ]
  },
  {
   "cell_type": "code",
   "execution_count": null,
   "metadata": {},
   "outputs": [],
   "source": []
  }
 ],
 "metadata": {
  "kernelspec": {
   "display_name": "Python 3",
   "language": "python",
   "name": "python3"
  },
  "language_info": {
   "codemirror_mode": {
    "name": "ipython",
    "version": 3
   },
   "file_extension": ".py",
   "mimetype": "text/x-python",
   "name": "python",
   "nbconvert_exporter": "python",
   "pygments_lexer": "ipython3",
   "version": "3.12.0"
  }
 },
 "nbformat": 4,
 "nbformat_minor": 2
}
