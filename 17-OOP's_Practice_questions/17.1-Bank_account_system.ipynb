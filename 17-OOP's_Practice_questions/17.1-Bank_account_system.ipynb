{
 "cells": [
  {
   "cell_type": "markdown",
   "metadata": {},
   "source": [
    "Bank Account System\n",
    "\n",
    "Question 0: Class for Bank Account \"\"\" Design a Python class named `BankAccount` to represent bank accounts.\n",
    "\n",
    "Theory: A bank account typically includes attributes such as account number, balance, and account holder name.\n",
    "\n",
    "The class should handle operations such as deposit, withdrawal, and transfer of funds between accounts. \n",
    "  \n",
    "Operations: 1. Deposit: Add funds to the account 2. Withdrawal: Subtract funds from the account 3. Transfer: Transfer funds from one account to another\n",
    "  \n",
    "Test Cases: \n",
    "\n",
    "Test Case 1: \n",
    "\n",
    "acc1 = BankAccount(\"John Doe\", 1000) acc2 = BankAccount(\"Jane Smith\", 2000) assert acc1.balance == 1000 assert acc2.balance == 2000 acc1.deposit(500) acc2.withdraw(100) acc1.transfer(acc2, 200) assert acc1.balance == 1300 assert acc2.balance == 2300 \n",
    "\n",
    "Test Case 2:\n",
    " \n",
    "acc3 = BankAccount(\"Alice Johnson\", 500) acc4 = BankAccount(\"Bob Brown\", 1500) assert acc3.balance == 500 assert acc4.balance == 1500 acc3.deposit(100) acc4.withdraw(200) acc3.transfer(acc4, 300) assert acc3.balance == 400 assert acc4.balance == 1800 \"\"\""
   ]
  },
  {
   "cell_type": "code",
   "execution_count": 3,
   "metadata": {},
   "outputs": [
    {
     "name": "stdout",
     "output_type": "stream",
     "text": [
      "Deposited : 500\n",
      "None\n",
      "Withdraw : 100\n",
      "None\n",
      "Deposited : 200\n",
      "Tranfer amount : 1400\n",
      "None\n"
     ]
    }
   ],
   "source": [
    "class BankAccount:\n",
    "    def __init__(self, account_holder, initial_balance):\n",
    "        self.account_holder = account_holder\n",
    "        self.balance = initial_balance\n",
    "    \n",
    "    def deposit(self,amount):\n",
    "        \"\"\"Deposit funds into the account.\"\"\"\n",
    "        if amount>0:\n",
    "            self.balance+=amount\n",
    "            print(f\"Deposited : {amount}\")\n",
    "        else:\n",
    "            raise ValueError (\"Deposit amount must be positive.\")\n",
    "    \n",
    "    def withdraw(self,amount):\n",
    "        if amount>0:\n",
    "            if amount<= self.balance:\n",
    "                self.balance-=amount\n",
    "                print(f\"Withdraw : {amount}\")\n",
    "\n",
    "            else:\n",
    "                 raise ValueError(\"Insufficient funds.\")\n",
    "        else:\n",
    "            raise ValueError(\"Withdrawal amount must be positive.\")\n",
    "    def transfer(self,target_account,amount):\n",
    "        \"\"\"Transfer funds to another account.\"\"\"\n",
    "        if amount>0:\n",
    "            if amount <= self.balance:\n",
    "                self.balance-=amount \n",
    "                target_account.deposit(amount)\n",
    "                print(f\"Tranfer amount : {self.balance}\")\n",
    "            else:\n",
    "                raise ValueError(\"Insufficient funds for transfer.\")\n",
    "        else:\n",
    "            raise ValueError(\"Transfer amount must be positive.\")\n",
    "\n",
    "\n",
    "# Test Case 1\n",
    "acc1 = BankAccount(\"John Doe\", 1000)\n",
    "acc2 = BankAccount(\"Jane Smith\", 2000)\n",
    "\n",
    "print(acc1.deposit(500))\n",
    "print(acc1.withdraw(100))\n",
    "print(acc1.transfer(acc1, 200))"
   ]
  },
  {
   "cell_type": "code",
   "execution_count": null,
   "metadata": {},
   "outputs": [],
   "source": [
    "# "
   ]
  }
 ],
 "metadata": {
  "kernelspec": {
   "display_name": "venv",
   "language": "python",
   "name": "python3"
  },
  "language_info": {
   "codemirror_mode": {
    "name": "ipython",
    "version": 3
   },
   "file_extension": ".py",
   "mimetype": "text/x-python",
   "name": "python",
   "nbconvert_exporter": "python",
   "pygments_lexer": "ipython3",
   "version": "3.12.0"
  }
 },
 "nbformat": 4,
 "nbformat_minor": 2
}
