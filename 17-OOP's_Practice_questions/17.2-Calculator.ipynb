{
 "cells": [
  {
   "cell_type": "markdown",
   "metadata": {},
   "source": [
    "Calculator\n",
    "\n",
    "Create a Python class named Calculator with the following specifications:\n",
    "\n",
    "Constructor Method (__init__): Initializes two attributes, num1 and num2.\n",
    "\n",
    "Method add: Takes no arguments and returns the sum of num1 and num2.\n",
    "\n",
    "Method subtract: Takes no arguments and returns the result of subtracting num2 from num1.\n",
    "\n",
    "Method multiply: Takes a single argument factor and returns the product of num1 and factor.\n",
    "\n",
    "Method divide: Takes a single argument divisor and returns the result of dividing num1 by divisor. If divisor is zero, print an error message and return None.\n",
    "\n",
    "Example:\n",
    "\n",
    "Creating an instance of the Calculator class\n",
    "\n",
    "calculator = Calculator(10, 5)\n",
    " \n",
    " Testing the add method\n",
    "\n",
    "print(\"Addition Result:\", calculator.add())  # Output: 15\n",
    " \n",
    " Testing the subtract method\n",
    "\n",
    "print(\"Subtraction Result:\", calculator.subtract())  # Output: 5\n",
    " \n",
    "Testing the multiply method\n",
    "\n",
    "print(\"Multiplication Result:\", calculator.multiply(3))  # Output: 30\n",
    " \n",
    " Testing the divide method\n",
    "\n",
    "print(\"Division Result:\", calculator.divide(2)) \n",
    "\n",
    "Output: 5.0\n",
    "\n",
    "print(\"Division Result:\", calculator.divide(0))  \n",
    "\n",
    "Output: Error: Cannot divide by "
   ]
  },
  {
   "cell_type": "code",
   "execution_count": 4,
   "metadata": {},
   "outputs": [
    {
     "name": "stdout",
     "output_type": "stream",
     "text": [
      "13\n",
      "-1\n",
      "24\n",
      "3.0\n"
     ]
    }
   ],
   "source": [
    "class Calculator:\n",
    "    def __init__(self, num1, num2):\n",
    "        # Initialize the attributes num1 and num2\n",
    "        self.num1 = num1\n",
    "        self.num2 = num2\n",
    " \n",
    "    def add(self):\n",
    "        # Return the sum of num1 and num2\n",
    "        return self.num1 + self.num2\n",
    " \n",
    "    def subtract(self):\n",
    "        # Return the result of subtracting num2 from num1\n",
    "        return self.num1 - self.num2\n",
    " \n",
    "    def multiply(self, factor):\n",
    "        # Return the product of num1 and factor\n",
    "        return self.num1 * factor\n",
    " \n",
    "    def divide(self, divisor):\n",
    "        # Return the result of dividing num1 by divisor\n",
    "        # If divisor is zero, print an error message and return None\n",
    "        if divisor == 0:\n",
    "            print(\"Error: Cannot divide by zero\")\n",
    "            return None\n",
    "        return self.num1 / divisor\n",
    "\n",
    "\n",
    "c = Calculator(6,7)\n",
    "print(c.add())\n",
    "print(c.subtract())\n",
    "print(c.multiply(4))\n",
    "print(c.divide(2))"
   ]
  },
  {
   "cell_type": "code",
   "execution_count": null,
   "metadata": {},
   "outputs": [],
   "source": []
  }
 ],
 "metadata": {
  "kernelspec": {
   "display_name": "venv",
   "language": "python",
   "name": "python3"
  },
  "language_info": {
   "codemirror_mode": {
    "name": "ipython",
    "version": 3
   },
   "file_extension": ".py",
   "mimetype": "text/x-python",
   "name": "python",
   "nbconvert_exporter": "python",
   "pygments_lexer": "ipython3",
   "version": "3.12.0"
  }
 },
 "nbformat": 4,
 "nbformat_minor": 2
}
