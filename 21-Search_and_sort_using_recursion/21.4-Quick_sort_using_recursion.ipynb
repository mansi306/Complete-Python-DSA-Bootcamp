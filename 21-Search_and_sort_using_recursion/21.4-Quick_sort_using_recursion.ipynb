{
 "cells": [
  {
   "cell_type": "markdown",
   "metadata": {},
   "source": [
    "Quick sort using Recursion\n",
    "\n",
    "Problem Description:\n",
    "\n",
    "You are given a list of integers. Your task is to implement the Quick Sort algorithm using recursion to sort the list and return the sorted version of it.\n",
    "\n",
    "\n",
    "\n",
    "Input:\n",
    "\n",
    "A list arr of integers.\n",
    "\n",
    "\n",
    "\n",
    "Output:\n",
    "\n",
    "A sorted list of integers.\n",
    "\n",
    "\n",
    "\n",
    "Example:\n",
    "\n",
    "Input: arr = [5, 2, 9, 1, 5, 6]\n",
    "\n",
    "Output: [1, 2, 5, 5, 6, 9]\n",
    " \n",
    "Input: arr = [3, 0, 2, 5, -1, 4, 1]\n",
    "\n",
    "Output: [-1, 0, 1, 2, 3, 4, 5]"
   ]
  },
  {
   "cell_type": "code",
   "execution_count": 2,
   "metadata": {},
   "outputs": [
    {
     "name": "stdout",
     "output_type": "stream",
     "text": [
      "[1, 2, 5, 5, 6, 9]\n"
     ]
    }
   ],
   "source": [
    "def quick_sort(arr):\n",
    "    if len(arr)<= 1:\n",
    "        return arr\n",
    "    \n",
    "    pivot = arr[-1]\n",
    "    less_than_pivot = []\n",
    "    greater_than_pivot = []\n",
    "    for i in range(len(arr)-1):\n",
    "        if arr[i]< pivot:\n",
    "            less_than_pivot.append(arr[i])\n",
    "        else:\n",
    "            greater_than_pivot.append(arr[i])\n",
    "    return quick_sort(less_than_pivot) + [pivot] + quick_sort(greater_than_pivot)\n",
    "\n",
    "print(quick_sort([5,2,9,1,5,6]))\n"
   ]
  },
  {
   "cell_type": "code",
   "execution_count": null,
   "metadata": {},
   "outputs": [],
   "source": []
  }
 ],
 "metadata": {
  "kernelspec": {
   "display_name": "Python 3",
   "language": "python",
   "name": "python3"
  },
  "language_info": {
   "codemirror_mode": {
    "name": "ipython",
    "version": 3
   },
   "file_extension": ".py",
   "mimetype": "text/x-python",
   "name": "python",
   "nbconvert_exporter": "python",
   "pygments_lexer": "ipython3",
   "version": "3.12.0"
  }
 },
 "nbformat": 4,
 "nbformat_minor": 2
}
