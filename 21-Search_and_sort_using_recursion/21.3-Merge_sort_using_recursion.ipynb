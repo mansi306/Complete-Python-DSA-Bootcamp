{
 "cells": [
  {
   "cell_type": "markdown",
   "metadata": {},
   "source": [
    "Merge sort using Recursion\n",
    "\n",
    "Problem Description:\n",
    "\n",
    "You are given a list of integers. Your task is to implement the Merge Sort algorithm using recursion to sort the list and return the sorted version of it.\n",
    "\n",
    "\n",
    "\n",
    "Input:\n",
    "\n",
    "A list arr of integers.\n",
    "\n",
    "\n",
    "\n",
    "Output:\n",
    "\n",
    "A sorted list of integers.\n",
    "\n",
    "\n",
    "\n",
    "Example:\n",
    "\n",
    "Input: arr = [5, 2, 9, 1, 5, 6]\n",
    "\n",
    "Output: [1, 2, 5, 5, 6, 9]\n",
    " \n",
    "Input: arr = [3, 0, 2, 5, -1, 4, 1]\n",
    "\n",
    "Output: [-1, 0, 1, 2, 3, 4, 5]\n"
   ]
  },
  {
   "cell_type": "code",
   "execution_count": 2,
   "metadata": {},
   "outputs": [
    {
     "name": "stdout",
     "output_type": "stream",
     "text": [
      "[1]\n",
      "[2, 3]\n"
     ]
    }
   ],
   "source": [
    "lst = [1,2,3]\n",
    "mid = len(lst)//2\n",
    "\n",
    "print(lst[:mid])\n",
    "print(lst[mid:])"
   ]
  },
  {
   "cell_type": "code",
   "execution_count": 1,
   "metadata": {},
   "outputs": [
    {
     "name": "stdout",
     "output_type": "stream",
     "text": [
      "5\n"
     ]
    }
   ],
   "source": [
    "def peakElement(arr):\n",
    "     # Code here\n",
    "    n = len(arr)\n",
    "    if n==1:\n",
    "        return 0\n",
    "    if arr[0]> arr[1]:\n",
    "        return 0 \n",
    "    if arr[n-1] > arr[n-2]:\n",
    "        return n-1\n",
    "    for i in range(1,n-1):\n",
    "        if arr[i]>arr[i-1] and arr[i]>arr[i+1]:\n",
    "            return i \n",
    "    return -1 \n",
    "print(peakElement([1, 2, 4, 5, 7, 8, 3]))\n"
   ]
  },
  {
   "cell_type": "code",
   "execution_count": 1,
   "metadata": {},
   "outputs": [
    {
     "name": "stdout",
     "output_type": "stream",
     "text": [
      "0\n"
     ]
    }
   ],
   "source": [
    "lst = []\n",
    "print(len(lst))"
   ]
  },
  {
   "cell_type": "code",
   "execution_count": null,
   "metadata": {},
   "outputs": [],
   "source": []
  }
 ],
 "metadata": {
  "kernelspec": {
   "display_name": "Python 3",
   "language": "python",
   "name": "python3"
  },
  "language_info": {
   "codemirror_mode": {
    "name": "ipython",
    "version": 3
   },
   "file_extension": ".py",
   "mimetype": "text/x-python",
   "name": "python",
   "nbconvert_exporter": "python",
   "pygments_lexer": "ipython3",
   "version": "3.12.0"
  }
 },
 "nbformat": 4,
 "nbformat_minor": 2
}
