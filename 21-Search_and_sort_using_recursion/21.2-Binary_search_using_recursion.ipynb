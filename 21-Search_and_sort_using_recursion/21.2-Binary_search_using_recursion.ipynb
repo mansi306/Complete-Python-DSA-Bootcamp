{
 "cells": [
  {
   "cell_type": "code",
   "execution_count": 2,
   "metadata": {},
   "outputs": [
    {
     "name": "stdout",
     "output_type": "stream",
     "text": [
      "False\n"
     ]
    }
   ],
   "source": [
    "def Binary_search_using_recursion_helper(arr,target,s,e):\n",
    "    if s > e:\n",
    "        return False\n",
    "     \n",
    "    m = s + (e-s)//2\n",
    "    if arr[m]== target:\n",
    "        return True \n",
    "    \n",
    "    if target > arr[m]:\n",
    "        return Binary_search_using_recursion_helper(arr,target,m+1,e)\n",
    "    return Binary_search_using_recursion_helper(arr,target,s,m-1)\n",
    "\n",
    "\n",
    "def binary_search(arr,target):\n",
    "    return Binary_search_using_recursion_helper(arr,target,0,len(arr)-1)\n",
    "\n",
    "\n",
    "print(binary_search([1,2,3,4,5,6,8],10))\n",
    "\n",
    "\n",
    "\n",
    "\n",
    "\n"
   ]
  },
  {
   "cell_type": "code",
   "execution_count": null,
   "metadata": {},
   "outputs": [],
   "source": []
  }
 ],
 "metadata": {
  "kernelspec": {
   "display_name": "venv",
   "language": "python",
   "name": "python3"
  },
  "language_info": {
   "codemirror_mode": {
    "name": "ipython",
    "version": 3
   },
   "file_extension": ".py",
   "mimetype": "text/x-python",
   "name": "python",
   "nbconvert_exporter": "python",
   "pygments_lexer": "ipython3",
   "version": "3.12.0"
  }
 },
 "nbformat": 4,
 "nbformat_minor": 2
}
