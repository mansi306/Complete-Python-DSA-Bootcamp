{
 "cells": [
  {
   "cell_type": "markdown",
   "metadata": {},
   "source": [
    "Linear Search using Recursion\n",
    "\n",
    "Problem Description:\n",
    "\n",
    "You are given an array of integers and an element to search for. Your task is to implement a linear search using recursion to determine if the element is present in the array. Return True if the element is found, and False otherwise.\n",
    "\n",
    "\n",
    "\n",
    "Input:\n",
    "\n",
    "An array of integers.\n",
    "\n",
    "An integer target representing the element to search for.\n",
    "\n",
    "\n",
    "\n",
    "Output:\n",
    "\n",
    "A boolean indicating whether the target element is present in the array.\n",
    "\n",
    "\n",
    "\n",
    "Example:\n",
    "\n",
    "Input: arr = [3, 5, 1, 7, 9], target = 1\n",
    "\n",
    "Output: True\n",
    " \n",
    "Input: arr = [10, 20, 30, 40], target = \n",
    "\n",
    "Output: False"
   ]
  },
  {
   "cell_type": "code",
   "execution_count": 1,
   "metadata": {},
   "outputs": [
    {
     "name": "stdout",
     "output_type": "stream",
     "text": [
      "True\n"
     ]
    }
   ],
   "source": [
    "def linear_search_using_recursion(arr,target):\n",
    "    if len(arr)==0:\n",
    "        return False \n",
    "    if arr[0]== target:\n",
    "        return True \n",
    "    return linear_search_using_recursion(arr[1:],target)\n",
    "\n",
    "print(linear_search_using_recursion([1,2,3,4,5,6],4))\n"
   ]
  },
  {
   "cell_type": "code",
   "execution_count": null,
   "metadata": {},
   "outputs": [],
   "source": []
  }
 ],
 "metadata": {
  "kernelspec": {
   "display_name": "venv",
   "language": "python",
   "name": "python3"
  },
  "language_info": {
   "codemirror_mode": {
    "name": "ipython",
    "version": 3
   },
   "file_extension": ".py",
   "mimetype": "text/x-python",
   "name": "python",
   "nbconvert_exporter": "python",
   "pygments_lexer": "ipython3",
   "version": "3.12.0"
  }
 },
 "nbformat": 4,
 "nbformat_minor": 2
}
