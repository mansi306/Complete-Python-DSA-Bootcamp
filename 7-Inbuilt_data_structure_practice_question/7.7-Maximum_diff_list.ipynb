{
 "cells": [
  {
   "cell_type": "markdown",
   "metadata": {},
   "source": [
    "Maximum difference between two consecutive elements in a list.\n",
    "\n",
    "Find Maximum Difference Between Two Consecutive Elements (Brute Force Approach)\n",
    "\n",
    "You are given a list of integers. Write a Python program to find the maximum difference between two consecutive elements in the list using a brute-force approach. The difference is defined as the absolute value of the difference between two consecutive elements.\n",
    "\n",
    "Parameters:\n",
    "\n",
    "lst (List of integers): A list of integers.\n",
    "\n",
    "Returns:\n",
    "\n",
    "An integer representing the maximum difference between two consecutive elements.\n",
    "\n",
    "Example:\n",
    "\n",
    "Input: lst = [1, 7, 3, 10, 5]\n",
    "\n",
    "Output: 7\n",
    "\n",
    "The maximum difference is between 3 and 10 (i.e., |3 - 10| = 7).\n",
    "\n",
    "Input: lst = [10, 11, 15, 3]\n",
    "\n",
    "Output: 12\n",
    "\n",
    "The maximum difference is between 15 and 3 (i.e., |15 - 3| = 12)."
   ]
  },
  {
   "cell_type": "code",
   "execution_count": 2,
   "metadata": {},
   "outputs": [
    {
     "name": "stdout",
     "output_type": "stream",
     "text": [
      "12\n"
     ]
    }
   ],
   "source": [
    "def maximum_consecutive_diff(lst):\n",
    "    max_diff = 0\n",
    "    for i in range(len(lst)-1):\n",
    "        diff = lst[i]-lst[i+1]\n",
    "        if diff<max_diff:\n",
    "            diff = -diff\n",
    "        if diff>max_diff:\n",
    "            max_diff=diff\n",
    "    return max_diff\n",
    "\n",
    "lst = [10,11,15,3]\n",
    "print(maximum_consecutive_diff(lst))"
   ]
  },
  {
   "cell_type": "code",
   "execution_count": null,
   "metadata": {},
   "outputs": [],
   "source": []
  }
 ],
 "metadata": {
  "kernelspec": {
   "display_name": "venv",
   "language": "python",
   "name": "python3"
  },
  "language_info": {
   "codemirror_mode": {
    "name": "ipython",
    "version": 3
   },
   "file_extension": ".py",
   "mimetype": "text/x-python",
   "name": "python",
   "nbconvert_exporter": "python",
   "pygments_lexer": "ipython3",
   "version": "3.12.0"
  }
 },
 "nbformat": 4,
 "nbformat_minor": 2
}
