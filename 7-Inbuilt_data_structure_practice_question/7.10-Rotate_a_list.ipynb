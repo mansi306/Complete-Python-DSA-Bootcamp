{
 "cells": [
  {
   "cell_type": "markdown",
   "metadata": {},
   "source": [
    "Rotate a List\n",
    "Rotate a List (Without Slicing)\n",
    "\n",
    "You are given a list of integers and an integer k. Write a Python function to rotate the list to the right by k positions without using slicing. A rotation shifts elements from the end of the list to the front.\n",
    "\n",
    "Parameters:\n",
    "\n",
    "lst (List of integers): The list to be rotated.\n",
    "\n",
    "k (Integer): The number of positions to rotate the list.\n",
    "\n",
    "Returns:\n",
    "\n",
    "A list of integers rotated by k positions.\n",
    "\n",
    "Example:\n",
    "\n",
    "Input: lst = [1, 2, 3, 4, 5], k = 2\n",
    "\n",
    "Output: [4, 5, 1, 2, 3]\n",
    "\n",
    "Input: lst = [10, 20, 30, 40, 50], k = 3\n",
    "\n",
    "\n",
    "Output: [30, 40, 50, 10, 20]"
   ]
  },
  {
   "cell_type": "code",
   "execution_count": 5,
   "metadata": {},
   "outputs": [
    {
     "name": "stdout",
     "output_type": "stream",
     "text": [
      "[4, 5, 1, 2, 3]\n"
     ]
    }
   ],
   "source": [
    "def rotate_list(lst,k):\n",
    "    n= len(lst)\n",
    "    if n==0:\n",
    "        return lst \n",
    "    k = k%n\n",
    "    rotate_lst = []\n",
    "    for i in range(n-k,n):\n",
    "        rotate_lst.append(lst[i])\n",
    "    for j in range(n-k):\n",
    "        rotate_lst.append(lst[j])\n",
    "    return rotate_lst\n",
    "\n",
    "lst = [1,2,3,4,5]\n",
    "k = 2\n",
    "print (rotate_list(lst,k))\n"
   ]
  },
  {
   "cell_type": "code",
   "execution_count": null,
   "metadata": {},
   "outputs": [],
   "source": []
  }
 ],
 "metadata": {
  "kernelspec": {
   "display_name": "Python 3",
   "language": "python",
   "name": "python3"
  },
  "language_info": {
   "codemirror_mode": {
    "name": "ipython",
    "version": 3
   },
   "file_extension": ".py",
   "mimetype": "text/x-python",
   "name": "python",
   "nbconvert_exporter": "python",
   "pygments_lexer": "ipython3",
   "version": "3.12.0"
  }
 },
 "nbformat": 4,
 "nbformat_minor": 2
}
