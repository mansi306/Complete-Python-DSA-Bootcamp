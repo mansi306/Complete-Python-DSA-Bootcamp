{
 "cells": [
  {
   "cell_type": "markdown",
   "metadata": {},
   "source": [
    "Remove Duplicate in a List\n",
    "\n",
    "Remove Duplicates from a List\n",
    "\n",
    "You are given a list of integers. Write a Python program that removes any duplicate elements from the list and returns a new list with only unique elements. The order of elements in the list should be maintained.\n",
    "\n",
    "Parameters:\n",
    "\n",
    "lst (List of integers): The list of integers from which duplicates should be removed.\n",
    "\n",
    "Returns:\n",
    "\n",
    "A list of integers where all duplicates have been removed, preserving the original order.\n",
    "\n",
    "Example:\n",
    "\n",
    "Input: lst = [1, 2, 2, 3, 4, 4, 5]\n",
    "\n",
    "Output: [1, 2, 3, 4, 5]\n",
    "\n",
    "Input: lst = [4, 5, 5, 4, 6, 7]\n",
    "\n",
    "Output: [4, 5, 6, 7]"
   ]
  },
  {
   "cell_type": "code",
   "execution_count": 3,
   "metadata": {},
   "outputs": [
    {
     "name": "stdout",
     "output_type": "stream",
     "text": [
      "[1, 2, 3, 4, 5]\n"
     ]
    }
   ],
   "source": [
    "def remove_duplicates(lst):\n",
    "    unique_lst = []\n",
    "    seen = { }\n",
    "    for num in lst:\n",
    "        if num not in seen:\n",
    "            unique_lst.append(num)\n",
    "            seen[num]=True\n",
    "    return unique_lst\n",
    "\n",
    "lst =[1, 2, 2, 3, 4, 4, 5]\n",
    "print(remove_duplicates(lst))\n",
    "\n",
    "\n",
    "    \n",
    "    "
   ]
  },
  {
   "cell_type": "code",
   "execution_count": 4,
   "metadata": {},
   "outputs": [
    {
     "name": "stdout",
     "output_type": "stream",
     "text": [
      "[1, 2, 3, 4, 5]\n"
     ]
    }
   ],
   "source": [
    "def remove_duplicats(lst):\n",
    "    unique_lst = []\n",
    "    for num in lst:\n",
    "        if num not in unique_lst:\n",
    "            unique_lst.append(num)\n",
    "\n",
    "    return unique_lst\n",
    "lst =[1, 2, 2, 3, 4, 4, 5]\n",
    "print(remove_duplicates(lst))\n"
   ]
  },
  {
   "cell_type": "code",
   "execution_count": null,
   "metadata": {},
   "outputs": [],
   "source": []
  }
 ],
 "metadata": {
  "kernelspec": {
   "display_name": "Python 3",
   "language": "python",
   "name": "python3"
  },
  "language_info": {
   "codemirror_mode": {
    "name": "ipython",
    "version": 3
   },
   "file_extension": ".py",
   "mimetype": "text/x-python",
   "name": "python",
   "nbconvert_exporter": "python",
   "pygments_lexer": "ipython3",
   "version": "3.12.0"
  }
 },
 "nbformat": 4,
 "nbformat_minor": 2
}
