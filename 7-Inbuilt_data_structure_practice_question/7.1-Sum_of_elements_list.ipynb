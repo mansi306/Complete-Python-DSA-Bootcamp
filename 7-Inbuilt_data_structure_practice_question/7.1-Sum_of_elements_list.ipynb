{
 "cells": [
  {
   "cell_type": "markdown",
   "metadata": {},
   "source": [
    "Sum of List Elements\n",
    "\n",
    "Problem Description\n",
    "\n",
    "Sum of List Elements\n",
    "\n",
    "Write a Python function that calculates the sum of all elements in a given list of integers.\n",
    "\n",
    "Parameters:\n",
    "\n",
    "numbers (List of integers): The input list containing integers.\n",
    "\n",
    "Returns:\n",
    "\n",
    "An integer representing the sum of all elements in the input list.\n",
    "\n",
    "Example:\n",
    "\n",
    "Input: numbers = [1, 2, 3, 4, 5]\n",
    "\n",
    "Output: 15\n",
    "\n",
    "Input: numbers = [10, -5, 7, 8, -2]\n",
    "\n",
    "Output: 18"
   ]
  },
  {
   "cell_type": "code",
   "execution_count": 6,
   "metadata": {},
   "outputs": [
    {
     "name": "stdout",
     "output_type": "stream",
     "text": [
      "18\n"
     ]
    }
   ],
   "source": [
    "def sum_list(numbers):\n",
    "    sum =0\n",
    "    for i in numbers:\n",
    "        sum=sum+i\n",
    "    return sum\n",
    "\n",
    "numbers = [10, -5, 7, 8, -2]\n",
    "print(sum_list(numbers))"
   ]
  },
  {
   "cell_type": "code",
   "execution_count": null,
   "metadata": {},
   "outputs": [],
   "source": [
    "  "
   ]
  }
 ],
 "metadata": {
  "kernelspec": {
   "display_name": "venv",
   "language": "python",
   "name": "python3"
  },
  "language_info": {
   "codemirror_mode": {
    "name": "ipython",
    "version": 3
   },
   "file_extension": ".py",
   "mimetype": "text/x-python",
   "name": "python",
   "nbconvert_exporter": "python",
   "pygments_lexer": "ipython3",
   "version": "3.12.0"
  }
 },
 "nbformat": 4,
 "nbformat_minor": 2
}
