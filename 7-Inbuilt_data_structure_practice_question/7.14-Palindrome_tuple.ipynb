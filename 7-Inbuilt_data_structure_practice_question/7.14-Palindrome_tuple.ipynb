{
 "cells": [
  {
   "cell_type": "markdown",
   "metadata": {},
   "source": [
    "Palindromic Tuple\n",
    "\n",
    "Check if Tuple is Palindromic\n",
    "\n",
    "Design a Python function named is_palindromic_tuple to check if a tuple is palindromic, meaning it reads the same forwards and backwards.\n",
    "\n",
    "Parameters:\n",
    "\n",
    "tup (tuple): The input tuple that you need to check for palindromic property.\n",
    "\n",
    "Returns:\n",
    "\n",
    "True if the tuple is palindromic, False otherwise.\n",
    "\n",
    "Example:\n",
    "\n",
    "Input: (1, 2, 3, 2, 1)\n",
    "\n",
    "Output: True\n",
    "\n",
    "Input: ('a', 'b', 'c', 'b', 'a')\n",
    "\n",
    "Output: True\n",
    "\n",
    "Input: (1, 2, 3, 4, 5)\n",
    "\n",
    "Output: False\n",
    "\n",
    "Input: ('x', 'y', 'z', 'x')\n",
    "\n",
    "Output: False\n",
    "\n",
    "Input: ('a',)\n",
    "Output: True"
   ]
  },
  {
   "cell_type": "code",
   "execution_count": 3,
   "metadata": {},
   "outputs": [
    {
     "name": "stdout",
     "output_type": "stream",
     "text": [
      "True\n"
     ]
    }
   ],
   "source": [
    "def is_palindromic(tup):\n",
    "    left = 0\n",
    "    right = len(tup)-1\n",
    "    while left<right:\n",
    "        if tup[left]!=tup[right]:\n",
    "            return False\n",
    "        left+=1\n",
    "        right-=1\n",
    "    return True\n",
    "\n",
    "tup =('a', 'b', 'c', 'b', 'a')\n",
    "print(is_palindromic(tup))"
   ]
  },
  {
   "cell_type": "code",
   "execution_count": null,
   "metadata": {},
   "outputs": [],
   "source": []
  }
 ],
 "metadata": {
  "kernelspec": {
   "display_name": "venv",
   "language": "python",
   "name": "python3"
  },
  "language_info": {
   "codemirror_mode": {
    "name": "ipython",
    "version": 3
   },
   "file_extension": ".py",
   "mimetype": "text/x-python",
   "name": "python",
   "nbconvert_exporter": "python",
   "pygments_lexer": "ipython3",
   "version": "3.12.0"
  }
 },
 "nbformat": 4,
 "nbformat_minor": 2
}
