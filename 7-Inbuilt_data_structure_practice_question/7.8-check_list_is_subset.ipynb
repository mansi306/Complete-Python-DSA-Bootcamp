{
 "cells": [
  {
   "cell_type": "markdown",
   "metadata": {},
   "source": [
    "Check if List is Subset of another List\n",
    "\n",
    "Check if a List is a Subset of Another List (Brute Force Approach)\n",
    "\n",
    "You are given two lists of integers. Write a Python program that checks whether the first list is a subset of the second list using a brute-force approach, without using the in keyword. A list is considered a subset if all elements of the first list are present in the second list.\n",
    "\n",
    "Parameters:\n",
    "\n",
    "lst1 (List of integers): The first list, which is being checked as a subset.\n",
    "\n",
    "lst2 (List of integers): The second list, which is the list to compare against.\n",
    "\n",
    "Returns:\n",
    "\n",
    "A boolean value True if lst1 is a subset of lst2, otherwise False.\n",
    "\n",
    "Example:\n",
    "\n",
    "Input: lst1 = [1, 2, 3], lst2 = [1, 2, 3, 4, 5]\n",
    "\n",
    "Output: True\n",
    "\n",
    "All elements in lst1 are present in lst2.\n",
    "\n",
    "Input: lst1 = [1, 6], lst2 = [1, 2, 3, 4, 5]\n",
    "\n",
    "Output: False\n",
    "\n",
    "The element 6 is not present in lst2."
   ]
  },
  {
   "cell_type": "code",
   "execution_count": 1,
   "metadata": {},
   "outputs": [
    {
     "name": "stdout",
     "output_type": "stream",
     "text": [
      "False\n"
     ]
    }
   ],
   "source": [
    "def is_subset(lst1,lst2):\n",
    "    for i in lst1:\n",
    "        found = False\n",
    "        for j in lst2:\n",
    "            if i==j:\n",
    "                found=True\n",
    "                break\n",
    "        if not found:\n",
    "            return False\n",
    "    return True\n",
    "lst1=[1, 6]\n",
    "lst2 =[1, 2, 3, 4, 5]\n",
    "print(is_subset(lst1,lst2))\n",
    "\n"
   ]
  },
  {
   "cell_type": "code",
   "execution_count": null,
   "metadata": {},
   "outputs": [],
   "source": []
  }
 ],
 "metadata": {
  "kernelspec": {
   "display_name": "Python 3",
   "language": "python",
   "name": "python3"
  },
  "language_info": {
   "codemirror_mode": {
    "name": "ipython",
    "version": 3
   },
   "file_extension": ".py",
   "mimetype": "text/x-python",
   "name": "python",
   "nbconvert_exporter": "python",
   "pygments_lexer": "ipython3",
   "version": "3.12.0"
  }
 },
 "nbformat": 4,
 "nbformat_minor": 2
}
