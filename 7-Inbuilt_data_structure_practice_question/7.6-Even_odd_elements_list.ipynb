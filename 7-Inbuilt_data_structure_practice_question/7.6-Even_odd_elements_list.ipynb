{
 "cells": [
  {
   "cell_type": "markdown",
   "metadata": {},
   "source": [
    "Count Number of Odd and Even Elements in a List\n",
    "\n",
    "Count Even and Odd Numbers in a List\n",
    "\n",
    "You are given a list of integers. Write a Python program that counts and returns the number of even and odd numbers in the list.\n",
    "\n",
    "Parameters:\n",
    "\n",
    "lst (List of integers): The list of integers where you will count the even and odd numbers.\n",
    "\n",
    "Returns:\n",
    "\n",
    "A tuple (even_count, odd_count) where even_count is the number of even numbers and odd_count is the number of odd numbers.\n",
    "\n",
    "Example:\n",
    "\n",
    "Input: lst = [1, 2, 3, 4, 5]\n",
    "\n",
    "Output: (2, 3)\n",
    "\n",
    "There are 2 even numbers: 2, 4\n",
    "\n",
    "There are 3 odd numbers: 1, 3, 5"
   ]
  },
  {
   "cell_type": "code",
   "execution_count": 3,
   "metadata": {},
   "outputs": [
    {
     "name": "stdout",
     "output_type": "stream",
     "text": [
      "(2, 3)\n"
     ]
    }
   ],
   "source": [
    "def count_even_odd(lst):\n",
    "    even_count = 0\n",
    "    odd_count = 0\n",
    "    for num in lst:\n",
    "        if num % 2 == 0:\n",
    "            even_count += 1\n",
    "        else:\n",
    "            odd_count += 1\n",
    "    return (even_count, odd_count)\n",
    "\n",
    "# Example usage\n",
    "lst = [1, 2, 3, 4, 5]\n",
    "print(count_even_odd(lst))\n"
   ]
  },
  {
   "cell_type": "code",
   "execution_count": null,
   "metadata": {},
   "outputs": [],
   "source": []
  },
  {
   "cell_type": "code",
   "execution_count": 3,
   "metadata": {},
   "outputs": [
    {
     "name": "stdout",
     "output_type": "stream",
     "text": [
      "[1, 2, 3]\n",
      "[5, 6, 7]\n"
     ]
    }
   ],
   "source": [
    "l1 = [1,2,3,4,5,6,7]\n",
    "mid = len(l1)//2\n",
    "print(l1[:mid])\n",
    "print(l1[mid+1:])"
   ]
  },
  {
   "cell_type": "code",
   "execution_count": null,
   "metadata": {},
   "outputs": [],
   "source": []
  }
 ],
 "metadata": {
  "kernelspec": {
   "display_name": "Python 3",
   "language": "python",
   "name": "python3"
  },
  "language_info": {
   "codemirror_mode": {
    "name": "ipython",
    "version": 3
   },
   "file_extension": ".py",
   "mimetype": "text/x-python",
   "name": "python",
   "nbconvert_exporter": "python",
   "pygments_lexer": "ipython3",
   "version": "3.12.0"
  }
 },
 "nbformat": 4,
 "nbformat_minor": 2
}
