{
 "cells": [
  {
   "cell_type": "markdown",
   "metadata": {},
   "source": [
    "Check if all elements in a list are Unique\n",
    "\n",
    "Check if All Elements in a List are Unique\n",
    "\n",
    "You are given a list of integers. Write a Python program that checks if all elements in the list are unique. If all elements are unique, return True; otherwise, return False.\n",
    "\n",
    "Parameters:\n",
    "\n",
    "lst (List of integers): The list of integers to check for uniqueness.\n",
    "\n",
    "Returns:\n",
    "\n",
    "A boolean value True if all elements in the list are unique, False otherwise.\n",
    "\n",
    "Example:\n",
    "\n",
    "Input: lst = [1, 2, 3, 4, 5]\n",
    "\n",
    "Output: True\n",
    "\n",
    "Input: lst = [1, 2, 3, 3, 4, 5]\n",
    "\n",
    "Output: False"
   ]
  },
  {
   "cell_type": "code",
   "execution_count": 2,
   "metadata": {},
   "outputs": [
    {
     "name": "stdout",
     "output_type": "stream",
     "text": [
      "False\n"
     ]
    }
   ],
   "source": [
    "def unique_lst(lst):\n",
    "    unique_lst = []\n",
    "    for i in lst:\n",
    "        if i not in unique_lst:\n",
    "            unique_lst.append(i)\n",
    "    if lst==unique_lst:\n",
    "        return True\n",
    "    else:\n",
    "        return False\n",
    "lst =[1, 2, 3, 3, 4, 5]\n",
    "print(unique_lst(lst))"
   ]
  },
  {
   "cell_type": "code",
   "execution_count": null,
   "metadata": {},
   "outputs": [],
   "source": []
  }
 ],
 "metadata": {
  "kernelspec": {
   "display_name": "Python 3",
   "language": "python",
   "name": "python3"
  },
  "language_info": {
   "codemirror_mode": {
    "name": "ipython",
    "version": 3
   },
   "file_extension": ".py",
   "mimetype": "text/x-python",
   "name": "python",
   "nbconvert_exporter": "python",
   "pygments_lexer": "ipython3",
   "version": "3.12.0"
  }
 },
 "nbformat": 4,
 "nbformat_minor": 2
}
