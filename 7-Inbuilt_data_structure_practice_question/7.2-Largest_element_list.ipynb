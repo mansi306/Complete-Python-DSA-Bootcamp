{
 "cells": [
  {
   "cell_type": "markdown",
   "metadata": {},
   "source": [
    "Largest Element in a List\n",
    "\n",
    "Find the Largest Element in a List\n",
    "\n",
    "Write a Python function that finds and returns the largest element in a given list of integers.\n",
    "\n",
    "Parameters:\n",
    "\n",
    "numbers (List of integers): The input list containing integers.\n",
    "\n",
    "Returns:\n",
    "\n",
    "An integer representing the largest element in the input list.\n",
    "\n",
    "Example:\n",
    "\n",
    "Input: numbers = [3, 8, 2, 10, 5]\n",
    "\n",
    "Output: 10\n",
    "\n",
    "Input: numbers = [-5, -10, -2, -1, -7]\n",
    "\n",
    "Output: -1"
   ]
  },
  {
   "cell_type": "code",
   "execution_count": 2,
   "metadata": {},
   "outputs": [
    {
     "name": "stdout",
     "output_type": "stream",
     "text": [
      "-1\n",
      "10\n"
     ]
    }
   ],
   "source": [
    "def largest_element(numbers):\n",
    "    return max(numbers)\n",
    "\n",
    "numbers = [-5, -10, -2, -1, -7]\n",
    "print(largest_element(numbers))\n",
    "numbers = [3, 8, 2, 10, 5]\n",
    "print(largest_element(numbers))"
   ]
  },
  {
   "cell_type": "code",
   "execution_count": 3,
   "metadata": {},
   "outputs": [
    {
     "name": "stdout",
     "output_type": "stream",
     "text": [
      "-1\n",
      "10\n"
     ]
    }
   ],
   "source": [
    "def largest_element(numbers):\n",
    "    if not numbers:\n",
    "        return None \n",
    "    \n",
    "    largest = numbers[0]\n",
    "    for i in numbers[1:]:\n",
    "        if i>largest:\n",
    "            largest=i\n",
    "        \n",
    "    return largest\n",
    "numbers = [-5, -10, -2, -1, -7]\n",
    "print(largest_element(numbers))\n",
    "numbers = [3, 8, 2, 10, 5]\n",
    "print(largest_element(numbers))"
   ]
  },
  {
   "cell_type": "code",
   "execution_count": null,
   "metadata": {},
   "outputs": [],
   "source": []
  }
 ],
 "metadata": {
  "kernelspec": {
   "display_name": "venv",
   "language": "python",
   "name": "python3"
  },
  "language_info": {
   "codemirror_mode": {
    "name": "ipython",
    "version": 3
   },
   "file_extension": ".py",
   "mimetype": "text/x-python",
   "name": "python",
   "nbconvert_exporter": "python",
   "pygments_lexer": "ipython3",
   "version": "3.12.0"
  }
 },
 "nbformat": 4,
 "nbformat_minor": 2
}
