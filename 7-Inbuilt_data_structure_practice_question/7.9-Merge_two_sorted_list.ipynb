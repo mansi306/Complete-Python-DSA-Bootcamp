{
 "cells": [
  {
   "cell_type": "markdown",
   "metadata": {},
   "source": [
    "Merge two Sorted List\n",
    "Merge Two Sorted Lists\n",
    "\n",
    "You are given two sorted lists of integers. Write a Python function to merge these two sorted lists into one sorted list. The resulting list should also be in non-decreasing order.\n",
    "\n",
    "Parameters:\n",
    "\n",
    "list1 (List of integers): The first sorted list.\n",
    "\n",
    "list2 (List of integers): The second sorted list.\n",
    "\n",
    "Returns:\n",
    "\n",
    "A single list of integers, containing all elements from list1 and list2, sorted in non-decreasing order.\n",
    "\n",
    "Example:\n",
    "\n",
    "Input: list1 = [1, 3, 5], list2 = [2, 4, 6]\n",
    "\n",
    "Output: [1, 2, 3, 4, 5, 6]\n",
    "\n",
    "Input: list1 = [1, 4, 7], list2 = [2, 3, 5, 8]\n",
    "\n",
    "Output: [1, 2, 3, 4, 5, 7, 8]"
   ]
  },
  {
   "cell_type": "code",
   "execution_count": 1,
   "metadata": {},
   "outputs": [
    {
     "name": "stdout",
     "output_type": "stream",
     "text": [
      "[1, 2, 3, 4, 5, 6]\n"
     ]
    }
   ],
   "source": [
    "def merge_two_sorted_list(lst1,lst2):\n",
    "    merged_lst=[]\n",
    "    i,j = 0,0\n",
    "    while i<len(lst1) and j<len(lst2):\n",
    "        if lst1[i]<lst2[j]:\n",
    "            merged_lst.append(lst1[i])\n",
    "            i+=1\n",
    "        else:\n",
    "            merged_lst.append(lst2[j])\n",
    "            j+=1\n",
    "    while i<len(lst1):\n",
    "        merged_lst.append(lst1[i])\n",
    "        i+=1\n",
    "\n",
    "    while j<len(lst2):\n",
    "        merged_lst.append(lst2[j])\n",
    "        j+=1\n",
    "    return merged_lst\n",
    "\n",
    "lst1 = [1,3,5]\n",
    "lst2 = [2,4,6]\n",
    "print(merge_two_sorted_list(lst1,lst2))\n",
    "\n",
    "    \n"
   ]
  },
  {
   "cell_type": "code",
   "execution_count": 9,
   "metadata": {},
   "outputs": [
    {
     "name": "stdout",
     "output_type": "stream",
     "text": [
      "['***', '* *', '***']\n"
     ]
    }
   ],
   "source": [
    "# hollow sqaure of side n \n",
    "def hollow_square(n):\n",
    "    if n ==1:\n",
    "        return [\"*\"]\n",
    "    square = [n*\"*\"]\n",
    "    for i in range(1,n-1):\n",
    "        square.append('*'+' '*(n-2)+'*')\n",
    "    square.append(n*'*')\n",
    "    return square\n",
    "\n",
    "n = int(input(\"enter a number : \"))\n",
    "print(hollow_square(n))\n",
    "        "
   ]
  },
  {
   "cell_type": "code",
   "execution_count": 10,
   "metadata": {},
   "outputs": [
    {
     "name": "stdout",
     "output_type": "stream",
     "text": [
      "*****\n",
      "*   *\n",
      "*   *\n",
      "*   *\n",
      "*****\n",
      "None\n"
     ]
    }
   ],
   "source": [
    "def hollow_square(n):\n",
    "    if n ==1:\n",
    "        print('*')\n",
    "    print(n*'*')\n",
    "    for i in range(1,n-1):\n",
    "        print('*'+' '*(n-2)+'*')\n",
    "    print(n*'*')\n",
    "n = int(input(\"enter a number : \"))\n",
    "print(hollow_square(n))\n",
    "        "
   ]
  },
  {
   "cell_type": "code",
   "execution_count": null,
   "metadata": {},
   "outputs": [],
   "source": []
  }
 ],
 "metadata": {
  "kernelspec": {
   "display_name": "Python 3",
   "language": "python",
   "name": "python3"
  },
  "language_info": {
   "codemirror_mode": {
    "name": "ipython",
    "version": 3
   },
   "file_extension": ".py",
   "mimetype": "text/x-python",
   "name": "python",
   "nbconvert_exporter": "python",
   "pygments_lexer": "ipython3",
   "version": "3.12.0"
  }
 },
 "nbformat": 4,
 "nbformat_minor": 2
}
