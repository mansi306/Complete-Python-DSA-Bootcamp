{
 "cells": [
  {
   "cell_type": "markdown",
   "metadata": {},
   "source": [
    "Words Frequency in a Sentence\n",
    "Count Word Frequency\n",
    "\n",
    "Design a Python function named count_word_frequency to count the frequency of words in a sentence and store the counts in a dictionary.\n",
    "\n",
    "Parameters:\n",
    "\n",
    "sentence (str): The input sentence where you need to count the frequency of each word.\n",
    "\n",
    "Returns:\n",
    "\n",
    "A dictionary where the keys are words from the sentence and the values are their corresponding frequencies.\n",
    "\n",
    "Example:\n",
    "\n",
    "Input: \"hello world hello\"\n",
    "\n",
    "Output: {'hello': 2, 'world': 1}\n",
    "\n",
    "Input: \"the quick brown fox jumps over the lazy dog\"\n",
    "\n",
    "Output: {'the': 2, 'quick': 1, 'brown': 1, 'fox': 1, 'jumps': 1, 'over': 1, 'lazy': 1, 'dog': 1}\n"
   ]
  },
  {
   "cell_type": "code",
   "execution_count": 2,
   "metadata": {},
   "outputs": [
    {
     "name": "stdout",
     "output_type": "stream",
     "text": [
      "{'the': 2, 'quick': 1, 'brown': 1, 'fox': 1, 'jumps': 1, 'over': 1, 'lazy': 1, 'dog': 1}\n"
     ]
    }
   ],
   "source": [
    "def count_word_frequency(sentence):\n",
    "    words = sentence.split()\n",
    "    frequency_dict = {}\n",
    "    for word in words:\n",
    "        if word in frequency_dict:\n",
    "            frequency_dict[word]+=1\n",
    "        else:\n",
    "            frequency_dict[word]=1\n",
    "    return frequency_dict\n",
    "\n",
    "sentence=\"the quick brown fox jumps over the lazy dog\"\n",
    "print(count_word_frequency(sentence))\n",
    "\n",
    "\n",
    "\n"
   ]
  },
  {
   "cell_type": "code",
   "execution_count": null,
   "metadata": {},
   "outputs": [],
   "source": []
  }
 ],
 "metadata": {
  "kernelspec": {
   "display_name": "Python 3",
   "language": "python",
   "name": "python3"
  },
  "language_info": {
   "codemirror_mode": {
    "name": "ipython",
    "version": 3
   },
   "file_extension": ".py",
   "mimetype": "text/x-python",
   "name": "python",
   "nbconvert_exporter": "python",
   "pygments_lexer": "ipython3",
   "version": "3.12.0"
  }
 },
 "nbformat": 4,
 "nbformat_minor": 2
}
