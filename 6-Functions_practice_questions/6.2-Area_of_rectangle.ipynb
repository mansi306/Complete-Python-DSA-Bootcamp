{
 "cells": [
  {
   "cell_type": "markdown",
   "metadata": {},
   "source": [
    "Area of a Rectangle\n",
    "\n",
    "Problem Description:\n",
    "\n",
    "You are given the length and breadth of a rectangle. Your task is to compute and return the area of the rectangle.\n",
    "\n",
    "Formula:\n",
    "\n",
    "To calculate the area of a rectangle:\n",
    "\n",
    "Area=length×breadth\n",
    "\n",
    "\n",
    "\n",
    "Input:\n",
    "\n",
    "Two floating-point numbers, length and breadth, representing the dimensions of the rectangle.\n",
    "\n",
    "\n",
    "\n",
    "Output:\n",
    "\n",
    "A floating-point number representing the area of the rectangle.\n",
    "\n",
    "\n",
    "\n",
    "Example:\n",
    "\n",
    "Input: length = 5, breadth = 3\n",
    "\n",
    "Output: 15.0\n",
    " \n",
    "Input: length = 7.5, breadth = 2.4\n",
    "\n",
    "Output: 18.0"
   ]
  },
  {
   "cell_type": "code",
   "execution_count": 2,
   "metadata": {},
   "outputs": [
    {
     "name": "stdout",
     "output_type": "stream",
     "text": [
      "18.0\n"
     ]
    }
   ],
   "source": [
    "def Area_of_rectangle(l,b):\n",
    "    return l*b\n",
    "\n",
    "l = float(input(\"Enetr a number : \"))\n",
    "b = float(input(\"Enter a number : \"))\n",
    "print(Area_of_rectangle(l,b))"
   ]
  },
  {
   "cell_type": "code",
   "execution_count": null,
   "metadata": {},
   "outputs": [],
   "source": []
  }
 ],
 "metadata": {
  "kernelspec": {
   "display_name": "venv",
   "language": "python",
   "name": "python3"
  },
  "language_info": {
   "codemirror_mode": {
    "name": "ipython",
    "version": 3
   },
   "file_extension": ".py",
   "mimetype": "text/x-python",
   "name": "python",
   "nbconvert_exporter": "python",
   "pygments_lexer": "ipython3",
   "version": "3.12.0"
  }
 },
 "nbformat": 4,
 "nbformat_minor": 2
}
