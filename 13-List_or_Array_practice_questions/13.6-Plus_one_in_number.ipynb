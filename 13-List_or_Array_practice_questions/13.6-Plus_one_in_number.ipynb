{
 "cells": [
  {
   "cell_type": "markdown",
   "metadata": {},
   "source": [
    "Plus One in the Number\n",
    "\n",
    "Asked in Companies:\n",
    "\n",
    "Google\n",
    "\n",
    "Amazon\n",
    "\n",
    "Microsoft\n",
    "\n",
    "Facebook\n",
    "\n",
    "\n",
    "\n",
    "Description:\n",
    "You are given a large integer represented as an integer array digits, where each digits[i] is the i-th digit of the integer. The digits are ordered from most significant to least significant in left-to-right order. The large integer does not contain any leading zeroes.\n",
    "\n",
    "Write a function to increment the large integer by one and return the resulting array of digits.\n",
    "\n",
    "\n",
    "\n",
    "Input Parameters:\n",
    "\n",
    "digits (List[int]): A list of integers where each integer represents a digit of a large number.\n",
    "\n",
    "Output:\n",
    "\n",
    "List[int]: The list representing the number after incrementing it by one.\n",
    "\n",
    "\n",
    "\n",
    "Example:\n",
    "\n",
    "Input: digits = [1, 2, 3]\n",
    "\n",
    "Output: [1, 2, 4]\n",
    " \n",
    "Input: digits = [4, 3, 2, 1]\n",
    "\n",
    "Output: [4, 3, 2, 2]\n",
    " \n",
    "Input: digits = [9, 9, 9]\n",
    "\n",
    "Output: [1, 0, 0, 0]\n"
   ]
  },
  {
   "cell_type": "code",
   "execution_count": 2,
   "metadata": {},
   "outputs": [
    {
     "name": "stdout",
     "output_type": "stream",
     "text": [
      "[1, 0, 0, 0, 0]\n"
     ]
    }
   ],
   "source": [
    "def plus_one(digits):\n",
    "    n = len(digits)\n",
    "    for i in range(n-1,-1,-1):\n",
    "        if digits[i]<9:\n",
    "            digits[i]+=1\n",
    "            return digits \n",
    "        else:\n",
    "            digits[i]=0\n",
    "    return [1]+digits \n",
    "\n",
    "digits = [9,9,9,9]\n",
    "print(plus_one(digits))\n"
   ]
  },
  {
   "cell_type": "code",
   "execution_count": null,
   "metadata": {},
   "outputs": [],
   "source": []
  }
 ],
 "metadata": {
  "kernelspec": {
   "display_name": "Python 3",
   "language": "python",
   "name": "python3"
  },
  "language_info": {
   "codemirror_mode": {
    "name": "ipython",
    "version": 3
   },
   "file_extension": ".py",
   "mimetype": "text/x-python",
   "name": "python",
   "nbconvert_exporter": "python",
   "pygments_lexer": "ipython3",
   "version": "3.12.0"
  }
 },
 "nbformat": 4,
 "nbformat_minor": 2
}
