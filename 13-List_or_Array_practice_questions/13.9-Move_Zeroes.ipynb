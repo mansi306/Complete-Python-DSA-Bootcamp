{
 "cells": [
  {
   "cell_type": "markdown",
   "metadata": {},
   "source": [
    "Move Zeroes\n",
    "\n",
    "Asked in Companies:\n",
    "\n",
    "Google\n",
    "\n",
    "Amazon\n",
    "\n",
    "Microsoft\n",
    "\n",
    "Facebook\n",
    "\n",
    "\n",
    "\n",
    "Description:\n",
    "Given an integer array nums, write a function to move all 0s to the end of the array while maintaining the relative order of the non-zero elements.\n",
    "\n",
    "\n",
    "\n",
    "Input Parameters:\n",
    "\n",
    "nums (List[int]): A list of integers.\n",
    "\n",
    "Output:\n",
    "\n",
    "The list nums with all 0s moved to the end, preserving the order of non-zero elements.\n",
    "\n",
    "\n",
    "\n",
    "Example:\n",
    "\n",
    "Input: nums = [0, 1, 0, 3, 12]\n",
    "\n",
    "Output: [1, 3, 12, 0, 0]\n",
    " \n",
    "Input: nums = [0, 0, 1]\n",
    "\n",
    "Output: [1, 0, 0]\n",
    " \n",
    "Input: nums = [4, 2, 4, 0, 0, 3, 0, 5, 1, 0]\n",
    "\n",
    "Output: [4, 2, 4, 3, 5, 1, 0, 0, 0, 0]\n"
   ]
  },
  {
   "cell_type": "code",
   "execution_count": 4,
   "metadata": {},
   "outputs": [
    {
     "name": "stdout",
     "output_type": "stream",
     "text": [
      "[4, 2, 4, 3, 5, 1, 0, 0, 0, 0]\n"
     ]
    }
   ],
   "source": [
    "def move_zeroes(nums):\n",
    "    non_zero_index = 0\n",
    "    for i in range(len(nums)):\n",
    "        if nums[i]!=0:\n",
    "            nums[non_zero_index],nums[i]=nums[i],nums[non_zero_index]\n",
    "            non_zero_index+=1\n",
    "    # while non_zero_index<nums[i]:\n",
    "    #     nums[non_zero_index] = 0\n",
    "    #     non_zero_index+=1\n",
    "    return nums\n",
    "\n",
    "nums = [4,2,4,0,0,3,0,5,1,0]\n",
    "print(move_zeroes(nums))\n"
   ]
  },
  {
   "cell_type": "code",
   "execution_count": null,
   "metadata": {},
   "outputs": [],
   "source": []
  }
 ],
 "metadata": {
  "kernelspec": {
   "display_name": "venv",
   "language": "python",
   "name": "python3"
  },
  "language_info": {
   "codemirror_mode": {
    "name": "ipython",
    "version": 3
   },
   "file_extension": ".py",
   "mimetype": "text/x-python",
   "name": "python",
   "nbconvert_exporter": "python",
   "pygments_lexer": "ipython3",
   "version": "3.12.0"
  }
 },
 "nbformat": 4,
 "nbformat_minor": 2
}
