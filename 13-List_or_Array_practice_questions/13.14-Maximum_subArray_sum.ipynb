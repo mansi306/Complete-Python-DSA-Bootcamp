{
 "cells": [
  {
   "cell_type": "markdown",
   "metadata": {},
   "source": [
    "Maximum Subarray Sum\n",
    "\n",
    "Asked in Companies:\n",
    "\n",
    "Accenture\n",
    "\n",
    "SAP labs\n",
    "\n",
    "Dunzo\n",
    "\n",
    "Acko\n",
    "\n",
    "\n",
    "\n",
    "Description:\n",
    "\n",
    "Given an array arr of length n, consisting of integers, find the sum of the subarray (including an empty subarray) that has the maximum sum among all possible subarrays.\n",
    "\n",
    "\n",
    "\n",
    "Input:\n",
    "\n",
    "An integer array arr of length n where 1 ≤ n ≤ 10^5 and each element arr[i] is an integer.\n",
    "\n",
    "\n",
    "Output:\n",
    "\n",
    "An integer representing the sum of the subarray with the maximum sum. If all numbers are negative, the algorithm should handle that correctly by returning the largest single number or zero if the array is empty.\n",
    "\n",
    "Example:\n",
    "\n",
    "Input: arr = [-2, 1, -3, 4, -1, 2, 1, -5, 4]\n",
    "\n",
    "Output: 6\n",
    "\n",
    "Explanation: The subarray [4, -1, 2, 1] has the maximum sum 6.\n"
   ]
  },
  {
   "cell_type": "code",
   "execution_count": 1,
   "metadata": {},
   "outputs": [
    {
     "name": "stdout",
     "output_type": "stream",
     "text": [
      "6\n"
     ]
    }
   ],
   "source": [
    "def max_subarraay(arr):\n",
    "    max_ending_here = 0 \n",
    "    max_so_far = float('-inf')\n",
    "    for i in arr :\n",
    "        max_ending_here = max(i,max_ending_here+i)\n",
    "        max_so_far = max(max_so_far,max_ending_here)\n",
    "    return max_so_far\n",
    "\n",
    "n = [-2, 1, -3, 4, -1, 2, 1, -5, 4]\n",
    "print(max_subarraay(n))"
   ]
  },
  {
   "cell_type": "code",
   "execution_count": null,
   "metadata": {},
   "outputs": [],
   "source": []
  }
 ],
 "metadata": {
  "kernelspec": {
   "display_name": "venv",
   "language": "python",
   "name": "python3"
  },
  "language_info": {
   "codemirror_mode": {
    "name": "ipython",
    "version": 3
   },
   "file_extension": ".py",
   "mimetype": "text/x-python",
   "name": "python",
   "nbconvert_exporter": "python",
   "pygments_lexer": "ipython3",
   "version": "3.12.0"
  }
 },
 "nbformat": 4,
 "nbformat_minor": 2
}
