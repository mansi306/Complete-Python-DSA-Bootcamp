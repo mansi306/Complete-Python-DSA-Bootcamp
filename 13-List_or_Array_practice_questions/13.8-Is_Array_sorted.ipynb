{
 "cells": [
  {
   "cell_type": "markdown",
   "metadata": {},
   "source": [
    "Is Array Sorted?\n",
    "\n",
    "Asked in Companies:\n",
    "\n",
    "Google\n",
    "\n",
    "Microsoft\n",
    "\n",
    "Amazon\n",
    "\n",
    "Facebook\n",
    "\n",
    "\n",
    "\n",
    "Description:\n",
    "Write a function that checks whether the given array is sorted in non-decreasing order. The array is considered sorted if every element is less than or equal to the next element.\n",
    "\n",
    "\n",
    "\n",
    "Input Parameters:\n",
    "\n",
    "arr (List[int]): A list of integers.\n",
    "\n",
    "Output:\n",
    "\n",
    "bool: True if the array is sorted in non-decreasing order, False otherwise.\n",
    "\n",
    "\n",
    "\n",
    "Example:\n",
    "\n",
    "Input: arr = [5, 4, 3, 2, 1]\n",
    "\n",
    "Output: False\n",
    " \n",
    "Input: arr = [1, 3, 2, 4, 5]\n",
    "\n",
    "Output: False\n",
    " \n",
    "Input: arr = [1, 2, 3, 4, 5]\n",
    "\n",
    "Output: True\n"
   ]
  },
  {
   "cell_type": "code",
   "execution_count": 11,
   "metadata": {},
   "outputs": [
    {
     "name": "stdout",
     "output_type": "stream",
     "text": [
      "True\n"
     ]
    }
   ],
   "source": [
    "def is_sorted(arr):\n",
    "    n = len(arr)\n",
    "    for i in range(n-1):\n",
    "        if arr[i]>arr[i+1]:\n",
    "            return False \n",
    "    return True \n",
    "arr = list(map(int,input(\"Enter an array (space seperated :)\").split()))\n",
    "print(is_sorted(arr))"
   ]
  },
  {
   "cell_type": "code",
   "execution_count": 8,
   "metadata": {},
   "outputs": [],
   "source": [
    "arr = list(map(int, input(\"Enter an array (space-separated): \").split()))\n",
    "\n"
   ]
  },
  {
   "cell_type": "code",
   "execution_count": null,
   "metadata": {},
   "outputs": [],
   "source": []
  }
 ],
 "metadata": {
  "kernelspec": {
   "display_name": "venv",
   "language": "python",
   "name": "python3"
  },
  "language_info": {
   "codemirror_mode": {
    "name": "ipython",
    "version": 3
   },
   "file_extension": ".py",
   "mimetype": "text/x-python",
   "name": "python",
   "nbconvert_exporter": "python",
   "pygments_lexer": "ipython3",
   "version": "3.12.0"
  }
 },
 "nbformat": 4,
 "nbformat_minor": 2
}
