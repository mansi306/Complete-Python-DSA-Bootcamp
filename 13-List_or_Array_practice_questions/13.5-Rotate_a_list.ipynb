{
 "cells": [
  {
   "cell_type": "markdown",
   "metadata": {},
   "source": [
    "Rotate List\n",
    "Asked in Companies:\n",
    "\n",
    "Google\n",
    "\n",
    "Amazon\n",
    "\n",
    "Microsoft\n",
    "\n",
    "Facebook\n",
    "\n",
    "\n",
    "\n",
    "Description:\n",
    "Given a list of integers and an integer D, write a function to rotate the list to the left by D positions.\n",
    "\n",
    "\n",
    "\n",
    "Input Parameters:\n",
    "\n",
    "ARR (List[int]): A list of integers.\n",
    "\n",
    "D (int): The number of positions to rotate the list to the left.\n",
    "\n",
    "Output:\n",
    "\n",
    "List[int]: The list after rotating it to the left by D positions.\n",
    "\n",
    "\n",
    "\n",
    "Example:\n",
    "\n",
    "Input: ARR = [1, 2, 3, 4, 5], D = 2\n",
    "\n",
    "Output: [3, 4, 5, 1, 2]\n",
    " \n",
    "Input: ARR = [10, 20, 30, 40, 50], D = 3\n",
    "\n",
    "Output: [40, 50, 10, 20, 30]\n",
    " \n",
    "Input: ARR = [7, 8, 9, 10], D = 1\n",
    "\n",
    "Output: [8, 9, 10, 7]"
   ]
  },
  {
   "cell_type": "code",
   "execution_count": 2,
   "metadata": {},
   "outputs": [
    {
     "name": "stdout",
     "output_type": "stream",
     "text": [
      "[3, 4, 5, 1, 2]\n"
     ]
    }
   ],
   "source": [
    "def rotate_lst(arr,d):\n",
    "    d = d%(len(arr))\n",
    "    return arr[d:]+arr[:d]\n",
    "print(rotate_lst([1,2,3,4,5],2))"
   ]
  },
  {
   "cell_type": "code",
   "execution_count": null,
   "metadata": {},
   "outputs": [],
   "source": []
  }
 ],
 "metadata": {
  "kernelspec": {
   "display_name": "Python 3",
   "language": "python",
   "name": "python3"
  },
  "language_info": {
   "codemirror_mode": {
    "name": "ipython",
    "version": 3
   },
   "file_extension": ".py",
   "mimetype": "text/x-python",
   "name": "python",
   "nbconvert_exporter": "python",
   "pygments_lexer": "ipython3",
   "version": "3.12.0"
  }
 },
 "nbformat": 4,
 "nbformat_minor": 2
}
