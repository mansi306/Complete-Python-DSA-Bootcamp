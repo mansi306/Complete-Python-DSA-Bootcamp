{
 "cells": [
  {
   "cell_type": "markdown",
   "metadata": {},
   "source": [
    "Intersection of two Lists\n",
    "\n",
    "Asked in Companies:\n",
    "\n",
    "Google\n",
    "\n",
    "Amazon\n",
    "\n",
    "Microsoft\n",
    "\n",
    "Facebook\n",
    "\n",
    "\n",
    "\n",
    "Description:\n",
    "Given two integer arrays nums1 and nums2, return an array of their intersection. Each element in the result must be unique, and you may return the result in any order.\n",
    "\n",
    "\n",
    "\n",
    "Input Parameters:\n",
    "\n",
    "nums1 (List[int]): An array of integers.\n",
    "\n",
    "nums2 (List[int]): An array of integers.\n",
    "\n",
    "Output:\n",
    "\n",
    "List[int]: An array of unique integers that are present in both nums1 and nums2.\n",
    "\n",
    "\n",
    "\n",
    "Example:\n",
    "\n",
    "Input: nums1 = [1, 2, 3], nums2 = [4, 5, 6]\n",
    "\n",
    "Output: []\n",
    " \n",
    "Input: nums1 = [1, 2, 2, 1], nums2 = [2, 2]\n",
    "\n",
    "Output: [2]\n",
    " \n",
    "Input: nums1 = [4, 9, 5], nums2 = [9, 4, 9, 8, 4]\n",
    "\n",
    "Output: [9, 4]"
   ]
  },
  {
   "cell_type": "code",
   "execution_count": 1,
   "metadata": {},
   "outputs": [
    {
     "name": "stdout",
     "output_type": "stream",
     "text": [
      "[9, 4]\n"
     ]
    }
   ],
   "source": [
    "def intersection(nums1,nums2):\n",
    "    set1 = set(nums1)\n",
    "    intersection_set = set()\n",
    "    for i in nums2 :\n",
    "        if i in set1:\n",
    "            intersection_set.add(i)\n",
    "    return list(intersection_set)\n",
    "\n",
    "nums1 = [4, 9, 5]\n",
    "nums2 = [9, 4, 9, 8, 4]\n",
    "print(intersection(nums1,nums2))\n",
    "\n"
   ]
  },
  {
   "cell_type": "code",
   "execution_count": null,
   "metadata": {},
   "outputs": [],
   "source": []
  }
 ],
 "metadata": {
  "kernelspec": {
   "display_name": "venv",
   "language": "python",
   "name": "python3"
  },
  "language_info": {
   "codemirror_mode": {
    "name": "ipython",
    "version": 3
   },
   "file_extension": ".py",
   "mimetype": "text/x-python",
   "name": "python",
   "nbconvert_exporter": "python",
   "pygments_lexer": "ipython3",
   "version": "3.12.0"
  }
 },
 "nbformat": 4,
 "nbformat_minor": 2
}
