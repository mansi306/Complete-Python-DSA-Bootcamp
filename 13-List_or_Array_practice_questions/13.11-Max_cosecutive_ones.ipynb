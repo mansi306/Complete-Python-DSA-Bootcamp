{
 "cells": [
  {
   "cell_type": "markdown",
   "metadata": {},
   "source": [
    "Max Consecutive Ones\n",
    "\n",
    "Asked in Companies:\n",
    "\n",
    "Google\n",
    "\n",
    "Amazon\n",
    "\n",
    "Microsoft\n",
    "\n",
    "Facebook\n",
    "\n",
    "\n",
    "\n",
    "Description:\n",
    "Given a binary array nums, return the maximum number of consecutive 1s in the array.\n",
    "\n",
    "\n",
    "\n",
    "Input Parameters:\n",
    "\n",
    "nums (List[int]): A binary array where each element is either 0 or 1.\n",
    "\n",
    "Output:\n",
    "\n",
    "int: The maximum number of consecutive 1s in the array.\n",
    "\n",
    "\n",
    "\n",
    "Example:\n",
    "\n",
    "Input: nums = [0, 0, 0, 0]\n",
    "\n",
    "Output: 0\n",
    " \n",
    "Input: nums = [1, 0, 1, 1, 0, 1, 1, 1, 1]\n",
    "\n",
    "Output: 4\n",
    " \n",
    "Input: nums = [1, 1, 0, 1, 1, 1]\n",
    "\n",
    "Output: 3"
   ]
  },
  {
   "cell_type": "code",
   "execution_count": 1,
   "metadata": {},
   "outputs": [
    {
     "name": "stdout",
     "output_type": "stream",
     "text": [
      "5\n"
     ]
    }
   ],
   "source": [
    "def find_max_consecutive_ones(nums):\n",
    "    current_num = 0 \n",
    "    max_count = 0\n",
    "    for i in nums:\n",
    "        if i == 1:\n",
    "            current_num+=1\n",
    "        else:\n",
    "            max_count = max(current_num,max_count)\n",
    "            current_num=0\n",
    "    return max(current_num,max_count)\n",
    "\n",
    "nums = [1,0,1,1,0,1,1,1,1,1]\n",
    "print(find_max_consecutive_ones(nums))"
   ]
  },
  {
   "cell_type": "code",
   "execution_count": null,
   "metadata": {},
   "outputs": [],
   "source": []
  }
 ],
 "metadata": {
  "kernelspec": {
   "display_name": "venv",
   "language": "python",
   "name": "python3"
  },
  "language_info": {
   "codemirror_mode": {
    "name": "ipython",
    "version": 3
   },
   "file_extension": ".py",
   "mimetype": "text/x-python",
   "name": "python",
   "nbconvert_exporter": "python",
   "pygments_lexer": "ipython3",
   "version": "3.12.0"
  }
 },
 "nbformat": 4,
 "nbformat_minor": 2
}
