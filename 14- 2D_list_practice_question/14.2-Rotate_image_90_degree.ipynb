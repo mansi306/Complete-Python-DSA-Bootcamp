{
 "cells": [
  {
   "cell_type": "markdown",
   "metadata": {},
   "source": [
    "Rotate Image\n",
    "\n",
    "Asked in Companies:\n",
    "\n",
    "Zoho\n",
    "\n",
    "Amazon\n",
    "\n",
    "Schlumberger\n",
    "\n",
    "Facebook\n",
    "\n",
    "\n",
    "\n",
    "Description:\n",
    "You are given an n x n 2D matrix representing an image. Rotate the image by 90 degrees clockwise. The rotation should be done in-place, meaning you have to modify the input matrix directly without using any additional matrix for storage.\n",
    "\n",
    "\n",
    "\n",
    "Input Parameters:\n",
    "\n",
    "matrix (List[List[int]]): A 2D list of integers representing the matrix of size n x n.\n",
    "\n",
    "Output:\n",
    "\n",
    "The function should modify the matrix in-place. No need to return anything.\n",
    "\n",
    "\n",
    "\n",
    "Example:\n",
    "\n",
    "Input: matrix = [\n",
    "    [5, 1, 9, 11],\n",
    "                 \n",
    "    [2, 4, 8, 10],\n",
    "\n",
    "    [13, 3, 6, 7],\n",
    "\n",
    "    [15, 14, 12, 16]]\n",
    "\n",
    "Output: [[15, 13, 2, 5]\n",
    ",\n",
    "         [14, 3, 4, 1]\n",
    "         ,\n",
    "         [12, 6, 8, 9]\n",
    "         ,\n",
    "         [16, 7, 10, 11]]\n",
    " \n",
    " \n",
    "Input: matrix = [[1, 2, 3],\n",
    "                 [4, 5, 6],\n",
    "                 [7, 8, 9]]\n",
    "Output: [[7, 4, 1],\n",
    "         [8, 5, 2],\n",
    "         [9, 6, 3]]\n"
   ]
  },
  {
   "cell_type": "code",
   "execution_count": 1,
   "metadata": {},
   "outputs": [
    {
     "name": "stdout",
     "output_type": "stream",
     "text": [
      "[[7, 4, 1], [8, 5, 2], [9, 6, 3]]\n"
     ]
    }
   ],
   "source": [
    "def rotate_matrix(matrix):\n",
    "    n = len(matrix)\n",
    "    for i in range(n):\n",
    "        for j in range(i,n):\n",
    "            matrix[i][j],matrix[j][i] = matrix[j][i],matrix[i][j]\n",
    "    for i in range(n):\n",
    "        matrix[i].reverse()\n",
    "    return matrix \n",
    "\n",
    "matrix = [[1, 2, 3],\n",
    "         [4, 5, 6],\n",
    "         [7, 8, 9]]\n",
    "\n",
    "print(rotate_matrix(matrix))"
   ]
  },
  {
   "cell_type": "code",
   "execution_count": 1,
   "metadata": {},
   "outputs": [
    {
     "name": "stdout",
     "output_type": "stream",
     "text": [
      "[2, 3, 4, 5, 8]\n"
     ]
    }
   ],
   "source": [
    "lst = [1,2,3,4,5,8]\n",
    "print(lst[1:])"
   ]
  },
  {
   "cell_type": "code",
   "execution_count": null,
   "metadata": {},
   "outputs": [],
   "source": []
  }
 ],
 "metadata": {
  "kernelspec": {
   "display_name": "Python 3",
   "language": "python",
   "name": "python3"
  },
  "language_info": {
   "codemirror_mode": {
    "name": "ipython",
    "version": 3
   },
   "file_extension": ".py",
   "mimetype": "text/x-python",
   "name": "python",
   "nbconvert_exporter": "python",
   "pygments_lexer": "ipython3",
   "version": "3.12.0"
  }
 },
 "nbformat": 4,
 "nbformat_minor": 2
}
