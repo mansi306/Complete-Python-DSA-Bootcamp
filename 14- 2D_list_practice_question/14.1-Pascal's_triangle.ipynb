{
 "cells": [
  {
   "cell_type": "markdown",
   "metadata": {},
   "source": [
    "Pascal's Triangle\n",
    "\n",
    "Asked in Companies:\n",
    "\n",
    "Google\n",
    "\n",
    "Amazon\n",
    "\n",
    "Microsoft\n",
    "\n",
    "Facebook\n",
    "\n",
    "\n",
    "\n",
    "Description:\n",
    "Given an integer numRows, return the first numRows of Pascal's triangle. In Pascal's triangle, each number is the sum of the two numbers directly above it. The first row is row 0, which is [1].\n",
    "\n",
    "\n",
    "\n",
    "Input Parameters:\n",
    "\n",
    "numRows (int): The number of rows of Pascal's triangle to generate.\n",
    "\n",
    "Output:\n",
    "\n",
    "List[List[int]]: A list of lists where each list represents a row in Pascal's triangle.\n",
    "\n",
    "\n",
    "\n",
    "Example:\n",
    "\n",
    "Input: numRows = 3\n",
    "\n",
    "Output: [\n",
    "\n",
    "  [1],\n",
    "\n",
    "  [1, 1],\n",
    "\n",
    "  [1, 2, 1]\n",
    "\n",
    "]\n",
    " \n",
    "Input: numRows = 1\n",
    "\n",
    "Output: [\n",
    "\n",
    "  [1]\n",
    "\n",
    "]\n",
    "\n",
    " \n",
    "Input: numRows = 5\n",
    "\n",
    "Output: [\n",
    "\n",
    "  [1],\n",
    "\n",
    "  [1, 1],\n",
    "\n",
    "  [1, 2, 1],\n",
    "\n",
    "  [1, 3, 3, 1],\n",
    "\n",
    "  [1, 4, 6, 4, 1]\n",
    "  \n",
    "]"
   ]
  },
  {
   "cell_type": "code",
   "execution_count": 1,
   "metadata": {},
   "outputs": [
    {
     "name": "stdout",
     "output_type": "stream",
     "text": [
      "[[1], [1, 1], [1, 2, 1], [1, 3, 3, 1], [1, 4, 6, 4, 1]]\n"
     ]
    }
   ],
   "source": [
    "def generate_pascals_triangle(num):\n",
    "    triangle = []\n",
    "    for i in range(num):\n",
    "        row = [1]* (i+1)\n",
    "        for j in range(1,i):\n",
    "            row[j] = triangle[i-1][j-1]+triangle[i-1][j]\n",
    "        triangle.append(row)\n",
    "    return triangle\n",
    "\n",
    "print(generate_pascals_triangle(5))"
   ]
  },
  {
   "cell_type": "code",
   "execution_count": null,
   "metadata": {},
   "outputs": [],
   "source": []
  }
 ],
 "metadata": {
  "kernelspec": {
   "display_name": "Python 3",
   "language": "python",
   "name": "python3"
  },
  "language_info": {
   "codemirror_mode": {
    "name": "ipython",
    "version": 3
   },
   "file_extension": ".py",
   "mimetype": "text/x-python",
   "name": "python",
   "nbconvert_exporter": "python",
   "pygments_lexer": "ipython3",
   "version": "3.12.0"
  }
 },
 "nbformat": 4,
 "nbformat_minor": 2
}
