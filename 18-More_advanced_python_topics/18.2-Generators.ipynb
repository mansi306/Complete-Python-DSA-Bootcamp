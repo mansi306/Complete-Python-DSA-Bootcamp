{
 "cells": [
  {
   "cell_type": "markdown",
   "metadata": {},
   "source": [
    "### Generator \n",
    "Generator is a simple way of creating iterator . it uses a yeild keyword to produce a series of values easily \n",
    "which means they stores values in fly and not store in memory "
   ]
  },
  {
   "cell_type": "code",
   "execution_count": 23,
   "metadata": {},
   "outputs": [
    {
     "name": "stdout",
     "output_type": "stream",
     "text": [
      "0\n",
      "1\n",
      "4\n"
     ]
    }
   ],
   "source": [
    "def square(n):\n",
    "    for i in range(3):\n",
    "        yield i**2\n",
    "\n",
    "square(3)\n",
    "for i in square(3):\n",
    "    print(i)"
   ]
  },
  {
   "cell_type": "code",
   "execution_count": 24,
   "metadata": {},
   "outputs": [],
   "source": [
    "a = square(3)"
   ]
  },
  {
   "cell_type": "code",
   "execution_count": 25,
   "metadata": {},
   "outputs": [
    {
     "data": {
      "text/plain": [
       "0"
      ]
     },
     "execution_count": 25,
     "metadata": {},
     "output_type": "execute_result"
    }
   ],
   "source": [
    "next(a)"
   ]
  },
  {
   "cell_type": "code",
   "execution_count": 26,
   "metadata": {},
   "outputs": [
    {
     "data": {
      "text/plain": [
       "<generator object my_generator at 0x0000024F2341B480>"
      ]
     },
     "execution_count": 26,
     "metadata": {},
     "output_type": "execute_result"
    }
   ],
   "source": [
    "def my_generator():\n",
    "    yield 1\n",
    "    yield 2\n",
    "    yield 3\n",
    "    yield 4 \n",
    "\n",
    "gen = my_generator()\n",
    "gen\n"
   ]
  },
  {
   "cell_type": "code",
   "execution_count": 27,
   "metadata": {},
   "outputs": [
    {
     "data": {
      "text/plain": [
       "1"
      ]
     },
     "execution_count": 27,
     "metadata": {},
     "output_type": "execute_result"
    }
   ],
   "source": [
    "next(gen)"
   ]
  },
  {
   "cell_type": "code",
   "execution_count": 28,
   "metadata": {},
   "outputs": [
    {
     "name": "stdout",
     "output_type": "stream",
     "text": [
      "2\n",
      "3\n",
      "4\n"
     ]
    }
   ],
   "source": [
    "for val in gen:\n",
    "    print(val)"
   ]
  },
  {
   "cell_type": "markdown",
   "metadata": {},
   "source": [
    "## practical example - Reading a large files \n",
    "Generators are perticularly used for reading a large files because they allow you to process one line at a time without loading the entire file into memory "
   ]
  },
  {
   "cell_type": "code",
   "execution_count": 29,
   "metadata": {},
   "outputs": [],
   "source": [
    "def read_large_file(file_path):\n",
    "    with open(file_path,'r') as file :\n",
    "        for line in file :\n",
    "            yield line \n"
   ]
  },
  {
   "cell_type": "code",
   "execution_count": 31,
   "metadata": {},
   "outputs": [
    {
     "name": "stdout",
     "output_type": "stream",
     "text": [
      "Q*, pronounced \"Q-star,\" is an emerging AI model developed by OpenAI that has garnered significant attention for its advanced reasoning capabilities, particularly in solving mathematical problems. Unlike traditional AI models that often rely heavily on training data, Q* demonstrates the ability to achieve flawless accuracy on math tests without external aids, indicating a level of reasoning and problem-solving akin to human intelligence.\n",
      "SUPERANNOTATE\n",
      "\n",
      "The development of Q* has been associated with internal discussions at OpenAI regarding the rapid advancement of AI technologies and their potential implications. Reports suggest that concerns over the swift progress of systems like Q* contributed to significant organizational changes within the company.\n",
      "REUTERS\n",
      "\n",
      "Q* is believed to integrate concepts from A* (a search algorithm) and Q-learning (a reinforcement learning technique), enabling it to perform complex reasoning tasks. This integration allows Q* to navigate through complex information to find the most relevant responses, enhancing its problem-solving abilities beyond mere data repetition.\n",
      "SUPERANNOTATE\n",
      "\n",
      "The capabilities of Q* have led to discussions about its role in the pursuit of artificial general intelligence (AGI), which aims to create AI systems that can perform any intellectual task that a human can. The potential of Q* to generalize knowledge and apply it across various domains marks a significant step toward achieving AGI.\n",
      "SUPERANNOTATE\n",
      "\n",
      "While the full extent of Q*'s capabilities and its future applications remain to be seen, its development represents a notable advancement in AI research, highlighting the ongoing evolution of AI systems toward more human-like reasoning and problem-solving abilities.\n",
      "\n",
      "For a more in-depth understanding of Q* and its implications, you might find the following video informative:\n"
     ]
    }
   ],
   "source": [
    "file_path = 'large_file.txt'\n",
    "for line in read_large_file(file_path):\n",
    "    print(line.strip())"
   ]
  },
  {
   "cell_type": "code",
   "execution_count": null,
   "metadata": {},
   "outputs": [],
   "source": []
  }
 ],
 "metadata": {
  "kernelspec": {
   "display_name": "venv",
   "language": "python",
   "name": "python3"
  },
  "language_info": {
   "codemirror_mode": {
    "name": "ipython",
    "version": 3
   },
   "file_extension": ".py",
   "mimetype": "text/x-python",
   "name": "python",
   "nbconvert_exporter": "python",
   "pygments_lexer": "ipython3",
   "version": "3.12.0"
  }
 },
 "nbformat": 4,
 "nbformat_minor": 2
}
