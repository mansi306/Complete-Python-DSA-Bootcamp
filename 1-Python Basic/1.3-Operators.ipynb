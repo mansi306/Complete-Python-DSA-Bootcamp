{
 "cells": [
  {
   "cell_type": "markdown",
   "metadata": {},
   "source": [
    "\n",
    "1. Introduction to Operators\n",
    "2. Arithmetic Operators\n",
    "   - Addition\n",
    "   - Subtraction\n",
    "   - Multiplication\n",
    "   - Division\n",
    "   - Floor Division\n",
    "   - Modulus\n",
    "   - Exponentiation\n",
    "3. Comparison Operators\n",
    "   - Equal to\n",
    "   - Not equal to\n",
    "   - Greater than\n",
    "   - Less than\n",
    "   - Greater than or equal to \n",
    "   - Less than or equal to\n",
    "4. Logical Operators\n",
    "   - AND\n",
    "   - OR\n",
    "   - NOT\n",
    "5. Practical Examples and Common Errors"
   ]
  },
  {
   "cell_type": "code",
   "execution_count": 27,
   "metadata": {},
   "outputs": [
    {
     "name": "stdout",
     "output_type": "stream",
     "text": [
      "Addition of 10 and 5 is : 15\n",
      "Substraction of 10 and 5 is : 5\n",
      "Multiplication of 10 and 5 is : 50\n",
      "floor_div_result 10 and 5 is : 2\n",
      "Modulus of 10 and 5 is : 0\n",
      "Exponential of 10 and 5 is : 100000\n"
     ]
    }
   ],
   "source": [
    "## Arithmatic Operation \n",
    "a=10\n",
    "b=5\n",
    "add_result = a+b  # Addition operation \n",
    "sub_result = a-b  # Substraction operation\n",
    "mul_result = a*b  # Multiplication operation \n",
    "div_result = a/b  # Division operation \n",
    "floor_div_result = a//b #  floor division operation \n",
    "modulus_result = a%b # Modulus operation(remainder)\n",
    "exponential_result = a**b # Exponential operation\n",
    "print(f\"Addition of {a} and {b} is : {add_result}\")\n",
    "print(f\"Substraction of {a} and {b} is : {sub_result}\")\n",
    "print(f\"Multiplication of {a} and {b} is : {mul_result}\")\n",
    "print(f\"floor_div_result {a} and {b} is : {floor_div_result}\")\n",
    "print(f\"Modulus of {a} and {b} is : {modulus_result}\")\n",
    "print(f\"Exponential of {a} and {b} is : {exponential_result}\")\n"
   ]
  },
  {
   "cell_type": "markdown",
   "metadata": {},
   "source": [
    "### comparison operator "
   ]
  },
  {
   "cell_type": "code",
   "execution_count": 5,
   "metadata": {},
   "outputs": [
    {
     "data": {
      "text/plain": [
       "True"
      ]
     },
     "execution_count": 5,
     "metadata": {},
     "output_type": "execute_result"
    }
   ],
   "source": [
    "## Comparison operator \n",
    "a = 10\n",
    "b =10\n",
    "a==b\n",
    "\n",
    "#1) Equal to operator (==)\n",
    "str1 = \"mansi\"\n",
    "str2 = \"mansi\"\n",
    "str1==str2"
   ]
  },
  {
   "cell_type": "code",
   "execution_count": 7,
   "metadata": {},
   "outputs": [
    {
     "name": "stdout",
     "output_type": "stream",
     "text": [
      "False\n",
      "True\n"
     ]
    }
   ],
   "source": [
    "#2) Not equal to (!=):\n",
    "str1 = \"mansi\"\n",
    "str2 = \"Mansi\"\n",
    "print(str1==str2)\n",
    "print(str1!=str2)\n"
   ]
  },
  {
   "cell_type": "code",
   "execution_count": 14,
   "metadata": {},
   "outputs": [
    {
     "name": "stdout",
     "output_type": "stream",
     "text": [
      "True\n",
      "False\n",
      "True\n",
      "True\n"
     ]
    }
   ],
   "source": [
    "# 3) greater than(>):\n",
    "num1=34\n",
    "num2 = 23\n",
    "print(num1>num2)\n",
    "\n",
    "#4) less than (<):\n",
    "num1 = 23\n",
    "num2 = 12\n",
    "print(num1<num2)\n",
    "\n",
    "#5) greater than or equal to (>=)\n",
    "num1= 45\n",
    "num2 = 12\n",
    "print(num1>=num2)\n",
    "\n",
    "#6) less than or equal to (<=):\n",
    "num1 = 12\n",
    "num2 = 12\n",
    "print(num1<=num2)"
   ]
  },
  {
   "cell_type": "markdown",
   "metadata": {},
   "source": [
    "### Logical operators"
   ]
  },
  {
   "cell_type": "code",
   "execution_count": 23,
   "metadata": {},
   "outputs": [
    {
     "name": "stdout",
     "output_type": "stream",
     "text": [
      "False\n",
      "False\n",
      "False\n",
      "True\n"
     ]
    }
   ],
   "source": [
    "## AND , NOT , OR \n",
    "#1) AND operator\n",
    "x = False; y = False ; result1 = x and y \n",
    "x = False; y = True ; result2 = x and y \n",
    "x = True; y = False ; result3 = x and y \n",
    "x = True; y = True ; result4 = x and y \n",
    "print(result1)\n",
    "print(result2)\n",
    "print(result3)\n",
    "print(result4)"
   ]
  },
  {
   "cell_type": "code",
   "execution_count": 24,
   "metadata": {},
   "outputs": [
    {
     "name": "stdout",
     "output_type": "stream",
     "text": [
      "False\n",
      "True\n",
      "True\n",
      "True\n"
     ]
    }
   ],
   "source": [
    "#2) OR operation \n",
    "x = False; y = False ; result1 = x or y \n",
    "x = False; y = True ; result2 = x or y \n",
    "x = True; y = False ; result3 = x or y \n",
    "x = True; y = True ; result4 = x or y \n",
    "print(result1)\n",
    "print(result2)\n",
    "print(result3)\n",
    "print(result4)"
   ]
  },
  {
   "cell_type": "code",
   "execution_count": 26,
   "metadata": {},
   "outputs": [
    {
     "name": "stdout",
     "output_type": "stream",
     "text": [
      "False\n",
      "True\n"
     ]
    }
   ],
   "source": [
    "## NOT operation\n",
    "x = True\n",
    "print(not x)\n",
    "\n",
    "y = False\n",
    "print(not y)"
   ]
  },
  {
   "cell_type": "code",
   "execution_count": 28,
   "metadata": {},
   "outputs": [
    {
     "name": "stdout",
     "output_type": "stream",
     "text": [
      "Addition :  16.0\n",
      "Substraction :  8.0\n",
      "multiplication : 48.0\n",
      "Division : 3.0\n",
      "Floor_division : 3.0\n",
      "modulus : 0.0\n",
      "Exponentiation : 20736.0\n"
     ]
    }
   ],
   "source": [
    "## simple calculator \n",
    "num1 = float(input(\"Enter a first number : \"))\n",
    "num2 = float(input(\"Enter a second number : \"))\n",
    "## Performing Arithmatic operations \n",
    "addition = num1+num2\n",
    "substraction = num1-num2\n",
    "multiplication = num1*num2\n",
    "division = num1/num2 \n",
    "floor_division = num1//num2\n",
    "modulus = num1%num2\n",
    "exponentiation = num1**num2\n",
    "## Displaying result \n",
    "print(\"Addition : \",addition)\n",
    "print(\"Substraction : \",substraction)\n",
    "print(\"multiplication :\",multiplication)\n",
    "print(\"Division :\",division)\n",
    "print(\"Floor_division :\",floor_division)\n",
    "print(\"modulus :\",modulus)\n",
    "print(\"Exponentiation :\",exponentiation)"
   ]
  },
  {
   "cell_type": "code",
   "execution_count": null,
   "metadata": {},
   "outputs": [],
   "source": []
  }
 ],
 "metadata": {
  "kernelspec": {
   "display_name": "venv",
   "language": "python",
   "name": "python3"
  },
  "language_info": {
   "codemirror_mode": {
    "name": "ipython",
    "version": 3
   },
   "file_extension": ".py",
   "mimetype": "text/x-python",
   "name": "python",
   "nbconvert_exporter": "python",
   "pygments_lexer": "ipython3",
   "version": "3.12.0"
  }
 },
 "nbformat": 4,
 "nbformat_minor": 2
}
